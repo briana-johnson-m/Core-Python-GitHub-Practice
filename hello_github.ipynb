{
 "cells": [
  {
   "cell_type": "code",
   "execution_count": 1,
   "id": "0606bb64-a983-4c95-8dd9-9b0924e06519",
   "metadata": {},
   "outputs": [
    {
     "name": "stdout",
     "output_type": "stream",
     "text": [
      "Hello GitHub! This is my first commit.\n"
     ]
    }
   ],
   "source": [
    "print(\"Hello GitHub! This is my first commit.\")"
   ]
  },
  {
   "cell_type": "code",
   "execution_count": null,
   "id": "8a210ec0-520e-4bf8-a717-b708de15babe",
   "metadata": {},
   "outputs": [],
   "source": []
  }
 ],
 "metadata": {
  "kernelspec": {
   "display_name": "Python [conda env:base] *",
   "language": "python",
   "name": "conda-base-py"
  },
  "language_info": {
   "codemirror_mode": {
    "name": "ipython",
    "version": 3
   },
   "file_extension": ".py",
   "mimetype": "text/x-python",
   "name": "python",
   "nbconvert_exporter": "python",
   "pygments_lexer": "ipython3",
   "version": "3.12.7"
  }
 },
 "nbformat": 4,
 "nbformat_minor": 5
}
