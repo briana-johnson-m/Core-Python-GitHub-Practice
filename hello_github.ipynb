{
 "cells": [
  {
   "cell_type": "code",
   "execution_count": 1,
   "id": "0606bb64-a983-4c95-8dd9-9b0924e06519",
   "metadata": {},
   "outputs": [
    {
     "name": "stdout",
     "output_type": "stream",
     "text": [
      "Hello GitHub! This is my first commit.\n"
     ]
    }
   ],
   "source": [
    "print(\"Hello GitHub! This is my first commit.\")"
   ]
  },
  {
   "cell_type": "markdown",
   "id": "49c66d61-2396-4480-a701-77a6cd51e34d",
   "metadata": {},
   "source": [
    "# Core Python & GitHub Practice"
   ]
  },
  {
   "cell_type": "markdown",
   "id": "8d14d2a1-c4b7-482e-8889-f285850baf31",
   "metadata": {
    "jp-MarkdownHeadingCollapsed": true
   },
   "source": [
    "### Variables and Printing"
   ]
  },
  {
   "cell_type": "code",
   "execution_count": 4,
   "id": "769e8c20-f041-40f7-8192-c1bca4b35e15",
   "metadata": {},
   "outputs": [
    {
     "name": "stdout",
     "output_type": "stream",
     "text": [
      "Creating a string.\n"
     ]
    }
   ],
   "source": [
    "#Creating a string\n",
    "\n",
    "String = \"Creating a string.\"\n",
    "print(String)"
   ]
  },
  {
   "cell_type": "code",
   "execution_count": 5,
   "id": "d12f56a4-67bb-4830-87e6-38605abe8da5",
   "metadata": {},
   "outputs": [
    {
     "name": "stdout",
     "output_type": "stream",
     "text": [
      "10\n"
     ]
    }
   ],
   "source": [
    "#Creating an integer\n",
    "\n",
    "Integer = 10\n",
    "print(Integer)"
   ]
  },
  {
   "cell_type": "code",
   "execution_count": 6,
   "id": "e02eadd9-2ed7-47bd-99ec-05cd2b66341c",
   "metadata": {},
   "outputs": [
    {
     "name": "stdout",
     "output_type": "stream",
     "text": [
      "3.14\n"
     ]
    }
   ],
   "source": [
    "#Creating a float\n",
    "\n",
    "Float = 3.14\n",
    "print(Float)"
   ]
  },
  {
   "cell_type": "code",
   "execution_count": 7,
   "id": "67b570af-a23e-4be2-b427-1809062a0fa2",
   "metadata": {},
   "outputs": [
    {
     "name": "stdout",
     "output_type": "stream",
     "text": [
      "3\n"
     ]
    }
   ],
   "source": [
    "#Converting float to integer\n",
    "Convert_Float = int(10/3)\n",
    "print(Convert_Float)\n"
   ]
  },
  {
   "cell_type": "code",
   "execution_count": 8,
   "id": "9b6127c1-b017-4cdc-8911-97ef6e15d97a",
   "metadata": {},
   "outputs": [
    {
     "name": "stdout",
     "output_type": "stream",
     "text": [
      "5.0\n"
     ]
    }
   ],
   "source": [
    "#Converting integer to float\n",
    "Convert_Integer = float(10/2)\n",
    "print(Convert_Integer)"
   ]
  },
  {
   "cell_type": "code",
   "execution_count": 9,
   "id": "001826ae-24ed-40a2-a219-d7a5b6839683",
   "metadata": {},
   "outputs": [
    {
     "name": "stdout",
     "output_type": "stream",
     "text": [
      "3\n"
     ]
    }
   ],
   "source": [
    "#Round floats\n",
    "\n",
    "Round = round(3.3333333333333)\n",
    "print(Round)"
   ]
  },
  {
   "cell_type": "code",
   "execution_count": 10,
   "id": "c40e67fd-0b5d-45cc-a82e-edb380188b2a",
   "metadata": {},
   "outputs": [
    {
     "name": "stdout",
     "output_type": "stream",
     "text": [
      "I was able to convert to an float: 5.0, and convert to a integer: 3.\n"
     ]
    }
   ],
   "source": [
    "#Explaing with f-string\n",
    "print(f'I was able to convert to an float: {Convert_Integer}, and convert to a integer: {Convert_Float}.')"
   ]
  },
  {
   "cell_type": "code",
   "execution_count": 11,
   "id": "62a0a897-39fd-43ee-a60f-b32ef9b2e860",
   "metadata": {},
   "outputs": [
    {
     "name": "stdout",
     "output_type": "stream",
     "text": [
      "BRIANA JOHNSON\n",
      "briana johnson\n"
     ]
    }
   ],
   "source": [
    "#Displaying string as all caps and lowercase\n",
    "\n",
    "name = \"Briana Johnson\"\n",
    "capitalized_name = name.upper()\n",
    "lowercased_name = name.lower()\n",
    "print(capitalized_name)\n",
    "print(lowercased_name)"
   ]
  },
  {
   "cell_type": "markdown",
   "id": "95abc972-525a-49f2-8574-5631c4b08594",
   "metadata": {},
   "source": [
    "GitHub Commit"
   ]
  },
  {
   "cell_type": "markdown",
   "id": "407afe35-be21-4276-b843-601b296df51a",
   "metadata": {},
   "source": [
    "### List & Loops"
   ]
  },
  {
   "cell_type": "code",
   "execution_count": 14,
   "id": "7d2dd7df-f26a-4fb8-9893-0dddd67eafa8",
   "metadata": {
    "scrolled": true
   },
   "outputs": [
    {
     "name": "stdout",
     "output_type": "stream",
     "text": [
      "['pothos', 'pony tail palm', 'peace lily']\n"
     ]
    },
    {
     "data": {
      "text/plain": [
       "10"
      ]
     },
     "execution_count": 14,
     "metadata": {},
     "output_type": "execute_result"
    }
   ],
   "source": [
    "#Creating a List, determining length\n",
    "plants = ['pothos', 'pony tail palm', 'peace lily', 'fiddle leaf fig', 'eastern red bud', 'vincas', 'jade plant', 'barrel cactus', 'zee zee', 'rose']\n",
    "print(plants[:3])\n",
    "len(plants)"
   ]
  },
  {
   "cell_type": "code",
   "execution_count": 15,
   "id": "11d610e1-e13b-4d94-b0a3-296ef5096a5d",
   "metadata": {},
   "outputs": [
    {
     "name": "stdout",
     "output_type": "stream",
     "text": [
      "false\n",
      "true\n"
     ]
    }
   ],
   "source": [
    "#If/Else\n",
    "\n",
    "if len(plants) > 11:\n",
    "    print('true')\n",
    "else:\n",
    "    print('false')\n",
    "if len(plants) < 11:\n",
    "    print('true')\n",
    "else:\n",
    "    print('false')"
   ]
  },
  {
   "cell_type": "code",
   "execution_count": 16,
   "id": "9ac6922e-1e63-424c-9415-63f6b6d4e3c5",
   "metadata": {},
   "outputs": [
    {
     "name": "stdout",
     "output_type": "stream",
     "text": [
      "pothos\n",
      "pony tail palm\n",
      "peace lily\n",
      "fiddle leaf fig\n",
      "eastern red bud\n",
      "vincas\n",
      "jade plant\n",
      "barrel cactus\n",
      "zee zee\n",
      "rose\n"
     ]
    }
   ],
   "source": [
    "#Loop: prints each item on a new line\n",
    "for plant in plants:\n",
    "    print(plant)"
   ]
  },
  {
   "cell_type": "code",
   "execution_count": 17,
   "id": "0cc87b71-5b2a-4f03-a4a6-f44ac9747b45",
   "metadata": {},
   "outputs": [
    {
     "name": "stdout",
     "output_type": "stream",
     "text": [
      "pothos\n",
      "pony tail palm\n",
      "peace lily\n",
      "fiddle leaf fig\n",
      "eastern red bud\n",
      "vincas\n",
      "jade plant\n",
      "barrel cactus\n",
      "zee zee\n"
     ]
    }
   ],
   "source": [
    "#Loop: prints only plants with names longer than 5 characters\n",
    "\n",
    "for plant in plants:\n",
    "    if len(plant) > 5:\n",
    "        print(plant)"
   ]
  },
  {
   "cell_type": "markdown",
   "id": "f5b7d668-2d46-4f21-9b81-bee529dd43c0",
   "metadata": {},
   "source": [
    "GitHub Commit"
   ]
  },
  {
   "cell_type": "markdown",
   "id": "37d0eda8-8211-4c89-8599-95d9d6c6a211",
   "metadata": {},
   "source": [
    "### Functions "
   ]
  },
  {
   "cell_type": "code",
   "execution_count": 287,
   "id": "12c52a3f-07ad-41d1-a417-8de5aee2428f",
   "metadata": {},
   "outputs": [
    {
     "name": "stdout",
     "output_type": "stream",
     "text": [
      "10 peace lily\n",
      "10 jade plant\n",
      "13 barrel cactus\n",
      "14 pony tail palm\n",
      "15 fiddle leaf fig\n",
      "15 eastern red bud\n"
     ]
    }
   ],
   "source": [
    "# Function to count and sort long names and returns how many plants are longer than 7 letters\n",
    "for plant in sorted(plants, key=len):\n",
    "    if len(plant) > 7:\n",
    "        print(len((plant)), (plant))\n",
    "        "
   ]
  },
  {
   "cell_type": "code",
   "execution_count": 292,
   "id": "f37fc713-9153-40dd-9a3e-f7c931206abf",
   "metadata": {},
   "outputs": [
    {
     "name": "stdout",
     "output_type": "stream",
     "text": [
      "10.0\n"
     ]
    }
   ],
   "source": [
    "# Function that returns the average number of characters per plant name\n",
    "def average_length(plants):\n",
    "    total_chars = 0\n",
    "    for plant in plants:\n",
    "        total_chars += len(plant)\n",
    "    return total_chars / len(plants)\n",
    "print(average_length(plants))"
   ]
  }
 ],
 "metadata": {
  "kernelspec": {
   "display_name": "Python [conda env:base] *",
   "language": "python",
   "name": "conda-base-py"
  },
  "language_info": {
   "codemirror_mode": {
    "name": "ipython",
    "version": 3
   },
   "file_extension": ".py",
   "mimetype": "text/x-python",
   "name": "python",
   "nbconvert_exporter": "python",
   "pygments_lexer": "ipython3",
   "version": "3.12.7"
  }
 },
 "nbformat": 4,
 "nbformat_minor": 5
}
