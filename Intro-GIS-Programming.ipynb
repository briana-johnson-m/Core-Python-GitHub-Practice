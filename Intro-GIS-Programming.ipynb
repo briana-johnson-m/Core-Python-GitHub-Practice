{
 "cells": [
  {
   "cell_type": "markdown",
   "id": "080357ab",
   "metadata": {},
   "source": [
    "# Briana Johnson\n",
    "GIS Programming  \n",
    "Term: ODU Fall 2025   \n",
    "Course: GEOG 600 -> GEOG 697  \n",
    "Instructor: Dr. Tom Allen  \n",
    "Resource: Introduction to GIS Programming: A Practical Python Guide to Open Source Geospatial Tools by Qiusheng Wu  \n",
    "Purpose: This notebook serves to execute geospatial practice and challenge exercises.  "
   ]
  },
  {
   "cell_type": "markdown",
   "id": "ff00520a",
   "metadata": {},
   "source": [
    "## Python Programming Fundamentals"
   ]
  },
  {
   "cell_type": "code",
   "execution_count": 19,
   "id": "93b305b3",
   "metadata": {},
   "outputs": [],
   "source": [
    "# Modules added as used in chapter \n",
    "\n",
    "import math"
   ]
  },
  {
   "cell_type": "markdown",
   "id": "cd5f3dcd",
   "metadata": {},
   "source": [
    "### Variables and Data Types"
   ]
  },
  {
   "cell_type": "markdown",
   "id": "9e33dcbb",
   "metadata": {},
   "source": [
    "#### Variables "
   ]
  },
  {
   "cell_type": "code",
   "execution_count": 20,
   "id": "29eccc4f",
   "metadata": {},
   "outputs": [
    {
     "data": {
      "text/plain": [
       "120"
      ]
     },
     "execution_count": 20,
     "metadata": {},
     "output_type": "execute_result"
    }
   ],
   "source": [
    "# Starting by creating a variable to represent the number of spatial points in a dataset\n",
    "\n",
    "num_points = 120\n",
    "num_points"
   ]
  },
  {
   "cell_type": "markdown",
   "id": "5c4f901e",
   "metadata": {},
   "source": [
    "#### Geospatial variable examples"
   ]
  },
  {
   "cell_type": "code",
   "execution_count": 21,
   "id": "824cfc2f",
   "metadata": {},
   "outputs": [],
   "source": [
    "# latitude = 42.3601\n",
    "# longitude = -71.0589\n",
    "# evelation = 147.2\n",
    "# city_name = 'Boston'\n",
    "# population = 685094\n",
    "# coordinate_system = 'WGS 84'"
   ]
  },
  {
   "cell_type": "markdown",
   "id": "a4f994a4",
   "metadata": {},
   "source": [
    "#### Common geospatial data types (abbreviated to not assign until used in future exercices.)\n"
   ]
  },
  {
   "cell_type": "code",
   "execution_count": 29,
   "id": "c8041d92",
   "metadata": {},
   "outputs": [],
   "source": [
    "num_features = 500 # Integers      Represents # of features in a geospatial dataset\n",
    "latitude = 353.6895 # Float      Represents the latitude of a point on Earth's surface\n",
    "longitude = 139.6917 # Float      Represents the longitude of a point on Earth's surface\n",
    "coordinate_system = 'WGS 84' # String       Represents a commonly used coordinate system\n",
    "is_georegerenced = True # Boolean      Indicates whether a dataset is georeferenced\n",
    "coordinates = [\n",
    "    35.6895,\n",
    "    139.6917,\n",
    "    ]  # List of floats         Represents a pair of latitude and longitude coordinates\n",
    "feature_attributes = {\n",
    "    'name' : 'Mount Fuji',\n",
    "    'height_meters' : 3776,\n",
    "    'type' : 'Stratovolcano',\n",
    "    'location' : [35.606, 138.7274],\n",
    "} # Dictionary    Represents attributes of a geospatial feature"
   ]
  },
  {
   "cell_type": "markdown",
   "id": "a3b1f5fe",
   "metadata": {},
   "source": [
    "#### Escape Characters"
   ]
  },
  {
   "cell_type": "code",
   "execution_count": 23,
   "id": "4fb36b5a",
   "metadata": {},
   "outputs": [
    {
     "name": "stdout",
     "output_type": "stream",
     "text": [
      "Hello World!\n",
      "Welcome to GIS Programming.\n",
      "Hello World!\n",
      "\tWelcome to GIS Programming.\n"
     ]
    }
   ],
   "source": [
    "# inserting illegal characters in a string\n",
    "\n",
    "# Inserting a new line\n",
    "print(\"Hello World!\\nWelcome to GIS Programming.\")\n",
    "\n",
    "# Inserting a tab\n",
    "print(\"Hello World!\\n\\tWelcome to GIS Programming.\")"
   ]
  },
  {
   "cell_type": "markdown",
   "id": "a9a6f2e1",
   "metadata": {},
   "source": [
    "#### Working With Variables and Data Types"
   ]
  },
  {
   "cell_type": "code",
   "execution_count": 24,
   "id": "53690fd7",
   "metadata": {},
   "outputs": [
    {
     "name": "stdout",
     "output_type": "stream",
     "text": [
      "Updated number of features: 520\n"
     ]
    }
   ],
   "source": [
    "#  Updating a constant to the number of features\n",
    "\n",
    "num_features += 20\n",
    "print(\"Updated number of features:\", num_features)"
   ]
  },
  {
   "cell_type": "code",
   "execution_count": 28,
   "id": "54d57648",
   "metadata": {},
   "outputs": [
    {
     "name": "stdout",
     "output_type": "stream",
     "text": [
      "Latitude in radians: 0.6228992833905163\n"
     ]
    }
   ],
   "source": [
    "# import math module above\n",
    "# Conveting latitude fro degrees to radians\n",
    "\n",
    "latitude = 35.6895\n",
    "latitude_radians = math.radians(latitude)\n",
    "print(\"Latitude in radians:\", latitude_radians)"
   ]
  },
  {
   "cell_type": "code",
   "execution_count": 26,
   "id": "9d8afd6e",
   "metadata": {},
   "outputs": [
    {
     "name": "stdout",
     "output_type": "stream",
     "text": [
      "Udated coordinates from list: [35.6895, 139.6917, 34.0522, -118.2437]\n"
     ]
    }
   ],
   "source": [
    "# Adding a new coordinates to the list of coordinates using the append() method:\n",
    "\n",
    "coordinates.append(34.0522) # Adding latitude for Los Angeles\n",
    "coordinates.append(-118.2437) # Adding longitude for Los Angeles\n",
    "print(\"Udated coordinates from list:\", coordinates)"
   ]
  },
  {
   "cell_type": "code",
   "execution_count": 30,
   "id": "a4e3c0db",
   "metadata": {},
   "outputs": [
    {
     "name": "stdout",
     "output_type": "stream",
     "text": [
      "Mount Fuji is 3776 meters tall.\n"
     ]
    }
   ],
   "source": [
    "# Accessing dictionary elements using the [] operator:\n",
    "\n",
    "mount_fuji_name = feature_attributes['name']\n",
    "mount_fuji_height = feature_attributes['height_meters']\n",
    "print(f'{mount_fuji_name} is {mount_fuji_height} meters tall.')"
   ]
  },
  {
   "cell_type": "markdown",
   "id": "b1abc483",
   "metadata": {},
   "source": [
    "#### Basic String Operations"
   ]
  },
  {
   "cell_type": "code",
   "execution_count": 36,
   "id": "7c469f97",
   "metadata": {},
   "outputs": [
    {
     "name": "stdout",
     "output_type": "stream",
     "text": [
      "Lowercase: san francisco\n",
      "Uppercase: SAN FRANCISCO\n",
      "Title case San Francisco\n"
     ]
    }
   ],
   "source": [
    "# Changing Case of Strings\n",
    "\n",
    "city_name = 'SaN FrAncIsco'\n",
    "city_lowercase = city_name.lower()\n",
    "print('Lowercase:', city_lowercase)\n",
    "\n",
    "city_uppercase = city_name.upper()\n",
    "print('Uppercase:', city_uppercase)\n",
    "\n",
    "city_title = city_name.title()\n",
    "print('Title case', city_title)"
   ]
  },
  {
   "cell_type": "code",
   "execution_count": 37,
   "id": "11a78b66",
   "metadata": {},
   "outputs": [
    {
     "name": "stdout",
     "output_type": "stream",
     "text": [
      "Original: San Franciso\n",
      "Modified: Los Franciso\n"
     ]
    }
   ],
   "source": [
    "# Replacing Text\n",
    "\n",
    "original_city = 'San Franciso'\n",
    "new_city = original_city.replace('San', 'Los')\n",
    "print('Original:', original_city)\n",
    "print('Modified:', new_city)"
   ]
  },
  {
   "cell_type": "code",
   "execution_count": 38,
   "id": "3d59c316",
   "metadata": {},
   "outputs": [
    {
     "name": "stdout",
     "output_type": "stream",
     "text": [
      "Cleaned Mount Everest\n"
     ]
    }
   ],
   "source": [
    "# Other useful string methods\n",
    "location_data = \"  Mount Everest  \"\n",
    "\n",
    "# Remove whiespace\n",
    "\n",
    "clean_location = location_data.strip()\n",
    "print('Cleaned', clean_location)"
   ]
  },
  {
   "cell_type": "markdown",
   "id": "32e2b771",
   "metadata": {},
   "source": [
    "#### Exercise 1: Variable Assignment and Basic Operations"
   ]
  },
  {
   "cell_type": "markdown",
   "id": "61df6c41",
   "metadata": {},
   "source": [
    "##### Create variables to store the following geospatial data:\n",
    "\n",
    "The latitude and longitude of New York City: 40.7128, -74.0060.  \n",
    "The population of New York City: 8,336,817.  \n",
    "The area of New York City in square kilometers: 783.8.  \n",
    "\n",
    "Perform the following tasks:  \n",
    "1. Calculate and print the population density of New York City (population per square kilometers).   \n",
    "2. Print the coordinates in the format \"Latitude: [latitude], Longitude: [longitude]\"."
   ]
  },
  {
   "cell_type": "code",
   "execution_count": null,
   "id": "afd13fea",
   "metadata": {},
   "outputs": [],
   "source": [
    "city = 'New York City'\n",
    "latitude = 40.8128\n",
    "longitude = -74.0060\n",
    "population = 8336817\n",
    "area_sqmi = 783.8"
   ]
  },
  {
   "cell_type": "code",
   "execution_count": 5,
   "id": "e4e1b868",
   "metadata": {},
   "outputs": [
    {
     "name": "stdout",
     "output_type": "stream",
     "text": [
      "Population per Square Mile: 10636.408522582293\n"
     ]
    }
   ],
   "source": [
    "population_density = (population/area_sqmi)\n",
    "\n",
    "print('Population per Square Mile:', population_density)\n"
   ]
  },
  {
   "cell_type": "code",
   "execution_count": 6,
   "id": "0506d03e",
   "metadata": {},
   "outputs": [
    {
     "name": "stdout",
     "output_type": "stream",
     "text": [
      "Latitude: 40.8128\n",
      "Longitude: -74.006\n"
     ]
    }
   ],
   "source": [
    "print('Latitude:', latitude)\n",
    "print('Longitude:', longitude)"
   ]
  },
  {
   "cell_type": "markdown",
   "id": "a8212ec0",
   "metadata": {},
   "source": [
    "##### Exercise 2: Working with Strings  \n",
    "\n",
    "Create a string variable to store thename of a city such as 'New York City'. Perform the following operations:  \n",
    "1. Convert the string to lowercase and print result.  \n",
    "2. Convert the string to uppercase and print result.\n",
    "3. Replace 'New York' with 'Los Angeles' in the city name and print the new string."
   ]
  },
  {
   "cell_type": "code",
   "execution_count": 9,
   "id": "483244cf",
   "metadata": {},
   "outputs": [
    {
     "name": "stdout",
     "output_type": "stream",
     "text": [
      "Original: new york city\n",
      "Modified: NEW YORK CITY\n"
     ]
    }
   ],
   "source": [
    "city_lowercase = city.lower()\n",
    "city_uppercase = city.upper()\n",
    "\n",
    "print('Original:', city_lowercase)\n",
    "print('Modified:', city_uppercase)"
   ]
  },
  {
   "cell_type": "code",
   "execution_count": 16,
   "id": "6b35f70f",
   "metadata": {},
   "outputs": [
    {
     "name": "stdout",
     "output_type": "stream",
     "text": [
      "Changed from New York City to Los Angeles.\n"
     ]
    }
   ],
   "source": [
    "new_city = city.replace('New York City', 'Los Angeles')\n",
    "print(f'Changed from {city} to {new_city}.')"
   ]
  },
  {
   "cell_type": "markdown",
   "id": "068faf71",
   "metadata": {},
   "source": [
    "### Python Data Structures"
   ]
  },
  {
   "cell_type": "markdown",
   "id": "2c016d37",
   "metadata": {},
   "source": [
    "#### Tuples"
   ]
  },
  {
   "cell_type": "code",
   "execution_count": 18,
   "id": "d79aab9f",
   "metadata": {},
   "outputs": [
    {
     "name": "stdout",
     "output_type": "stream",
     "text": [
      "(35.6895, 139.6917)\n"
     ]
    }
   ],
   "source": [
    "# Tuples are created with () with elements separated by a comma.\n",
    "\n",
    "tokyo_point = (\n",
    "    35.6895,\n",
    "    139.6917,\n",
    ")   #Tuple  representing Tokyo's cooridates: (latitude, longitude)\n",
    "\n",
    "print(tokyo_point)"
   ]
  },
  {
   "cell_type": "code",
   "execution_count": 19,
   "id": "0ea3ec8f",
   "metadata": {},
   "outputs": [
    {
     "name": "stdout",
     "output_type": "stream",
     "text": [
      "Latitude: 35.6895\n",
      "Longitude: 139.6917\n"
     ]
    }
   ],
   "source": [
    "# Acessing individual elements in a tuple using indexing, where the first element is at index 0: \n",
    "\n",
    "latitude = tokyo_point[0]\n",
    "longitude = tokyo_point[1]\n",
    "\n",
    "print(f'Latitude: {latitude}')\n",
    "print(f'Longitude: {longitude}')"
   ]
  },
  {
   "cell_type": "code",
   "execution_count": 21,
   "id": "4d04123d",
   "metadata": {},
   "outputs": [
    {
     "name": "stdout",
     "output_type": "stream",
     "text": [
      "Tokyo is located at 35.6895 N, 139.6917 S.\n"
     ]
    }
   ],
   "source": [
    "# Unpacking tuples into 2 variables\n",
    "\n",
    "lat, lon = tokyo_point\n",
    "print(f'Tokyo is located at {lat} N, {lon} S.')"
   ]
  },
  {
   "cell_type": "code",
   "execution_count": 22,
   "id": "58e9cef2",
   "metadata": {},
   "outputs": [
    {
     "name": "stdout",
     "output_type": "stream",
     "text": [
      "New York: (40.7128, -74.006)\n",
      "London: (51.5074, -0.1278)\n",
      "Sydney: (-33.8688, 151.2093)\n"
     ]
    }
   ],
   "source": [
    "# Multiple Cooridates Points as tuples\n",
    "\n",
    "new_york = (40.7128, -74.0060)\n",
    "london = (51.5074, -0.1278)\n",
    "sydney = (-33.8688, 151.2093)\n",
    "\n",
    "print(f'New York: {new_york}')\n",
    "print(f'London: {london}')\n",
    "print(f'Sydney: {sydney}')"
   ]
  },
  {
   "cell_type": "code",
   "execution_count": null,
   "id": "874aaac8",
   "metadata": {},
   "outputs": [],
   "source": []
  }
 ],
 "metadata": {
  "kernelspec": {
   "display_name": "geo",
   "language": "python",
   "name": "python3"
  },
  "language_info": {
   "codemirror_mode": {
    "name": "ipython",
    "version": 3
   },
   "file_extension": ".py",
   "mimetype": "text/x-python",
   "name": "python",
   "nbconvert_exporter": "python",
   "pygments_lexer": "ipython3",
   "version": "3.12.9"
  }
 },
 "nbformat": 4,
 "nbformat_minor": 5
}
