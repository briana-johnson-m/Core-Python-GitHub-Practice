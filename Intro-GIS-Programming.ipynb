{
 "cells": [
  {
   "cell_type": "markdown",
   "id": "080357ab",
   "metadata": {},
   "source": [
    "# Briana Johnson\n",
    "GIS Programming  \n",
    "Term: ODU Fall 2025   \n",
    "Course: GEOG 600 -> GEOG 697  \n",
    "Instructor: Dr. Tom Allen  \n",
    "Resource: Introduction to GIS Programming: A Practical Python Guide to Open Source Geospatial Tools by Qiusheng Wu  \n",
    "Purpose: This notebook serves to execute geospatial practice and challenge exercises.  "
   ]
  },
  {
   "cell_type": "markdown",
   "id": "ff00520a",
   "metadata": {},
   "source": [
    "## Python Programming Fundamentals"
   ]
  },
  {
   "cell_type": "markdown",
   "id": "4316e3b1",
   "metadata": {},
   "source": [
    "Modules"
   ]
  },
  {
   "cell_type": "code",
   "execution_count": 1,
   "id": "93b305b3",
   "metadata": {
    "vscode": {
     "languageId": "shellscript"
    }
   },
   "outputs": [],
   "source": [
    "# Modules added as used in chapter \n",
    "\n",
    "import math\n",
    "import datetime\n",
    "import random"
   ]
  },
  {
   "cell_type": "markdown",
   "id": "244facf3",
   "metadata": {},
   "source": [
    "## Chapter 8  \n",
    "Variables and Data Types "
   ]
  },
  {
   "cell_type": "markdown",
   "id": "9e33dcbb",
   "metadata": {},
   "source": [
    "##### Variables "
   ]
  },
  {
   "cell_type": "code",
   "execution_count": 2,
   "id": "29eccc4f",
   "metadata": {
    "vscode": {
     "languageId": "shellscript"
    }
   },
   "outputs": [
    {
     "data": {
      "text/plain": [
       "120"
      ]
     },
     "execution_count": 2,
     "metadata": {},
     "output_type": "execute_result"
    }
   ],
   "source": [
    "# Starting by creating a variable to represent the number of spatial points in a dataset\n",
    "\n",
    "num_points = 120\n",
    "num_points"
   ]
  },
  {
   "cell_type": "markdown",
   "id": "5c4f901e",
   "metadata": {},
   "source": [
    "##### Geospatial variable examples"
   ]
  },
  {
   "cell_type": "code",
   "execution_count": 3,
   "id": "824cfc2f",
   "metadata": {
    "vscode": {
     "languageId": "shellscript"
    }
   },
   "outputs": [],
   "source": [
    "# latitude = 42.3601\n",
    "# longitude = -71.0589\n",
    "# evelation = 147.2\n",
    "# city_name = 'Boston'\n",
    "# population = 685094\n",
    "# coordinate_system = 'WGS 84'"
   ]
  },
  {
   "cell_type": "markdown",
   "id": "a4f994a4",
   "metadata": {},
   "source": [
    "##### Common geospatial data types (abbreviated to not assign until used in future exercices.)\n"
   ]
  },
  {
   "cell_type": "code",
   "execution_count": 4,
   "id": "c8041d92",
   "metadata": {
    "vscode": {
     "languageId": "shellscript"
    }
   },
   "outputs": [],
   "source": [
    "num_features = 500 # Integers      Represents # of features in a geospatial dataset\n",
    "latitude = 353.6895 # Float      Represents the latitude of a point on Earth's surface\n",
    "longitude = 139.6917 # Float      Represents the longitude of a point on Earth's surface\n",
    "coordinate_system = 'WGS 84' # String       Represents a commonly used coordinate system\n",
    "is_georegerenced = True # Boolean      Indicates whether a dataset is georeferenced\n",
    "coordinates = [\n",
    "    35.6895,\n",
    "    139.6917,\n",
    "    ]  # List of floats         Represents a pair of latitude and longitude coordinates\n",
    "feature_attributes = {\n",
    "    'name' : 'Mount Fuji',\n",
    "    'height_meters' : 3776,\n",
    "    'type' : 'Stratovolcano',\n",
    "    'location' : [35.606, 138.7274],\n",
    "} # Dictionary    Represents attributes of a geospatial feature"
   ]
  },
  {
   "cell_type": "markdown",
   "id": "a3b1f5fe",
   "metadata": {},
   "source": [
    "##### Escape Characters"
   ]
  },
  {
   "cell_type": "code",
   "execution_count": 5,
   "id": "4fb36b5a",
   "metadata": {
    "vscode": {
     "languageId": "shellscript"
    }
   },
   "outputs": [
    {
     "name": "stdout",
     "output_type": "stream",
     "text": [
      "Hello World!\n",
      "Welcome to GIS Programming.\n",
      "Hello World!\n",
      "\tWelcome to GIS Programming.\n"
     ]
    }
   ],
   "source": [
    "# inserting illegal characters in a string\n",
    "\n",
    "# Inserting a new line\n",
    "print(\"Hello World!\\nWelcome to GIS Programming.\")\n",
    "\n",
    "# Inserting a tab\n",
    "print(\"Hello World!\\n\\tWelcome to GIS Programming.\")"
   ]
  },
  {
   "cell_type": "markdown",
   "id": "a9a6f2e1",
   "metadata": {},
   "source": [
    "##### Working With Variables and Data Types"
   ]
  },
  {
   "cell_type": "code",
   "execution_count": 6,
   "id": "53690fd7",
   "metadata": {
    "vscode": {
     "languageId": "shellscript"
    }
   },
   "outputs": [
    {
     "name": "stdout",
     "output_type": "stream",
     "text": [
      "Updated number of features: 520\n"
     ]
    }
   ],
   "source": [
    "#  Updating a constant to the number of features\n",
    "\n",
    "num_features += 20\n",
    "print(\"Updated number of features:\", num_features)"
   ]
  },
  {
   "cell_type": "code",
   "execution_count": 7,
   "id": "54d57648",
   "metadata": {
    "vscode": {
     "languageId": "shellscript"
    }
   },
   "outputs": [
    {
     "name": "stdout",
     "output_type": "stream",
     "text": [
      "Latitude in radians: 0.6228992833905163\n"
     ]
    }
   ],
   "source": [
    "# import math module above\n",
    "# Conveting latitude fro degrees to radians\n",
    "\n",
    "latitude = 35.6895\n",
    "latitude_radians = math.radians(latitude)\n",
    "print(\"Latitude in radians:\", latitude_radians)"
   ]
  },
  {
   "cell_type": "code",
   "execution_count": 8,
   "id": "9d8afd6e",
   "metadata": {
    "vscode": {
     "languageId": "shellscript"
    }
   },
   "outputs": [
    {
     "name": "stdout",
     "output_type": "stream",
     "text": [
      "Udated coordinates from list: [35.6895, 139.6917, 34.0522, -118.2437]\n"
     ]
    }
   ],
   "source": [
    "# Adding a new coordinates to the list of coordinates using the append() method:\n",
    "\n",
    "coordinates.append(34.0522) # Adding latitude for Los Angeles\n",
    "coordinates.append(-118.2437) # Adding longitude for Los Angeles\n",
    "print(\"Udated coordinates from list:\", coordinates)"
   ]
  },
  {
   "cell_type": "code",
   "execution_count": 9,
   "id": "a4e3c0db",
   "metadata": {
    "vscode": {
     "languageId": "shellscript"
    }
   },
   "outputs": [
    {
     "name": "stdout",
     "output_type": "stream",
     "text": [
      "Mount Fuji is 3776 meters tall.\n"
     ]
    }
   ],
   "source": [
    "# Accessing dictionary elements using the [] operator:\n",
    "\n",
    "mount_fuji_name = feature_attributes['name']\n",
    "mount_fuji_height = feature_attributes['height_meters']\n",
    "print(f'{mount_fuji_name} is {mount_fuji_height} meters tall.')"
   ]
  },
  {
   "cell_type": "markdown",
   "id": "b1abc483",
   "metadata": {},
   "source": [
    "##### Basic String Operations"
   ]
  },
  {
   "cell_type": "code",
   "execution_count": 10,
   "id": "7c469f97",
   "metadata": {
    "vscode": {
     "languageId": "shellscript"
    }
   },
   "outputs": [
    {
     "name": "stdout",
     "output_type": "stream",
     "text": [
      "Lowercase: san francisco\n",
      "Uppercase: SAN FRANCISCO\n",
      "Title case San Francisco\n"
     ]
    }
   ],
   "source": [
    "# Changing Case of Strings\n",
    "\n",
    "city_name = 'SaN FrAncIsco'\n",
    "city_lowercase = city_name.lower()\n",
    "print('Lowercase:', city_lowercase)\n",
    "\n",
    "city_uppercase = city_name.upper()\n",
    "print('Uppercase:', city_uppercase)\n",
    "\n",
    "city_title = city_name.title()\n",
    "print('Title case', city_title)"
   ]
  },
  {
   "cell_type": "code",
   "execution_count": 11,
   "id": "11a78b66",
   "metadata": {
    "vscode": {
     "languageId": "shellscript"
    }
   },
   "outputs": [
    {
     "name": "stdout",
     "output_type": "stream",
     "text": [
      "Original: San Franciso\n",
      "Modified: Los Franciso\n"
     ]
    }
   ],
   "source": [
    "# Replacing Text\n",
    "\n",
    "original_city = 'San Franciso'\n",
    "new_city = original_city.replace('San', 'Los')\n",
    "print('Original:', original_city)\n",
    "print('Modified:', new_city)"
   ]
  },
  {
   "cell_type": "code",
   "execution_count": 12,
   "id": "3d59c316",
   "metadata": {
    "vscode": {
     "languageId": "shellscript"
    }
   },
   "outputs": [
    {
     "name": "stdout",
     "output_type": "stream",
     "text": [
      "Cleaned Mount Everest\n"
     ]
    }
   ],
   "source": [
    "# Other useful string methods\n",
    "location_data = \"  Mount Everest  \"\n",
    "\n",
    "# Remove whiespace\n",
    "\n",
    "clean_location = location_data.strip()\n",
    "print('Cleaned', clean_location)"
   ]
  },
  {
   "cell_type": "markdown",
   "id": "32e2b771",
   "metadata": {},
   "source": [
    "##### Exercises: Variable Assignment and Basic Operations"
   ]
  },
  {
   "cell_type": "markdown",
   "id": "61df6c41",
   "metadata": {},
   "source": [
    "###### Exercise 1: Create variables to store the following geospatial data:\n",
    "\n",
    "The latitude and longitude of New York City: 40.7128, -74.0060.  \n",
    "The population of New York City: 8,336,817.  \n",
    "The area of New York City in square kilometers: 783.8.  \n",
    "\n",
    "Perform the following tasks:  \n",
    "1. Calculate and print the population density of New York City (population per square kilometers).   \n",
    "2. Print the coordinates in the format \"Latitude: [latitude], Longitude: [longitude]\"."
   ]
  },
  {
   "cell_type": "code",
   "execution_count": 13,
   "id": "afd13fea",
   "metadata": {
    "vscode": {
     "languageId": "shellscript"
    }
   },
   "outputs": [],
   "source": [
    "city = 'New York City'\n",
    "latitude = 40.8128\n",
    "longitude = -74.0060\n",
    "population = 8336817\n",
    "area_sqmi = 783.8"
   ]
  },
  {
   "cell_type": "code",
   "execution_count": 14,
   "id": "e4e1b868",
   "metadata": {
    "vscode": {
     "languageId": "shellscript"
    }
   },
   "outputs": [
    {
     "name": "stdout",
     "output_type": "stream",
     "text": [
      "Population per Square Mile: 10636.408522582293\n"
     ]
    }
   ],
   "source": [
    "population_density = (population/area_sqmi)\n",
    "\n",
    "print('Population per Square Mile:', population_density)\n"
   ]
  },
  {
   "cell_type": "code",
   "execution_count": 15,
   "id": "0506d03e",
   "metadata": {
    "vscode": {
     "languageId": "shellscript"
    }
   },
   "outputs": [
    {
     "name": "stdout",
     "output_type": "stream",
     "text": [
      "Latitude: 40.8128\n",
      "Longitude: -74.006\n"
     ]
    }
   ],
   "source": [
    "print('Latitude:', latitude)\n",
    "print('Longitude:', longitude)"
   ]
  },
  {
   "cell_type": "markdown",
   "id": "a8212ec0",
   "metadata": {},
   "source": [
    "###### Exercise 2: Working with Strings  \n",
    "\n",
    "Create a string variable to store thename of a city such as 'New York City'. Perform the following operations:  \n",
    "1. Convert the string to lowercase and print result.  \n",
    "2. Convert the string to uppercase and print result.\n",
    "3. Replace 'New York' with 'Los Angeles' in the city name and print the new string."
   ]
  },
  {
   "cell_type": "code",
   "execution_count": 16,
   "id": "483244cf",
   "metadata": {
    "vscode": {
     "languageId": "shellscript"
    }
   },
   "outputs": [
    {
     "name": "stdout",
     "output_type": "stream",
     "text": [
      "Original: new york city\n",
      "Modified: NEW YORK CITY\n"
     ]
    }
   ],
   "source": [
    "city_lowercase = city.lower()\n",
    "city_uppercase = city.upper()\n",
    "\n",
    "print('Original:', city_lowercase)\n",
    "print('Modified:', city_uppercase)"
   ]
  },
  {
   "cell_type": "code",
   "execution_count": 17,
   "id": "6b35f70f",
   "metadata": {
    "vscode": {
     "languageId": "shellscript"
    }
   },
   "outputs": [
    {
     "name": "stdout",
     "output_type": "stream",
     "text": [
      "Changed from New York City to Los Angeles.\n"
     ]
    }
   ],
   "source": [
    "new_city = city.replace('New York City', 'Los Angeles')\n",
    "print(f'Changed from {city} to {new_city}.')"
   ]
  },
  {
   "cell_type": "markdown",
   "id": "419b054d",
   "metadata": {},
   "source": [
    "## Chapter 9  \n",
    "Python Data Structures"
   ]
  },
  {
   "cell_type": "markdown",
   "id": "2c016d37",
   "metadata": {},
   "source": [
    "#### Tuples"
   ]
  },
  {
   "cell_type": "code",
   "execution_count": 18,
   "id": "d79aab9f",
   "metadata": {
    "vscode": {
     "languageId": "shellscript"
    }
   },
   "outputs": [
    {
     "name": "stdout",
     "output_type": "stream",
     "text": [
      "(35.6895, 139.6917)\n"
     ]
    }
   ],
   "source": [
    "# Tuples are created with () with elements separated by a comma.\n",
    "\n",
    "tokyo_point = (\n",
    "    35.6895,\n",
    "    139.6917,\n",
    ")   #Tuple  representing Tokyo's cooridates: (latitude, longitude)\n",
    "\n",
    "print(tokyo_point)"
   ]
  },
  {
   "cell_type": "code",
   "execution_count": 19,
   "id": "0ea3ec8f",
   "metadata": {
    "vscode": {
     "languageId": "shellscript"
    }
   },
   "outputs": [
    {
     "name": "stdout",
     "output_type": "stream",
     "text": [
      "Latitude: 35.6895\n",
      "Longitude: 139.6917\n"
     ]
    }
   ],
   "source": [
    "# Acessing individual elements in a tuple using indexing, where the first element is at index 0: \n",
    "\n",
    "latitude = tokyo_point[0]\n",
    "longitude = tokyo_point[1]\n",
    "\n",
    "print(f'Latitude: {latitude}')\n",
    "print(f'Longitude: {longitude}')"
   ]
  },
  {
   "cell_type": "code",
   "execution_count": 20,
   "id": "4d04123d",
   "metadata": {
    "vscode": {
     "languageId": "shellscript"
    }
   },
   "outputs": [
    {
     "name": "stdout",
     "output_type": "stream",
     "text": [
      "Tokyo is located at 35.6895 N, 139.6917 S.\n"
     ]
    }
   ],
   "source": [
    "# Unpacking tuples into 2 variables\n",
    "\n",
    "lat, lon = tokyo_point\n",
    "print(f'Tokyo is located at {lat} N, {lon} S.')"
   ]
  },
  {
   "cell_type": "code",
   "execution_count": 21,
   "id": "58e9cef2",
   "metadata": {
    "vscode": {
     "languageId": "shellscript"
    }
   },
   "outputs": [
    {
     "name": "stdout",
     "output_type": "stream",
     "text": [
      "New York: (40.7128, -74.006)\n",
      "London: (51.5074, -0.1278)\n",
      "Sydney: (-33.8688, 151.2093)\n"
     ]
    }
   ],
   "source": [
    "# Multiple Cooridates Points as tuples\n",
    "\n",
    "new_york = (40.7128, -74.0060)\n",
    "london = (51.5074, -0.1278)\n",
    "sydney = (-33.8688, 151.2093)\n",
    "\n",
    "print(f'New York: {new_york}')\n",
    "print(f'London: {london}')\n",
    "print(f'Sydney: {sydney}')"
   ]
  },
  {
   "cell_type": "markdown",
   "id": "116cc0c0",
   "metadata": {},
   "source": [
    "#### Lists"
   ]
  },
  {
   "cell_type": "code",
   "execution_count": 22,
   "id": "874aaac8",
   "metadata": {
    "vscode": {
     "languageId": "shellscript"
    }
   },
   "outputs": [
    {
     "name": "stdout",
     "output_type": "stream",
     "text": [
      "Travel route: [(35.6895, 139.6917), (34.0522, -118.2437), (51.5074, -0.1278)]\n"
     ]
    }
   ],
   "source": [
    "# Creating Lists\n",
    "# A list of elevation measurements (in meters)\n",
    "\n",
    "route = [\n",
    "    (35.6895, 139.6917),    # Tokyo\n",
    "    (34.0522, -118.2437),   # Los Angeles\n",
    "    (51.5074, -0.1278),     # London\n",
    "    ]\n",
    "print(\"Travel route:\", route)"
   ]
  },
  {
   "cell_type": "code",
   "execution_count": 23,
   "id": "702f14f5",
   "metadata": {
    "vscode": {
     "languageId": "shellscript"
    }
   },
   "outputs": [
    {
     "name": "stdout",
     "output_type": "stream",
     "text": [
      "Elevation profile: [120.5, 135.2, 150.8, 168.3, 185.7, 203.1]\n"
     ]
    }
   ],
   "source": [
    "# A list of elevation measurements (in meters)\n",
    "\n",
    "elevations = [120.5, 135.2,150.8, 168.3, 185.7, 203.1]\n",
    "print('Elevation profile:', elevations)"
   ]
  },
  {
   "cell_type": "code",
   "execution_count": 24,
   "id": "84748f78",
   "metadata": {
    "vscode": {
     "languageId": "shellscript"
    }
   },
   "outputs": [
    {
     "name": "stdout",
     "output_type": "stream",
     "text": [
      "Cities to visit: ['Tokyo', 'Los Angeles', 'London', 'Paris']\n"
     ]
    }
   ],
   "source": [
    "# A list of city names\n",
    "\n",
    "cities = ['Tokyo', 'Los Angeles', 'London', 'Paris']\n",
    "print(\"Cities to visit:\", cities)"
   ]
  },
  {
   "cell_type": "code",
   "execution_count": 25,
   "id": "a91413ac",
   "metadata": {
    "vscode": {
     "languageId": "shellscript"
    }
   },
   "outputs": [
    {
     "name": "stdout",
     "output_type": "stream",
     "text": [
      "Updated route: [(35.6895, 139.6917), (34.0522, -118.2437), (51.5074, -0.1278), (48.8566, 2.3522)]\n"
     ]
    }
   ],
   "source": [
    "# Add Paris to our travel route\n",
    "\n",
    "route.append((48.8566, 2.3522)) # Adding Paris coordinates\n",
    "print('Updated route:', route)"
   ]
  },
  {
   "cell_type": "code",
   "execution_count": 26,
   "id": "62cb3765",
   "metadata": {
    "vscode": {
     "languageId": "shellscript"
    }
   },
   "outputs": [
    {
     "name": "stdout",
     "output_type": "stream",
     "text": [
      "Updated route: [120.5, 135.2, 150.8, 168.3, 185.7, 203.1, 221.4]\n"
     ]
    }
   ],
   "source": [
    "# Add a new elevation measurement\n",
    "\n",
    "elevations.append(221.4)\n",
    "print('Updated route:', elevations)"
   ]
  },
  {
   "cell_type": "code",
   "execution_count": 27,
   "id": "e8bd010f",
   "metadata": {
    "vscode": {
     "languageId": "shellscript"
    }
   },
   "outputs": [
    {
     "name": "stdout",
     "output_type": "stream",
     "text": [
      "First stop: (35.6895, 139.6917)\n",
      "Last stop: (48.8566, 2.3522)\n"
     ]
    }
   ],
   "source": [
    "# Access the first city in our route\n",
    "\n",
    "first_stop = route[0]\n",
    "print(f'First stop: {first_stop}')\n",
    "\n",
    "# Accessingthe last city using negative indexing\n",
    "last_stop= route[-1]\n",
    "print(f'Last stop: {last_stop}')"
   ]
  },
  {
   "cell_type": "code",
   "execution_count": 28,
   "id": "09edc871",
   "metadata": {
    "vscode": {
     "languageId": "shellscript"
    }
   },
   "outputs": [
    {
     "name": "stdout",
     "output_type": "stream",
     "text": [
      "First two stops: [(35.6895, 139.6917), (34.0522, -118.2437)]\n",
      "Middle elevation readings: [150.8, 168.3, 185.7]\n"
     ]
    }
   ],
   "source": [
    "# Get the first two stops of our route\n",
    "\n",
    "first_two_stops = route[:2]\n",
    "print('First two stops:', first_two_stops)\n",
    "\n",
    "# Get the middle portion of elevation data\n",
    "middle_elevations = elevations[2:5]\n",
    "print('Middle elevation readings:', middle_elevations)"
   ]
  },
  {
   "cell_type": "code",
   "execution_count": 29,
   "id": "cbdd8ecd",
   "metadata": {
    "vscode": {
     "languageId": "shellscript"
    }
   },
   "outputs": [
    {
     "name": "stdout",
     "output_type": "stream",
     "text": [
      "Number of waypoints: 4\n",
      "Highest elevation: 221.4 meters\n",
      "Average elevation: 169.3 meters\n"
     ]
    }
   ],
   "source": [
    "# Find the number of waypoints in our route\n",
    "num_waypoints = len(route)\n",
    "print(f'Number of waypoints: {num_waypoints}')\n",
    "\n",
    "# Find the highest elevation\n",
    "max_elevation = max(elevations)\n",
    "print(f'Highest elevation: {max_elevation} meters')\n",
    "\n",
    "# Calculate average elevation\n",
    "avg_elevation = sum(elevations) / len(elevations)\n",
    "print(f'Average elevation: {avg_elevation:.1f} meters')"
   ]
  },
  {
   "cell_type": "markdown",
   "id": "ecc6f71c",
   "metadata": {},
   "source": [
    "#### Sets"
   ]
  },
  {
   "cell_type": "code",
   "execution_count": 30,
   "id": "24703af2",
   "metadata": {
    "vscode": {
     "languageId": "shellscript"
    }
   },
   "outputs": [
    {
     "name": "stdout",
     "output_type": "stream",
     "text": [
      "Regions visited: {'Europe', 'North America', 'Asia'}\n"
     ]
    }
   ],
   "source": [
    "# Create a set of geographic regions\n",
    "\n",
    "regions_visited = {'North America', 'Europe' ,'Asia'}\n",
    "print('Regions visited:', regions_visited)"
   ]
  },
  {
   "cell_type": "code",
   "execution_count": 31,
   "id": "9015aa72",
   "metadata": {
    "vscode": {
     "languageId": "shellscript"
    }
   },
   "outputs": [
    {
     "name": "stdout",
     "output_type": "stream",
     "text": [
      "Original list: ['US', 'CA', 'MX', 'US']\n",
      "Unique country codes: {'US', 'MX', 'CA'}\n"
     ]
    }
   ],
   "source": [
    "# Create a set from a list (automatically removes duplicates)\n",
    "\n",
    "country_codes = ['US', 'CA', 'MX', 'US']    # Notice the duplicates\n",
    "unique_codes = set(country_codes)           # Will change original [] to {}\n",
    "print('Original list:', country_codes)\n",
    "print('Unique country codes:', unique_codes)"
   ]
  },
  {
   "cell_type": "code",
   "execution_count": 32,
   "id": "7441db5a",
   "metadata": {
    "vscode": {
     "languageId": "shellscript"
    }
   },
   "outputs": [
    {
     "name": "stdout",
     "output_type": "stream",
     "text": [
      "Coordinate reference system: {'ESPG:32633', 'ESPG:3857', 'EPSG:4326'}\n"
     ]
    }
   ],
   "source": [
    "# Create a set of coordinate system codes\n",
    "\n",
    "crs_codes = {'EPSG:4326', 'ESPG:3857', 'ESPG:32633'}\n",
    "print('Coordinate reference system:', crs_codes)"
   ]
  },
  {
   "cell_type": "code",
   "execution_count": 33,
   "id": "8a78e3ca",
   "metadata": {
    "vscode": {
     "languageId": "shellscript"
    }
   },
   "outputs": [
    {
     "name": "stdout",
     "output_type": "stream",
     "text": [
      "Original set: {'Europe', 'North America', 'Asia'}\n",
      "After adding Africa: {'Europe', 'Africa', 'North America', 'Asia'}\n",
      "After trying to add Europe again: {'Europe', 'Africa', 'North America', 'Asia'}\n"
     ]
    }
   ],
   "source": [
    "# Add a new region\n",
    "print('Original set:', regions_visited)\n",
    "regions_visited.add('Africa')\n",
    "print('After adding Africa:', regions_visited)\n",
    "\n",
    "# Adding a duplicate region\n",
    "regions_visited.add('Europe')\n",
    "print('After trying to add Europe again:', regions_visited)"
   ]
  },
  {
   "cell_type": "code",
   "execution_count": 34,
   "id": "64a273ed",
   "metadata": {
    "vscode": {
     "languageId": "shellscript"
    }
   },
   "outputs": [
    {
     "name": "stdout",
     "output_type": "stream",
     "text": [
      "Species in Area A: {'birch', 'oak', 'maple', 'pine'}\n",
      "Species in Area B: {'birch', 'fir', 'cedar', 'pine'}\n",
      "Species found in both areas; {'birch', 'pine'}\n",
      "Species only in Area A: {'oak', 'maple'}\n",
      "All species found: {'oak', 'maple', 'pine', 'birch', 'cedar', 'fir'}\n"
     ]
    }
   ],
   "source": [
    "# Two different survey areas with their observed species\n",
    "\n",
    "area_a_species = {'oak', 'pine', 'maple', 'birch'}\n",
    "area_b_species = {'pine', 'birch', 'cedar', 'fir'}\n",
    "\n",
    "print('Species in Area A:', area_a_species)\n",
    "print('Species in Area B:', area_b_species)\n",
    "\n",
    "# Find species common to both areas\n",
    "common_species = area_a_species.intersection(area_b_species)\n",
    "print('Species found in both areas;', common_species)\n",
    "\n",
    "# Find species unique to Area A\n",
    "unique_to_a = area_a_species - area_b_species\n",
    "print('Species only in Area A:', unique_to_a)\n",
    "\n",
    "# Find all species across both areas\n",
    "all_species = area_a_species.union(area_b_species)\n",
    "print('All species found:', all_species)"
   ]
  },
  {
   "cell_type": "code",
   "execution_count": 35,
   "id": "ae06c3a9",
   "metadata": {
    "vscode": {
     "languageId": "shellscript"
    }
   },
   "outputs": [
    {
     "name": "stdout",
     "output_type": "stream",
     "text": [
      "We have visited Asia.\n",
      "Antarcica not yet visited.\n"
     ]
    }
   ],
   "source": [
    "# Check if we've visited a particular region\n",
    "\n",
    "if 'Asia' in regions_visited:\n",
    "    print('We have visited Asia.')\n",
    "if 'Antarctica' in regions_visited:\n",
    "    print('We have visited Antarctica.')\n",
    "else:\n",
    "    print('Antarcica not yet visited.')"
   ]
  },
  {
   "cell_type": "markdown",
   "id": "a34a47ee",
   "metadata": {},
   "source": [
    "#### Dictionaries"
   ]
  },
  {
   "cell_type": "code",
   "execution_count": 36,
   "id": "c1e75d1a",
   "metadata": {
    "vscode": {
     "languageId": "shellscript"
    }
   },
   "outputs": [
    {
     "name": "stdout",
     "output_type": "stream",
     "text": [
      "Tokyo information: {'name': 'Tokyo', 'population': 13929286, 'coordinates': (35.6895, 139.6917), 'country': 'Japan', 'established': 1603}\n"
     ]
    }
   ],
   "source": [
    "# Dictionary storing attributes of a city\n",
    "\n",
    "tokyo_info = {\n",
    "    'name': 'Tokyo',\n",
    "    'population': 13929286,\n",
    "    'coordinates': (35.6895, 139.6917),\n",
    "    'country': 'Japan',\n",
    "    'established': 1603, \n",
    "}\n",
    "print('Tokyo information:', tokyo_info)"
   ]
  },
  {
   "cell_type": "code",
   "execution_count": 37,
   "id": "de4518a4",
   "metadata": {
    "vscode": {
     "languageId": "shellscript"
    }
   },
   "outputs": [
    {
     "name": "stdout",
     "output_type": "stream",
     "text": [
      "Survey point data: {'point_id': 'SP001', 'latitude': 40.7589, 'longitude': -73.9851, 'elevation': 87.3, 'land_cover': 'urban', 'data_surveyed': '2023-06-15'}\n"
     ]
    }
   ],
   "source": [
    "# Dictionary for a geographic survey point\n",
    "\n",
    "survey_points = {\n",
    "    'point_id': 'SP001',\n",
    "    'latitude': 40.7589,\n",
    "    'longitude': -73.9851,\n",
    "    'elevation': 87.3,\n",
    "    'land_cover': 'urban',\n",
    "    'data_surveyed': '2023-06-15',\n",
    "}\n",
    "print('Survey point data:', survey_points)"
   ]
  },
  {
   "cell_type": "code",
   "execution_count": 38,
   "id": "9587de63",
   "metadata": {
    "vscode": {
     "languageId": "shellscript"
    }
   },
   "outputs": [
    {
     "name": "stdout",
     "output_type": "stream",
     "text": [
      "City: Tokyo\n",
      "Population: 13929286\n",
      "Coordinates: (35.6895, 139.6917)\n"
     ]
    }
   ],
   "source": [
    "# Access specific information about Tokyo\n",
    "\n",
    "city_name = tokyo_info['name']\n",
    "city_population = tokyo_info['population']\n",
    "city_coords = tokyo_info['coordinates']\n",
    "\n",
    "print(f'City: {city_name}')\n",
    "print(f'Population: {city_population}')\n",
    "print(f'Coordinates: {city_coords}')"
   ]
  },
  {
   "cell_type": "code",
   "execution_count": 39,
   "id": "f014aaad",
   "metadata": {
    "vscode": {
     "languageId": "shellscript"
    }
   },
   "outputs": [
    {
     "name": "stdout",
     "output_type": "stream",
     "text": [
      "Area: Not specified\n",
      "Timezone: Unknown\n"
     ]
    }
   ],
   "source": [
    "# Safe access to dictionary values\n",
    "\n",
    "area = tokyo_info.get('area_km2', 'Not specified')\n",
    "timezone = tokyo_info.get('timezone', 'Unknown')\n",
    "\n",
    "print(f'Area: {area}')\n",
    "print(f'Timezone: {timezone}')"
   ]
  },
  {
   "cell_type": "code",
   "execution_count": 40,
   "id": "e1f7d8a0",
   "metadata": {
    "vscode": {
     "languageId": "shellscript"
    }
   },
   "outputs": [
    {
     "name": "stdout",
     "output_type": "stream",
     "text": [
      "Updated Tokyo info: {'name': 'Tokyo', 'population': 14000000, 'coordinates': (35.6895, 139.6917), 'country': 'Japan', 'established': 1603, 'area_km2': 2191, 'timezone': 'JST'}\n"
     ]
    }
   ],
   "source": [
    "# Add new information to our Tokyo dictionary\n",
    "\n",
    "tokyo_info['area_km2'] = 2191\n",
    "tokyo_info['timezone'] = \"JST\"\n",
    "tokyo_info['population'] = 14000000     # Update population\n",
    "\n",
    "print('Updated Tokyo info:', tokyo_info)"
   ]
  },
  {
   "cell_type": "code",
   "execution_count": 41,
   "id": "dc8636da",
   "metadata": {
    "vscode": {
     "languageId": "shellscript"
    }
   },
   "outputs": [
    {
     "name": "stdout",
     "output_type": "stream",
     "text": [
      "France's capital: Paris\n",
      "Population: 2161000\n"
     ]
    }
   ],
   "source": [
    "# Collection of world capitals\n",
    "world_capitals = {\n",
    "    'Japan': {\n",
    "        'capital': 'Tokyo',\n",
    "        'coordinates': (35.6895, 139.6917),\n",
    "        'population': 13929286,\n",
    "    },\n",
    "    'France': {\n",
    "        'capital': 'Paris',\n",
    "        'coordinates': (48.8566, 2.3522),\n",
    "        'population': 2161000,\n",
    "    },\n",
    "    'UK': {\n",
    "        'capital': 'London',\n",
    "        'coordinates': (51.5074, -0.1278),\n",
    "        'population': 8982000,\n",
    "    },\n",
    "}\n",
    "\n",
    "# Access information about France's capital\n",
    "france_info = world_capitals['France']\n",
    "print(f\"France's capital: {france_info['capital']}\")\n",
    "print(f\"Population: {france_info['population']}\")"
   ]
  },
  {
   "cell_type": "code",
   "execution_count": 42,
   "id": "0ee595fc",
   "metadata": {
    "vscode": {
     "languageId": "shellscript"
    }
   },
   "outputs": [
    {
     "name": "stdout",
     "output_type": "stream",
     "text": [
      "Keys in tokyo_info: ['name', 'population', 'coordinates', 'country', 'established', 'area_km2', 'timezone']\n",
      "Values in tokyo_info: ['Tokyo', 14000000, (35.6895, 139.6917), 'Japan', 1603, 2191, 'JST']\n",
      "Coordinate information is available\n",
      "Countries in our database ['Japan', 'France', 'UK']\n"
     ]
    }
   ],
   "source": [
    "# Explore the structure of our Tokyo dictionary\n",
    "\n",
    "print('Keys in tokyo_info:', list(tokyo_info.keys()))\n",
    "print('Values in tokyo_info:', list(tokyo_info.values()))\n",
    "\n",
    "# Check if a key exists\n",
    "\n",
    "if 'coordinates' in tokyo_info:\n",
    "    print('Coordinate information is available')\n",
    "\n",
    "# Get all coordinates in our capitals dictionary\n",
    "\n",
    "countries = list(world_capitals.keys())\n",
    "print('Countries in our database', countries)"
   ]
  },
  {
   "cell_type": "code",
   "execution_count": 43,
   "id": "49a2c300",
   "metadata": {
    "vscode": {
     "languageId": "shellscript"
    }
   },
   "outputs": [
    {
     "name": "stdout",
     "output_type": "stream",
     "text": [
      "Waypoint:Trail Start\n",
      "Location:45.3311, -121.7113\n",
      "Elevation:1200\n",
      "Available facilities: parking, restrooms, water\n"
     ]
    }
   ],
   "source": [
    "# GPS waypoint with comprehensive metadata\n",
    "\n",
    "waypoint = {\n",
    "    'id': 'WP001',\n",
    "    'name': 'Trail Start',\n",
    "    'latitude': 45.3311,\n",
    "    'longitude': -121.7113,\n",
    "    'elevation': 1200,\n",
    "    'description': 'Beginning of Pacific Crest Trail section',\n",
    "    'waypoint_type': 'trailhead',\n",
    "    'facilities': ['parking', 'restrooms', 'water'],\n",
    "    'difficulty': 'easy',\n",
    "}\n",
    "\n",
    "print(f'Waypoint:{waypoint['name']}')\n",
    "print(f'Location:{waypoint['latitude']}, {waypoint['longitude']}')\n",
    "print(f'Elevation:{waypoint['elevation']}')\n",
    "print(f'Available facilities: {', '.join(waypoint['facilities'])}')"
   ]
  },
  {
   "cell_type": "markdown",
   "id": "09da365d",
   "metadata": {},
   "source": [
    "#### Exercises"
   ]
  },
  {
   "cell_type": "markdown",
   "id": "a4d16348",
   "metadata": {},
   "source": [
    "##### Exercise 1: Using Lists"
   ]
  },
  {
   "cell_type": "code",
   "execution_count": 44,
   "id": "317115bc",
   "metadata": {
    "vscode": {
     "languageId": "shellscript"
    }
   },
   "outputs": [
    {
     "name": "stdout",
     "output_type": "stream",
     "text": [
      "[(40.7128, -74.006), (34.0522, -118.2437), (41.8781, -87.6298)]\n"
     ]
    }
   ],
   "source": [
    "cities = [\n",
    "    (40.7128, -74.0060), #New York City\n",
    "    (34.0522, -118.2437), # Los Angeles\n",
    "    (41.8781, -87.6298) # Chicago\n",
    "]\n",
    "print(cities)"
   ]
  },
  {
   "cell_type": "code",
   "execution_count": 45,
   "id": "cd08cae4",
   "metadata": {
    "vscode": {
     "languageId": "shellscript"
    }
   },
   "outputs": [
    {
     "name": "stdout",
     "output_type": "stream",
     "text": [
      "Updated Cities [(40.7128, -74.006), (34.0522, -118.2437), (41.8781, -87.6298), (25.7617, -80.1918)]\n"
     ]
    }
   ],
   "source": [
    "cities.append((25.7617, -80.1918)) # Add Miami\n",
    "print(f'Updated Cities', cities)"
   ]
  },
  {
   "cell_type": "code",
   "execution_count": 46,
   "id": "74575690",
   "metadata": {
    "vscode": {
     "languageId": "shellscript"
    }
   },
   "outputs": [
    {
     "name": "stdout",
     "output_type": "stream",
     "text": [
      "First city: (40.7128, -74.006) \n",
      "Second city (34.0522, -118.2437)\n"
     ]
    }
   ],
   "source": [
    "first_city = cities[0]\n",
    "second_city = cities[1]\n",
    "print(f'First city: {first_city} \\nSecond city {second_city}')"
   ]
  },
  {
   "cell_type": "markdown",
   "id": "5a72a264",
   "metadata": {},
   "source": [
    "##### Exercise 2: Using Tuples"
   ]
  },
  {
   "cell_type": "code",
   "execution_count": 47,
   "id": "5099ac6b",
   "metadata": {
    "vscode": {
     "languageId": "shellscript"
    }
   },
   "outputs": [
    {
     "name": "stdout",
     "output_type": "stream",
     "text": [
      "Eiffel Tower Coordinates: (48.8584, 2.2945)\n"
     ]
    }
   ],
   "source": [
    "Eiffel_Tower = (\n",
    "    48.8584,\n",
    "    2.2945\n",
    ")\n",
    "print(f'Eiffel Tower Coordinates: {Eiffel_Tower}')"
   ]
  },
  {
   "cell_type": "code",
   "execution_count": 48,
   "id": "e80ee863",
   "metadata": {
    "vscode": {
     "languageId": "shellscript"
    }
   },
   "outputs": [
    {
     "name": "stdout",
     "output_type": "stream",
     "text": [
      "You cannot change values in a tuple because they are immutable sequences.\n"
     ]
    }
   ],
   "source": [
    "#Trying to update the coordinates\n",
    "\n",
    "#updated_eiffel_tower = Eiffel_Tower.append(48.8584:48.8586)\n",
    "\n",
    "# print(updated_eiffel_tower)\n",
    "\n",
    "print('You cannot change values in a tuple because they are immutable sequences.')"
   ]
  },
  {
   "cell_type": "markdown",
   "id": "c7f2ff2c",
   "metadata": {},
   "source": [
    "##### Exercise 3: Working with Sets"
   ]
  },
  {
   "cell_type": "code",
   "execution_count": 49,
   "id": "7050e41f",
   "metadata": {
    "vscode": {
     "languageId": "shellscript"
    }
   },
   "outputs": [
    {
     "name": "stdout",
     "output_type": "stream",
     "text": [
      "{'Georgia', 'Maryland', 'Kentucky', 'West Virginia', 'Florida', 'Tennessee'}\n"
     ]
    }
   ],
   "source": [
    "visited_states = {'Tennessee', 'Georgia', 'Florida','Maryland', 'West Virginia', 'Kentucky'}\n",
    "print(visited_states)"
   ]
  },
  {
   "cell_type": "code",
   "execution_count": 50,
   "id": "93b25d17",
   "metadata": {
    "vscode": {
     "languageId": "shellscript"
    }
   },
   "outputs": [
    {
     "data": {
      "text/plain": [
       "{'Deleware',\n",
       " 'Florida',\n",
       " 'Georgia',\n",
       " 'Kentucky',\n",
       " 'Maryland',\n",
       " 'Tennessee',\n",
       " 'West Virginia'}"
      ]
     },
     "execution_count": 50,
     "metadata": {},
     "output_type": "execute_result"
    }
   ],
   "source": [
    "visited_states.add('Deleware')\n",
    "visited_states"
   ]
  },
  {
   "cell_type": "code",
   "execution_count": 51,
   "id": "3a7c86b0",
   "metadata": {
    "vscode": {
     "languageId": "shellscript"
    }
   },
   "outputs": [
    {
     "data": {
      "text/plain": [
       "{'Deleware',\n",
       " 'Florida',\n",
       " 'Georgia',\n",
       " 'Kentucky',\n",
       " 'Maryland',\n",
       " 'Tennessee',\n",
       " 'West Virginia'}"
      ]
     },
     "execution_count": 51,
     "metadata": {},
     "output_type": "execute_result"
    }
   ],
   "source": [
    "visited_states.add('Florida')\n",
    "visited_states"
   ]
  },
  {
   "cell_type": "markdown",
   "id": "4d80c5b2",
   "metadata": {},
   "source": [
    "##### Exercise 4: Working with Dictionaries"
   ]
  },
  {
   "cell_type": "code",
   "execution_count": 52,
   "id": "cac35be6",
   "metadata": {
    "vscode": {
     "languageId": "shellscript"
    }
   },
   "outputs": [
    {
     "name": "stdout",
     "output_type": "stream",
     "text": [
      "{'Name': 'Mississippi River', 'Length km': 3766, 'States': ['Minnesota', 'Wisconsin', 'Iowa', 'Illinois', 'Missouri', 'Kentucky', 'Tennessee', 'Arkansas', 'Mississippi', 'Louisiana']}\n"
     ]
    }
   ],
   "source": [
    "river = {\n",
    "    'Name': \"Mississippi River\",\n",
    "    'Length km': 3766,\n",
    "    'States': ['Minnesota','Wisconsin','Iowa','Illinois','Missouri','Kentucky','Tennessee','Arkansas','Mississippi','Louisiana']\n",
    "    }\n",
    "print(river)"
   ]
  },
  {
   "cell_type": "code",
   "execution_count": 53,
   "id": "51c03c5b",
   "metadata": {
    "vscode": {
     "languageId": "shellscript"
    }
   },
   "outputs": [
    {
     "data": {
      "text/plain": [
       "{'Name': 'Mississippi River',\n",
       " 'Length km': 3766,\n",
       " 'States': ['Minnesota',\n",
       "  'Wisconsin',\n",
       "  'Iowa',\n",
       "  'Illinois',\n",
       "  'Missouri',\n",
       "  'Kentucky',\n",
       "  'Tennessee',\n",
       "  'Arkansas',\n",
       "  'Mississippi',\n",
       "  'Louisiana'],\n",
       " 'Discharge': 4.47}"
      ]
     },
     "execution_count": 53,
     "metadata": {},
     "output_type": "execute_result"
    }
   ],
   "source": [
    "river['Discharge'] = 4.47\n",
    "river"
   ]
  },
  {
   "cell_type": "code",
   "execution_count": 54,
   "id": "beefcc91",
   "metadata": {
    "vscode": {
     "languageId": "shellscript"
    }
   },
   "outputs": [
    {
     "data": {
      "text/plain": [
       "{'Name': 'Mississippi River',\n",
       " 'Length km': 6992,\n",
       " 'States': ['Minnesota',\n",
       "  'Wisconsin',\n",
       "  'Iowa',\n",
       "  'Illinois',\n",
       "  'Missouri',\n",
       "  'Kentucky',\n",
       "  'Tennessee',\n",
       "  'Arkansas',\n",
       "  'Mississippi',\n",
       "  'Louisiana'],\n",
       " 'Discharge': 4.47}"
      ]
     },
     "execution_count": 54,
     "metadata": {},
     "output_type": "execute_result"
    }
   ],
   "source": [
    "river['Length km'] = 6992\n",
    "river"
   ]
  },
  {
   "cell_type": "markdown",
   "id": "3955f513",
   "metadata": {
    "editable": true,
    "slideshow": {
     "slide_type": ""
    },
    "tags": []
   },
   "source": [
    "##### Exercise 5: Nested Data Structures"
   ]
  },
  {
   "cell_type": "code",
   "execution_count": 55,
   "id": "7081c6e9",
   "metadata": {
    "vscode": {
     "languageId": "shellscript"
    }
   },
   "outputs": [
    {
     "name": "stdout",
     "output_type": "stream",
     "text": [
      "{'Name': 'Berlin', 'Population': '3580190', 'Coordinates': (52.520008, 13.404954)}\n"
     ]
    }
   ],
   "source": [
    "city = {\n",
    "        'Name': 'Berlin',\n",
    "        'Population': '3580190',\n",
    "        'Coordinates': (52.520008, 13.404954)   \n",
    "}\n",
    "print(city)"
   ]
  },
  {
   "cell_type": "code",
   "execution_count": 56,
   "id": "52411d4b",
   "metadata": {
    "vscode": {
     "languageId": "shellscript"
    }
   },
   "outputs": [
    {
     "data": {
      "text/plain": [
       "'3580190'"
      ]
     },
     "execution_count": 56,
     "metadata": {},
     "output_type": "execute_result"
    }
   ],
   "source": [
    "city['Population']"
   ]
  },
  {
   "cell_type": "code",
   "execution_count": 57,
   "id": "ebd96d1d",
   "metadata": {
    "vscode": {
     "languageId": "shellscript"
    }
   },
   "outputs": [
    {
     "name": "stdout",
     "output_type": "stream",
     "text": [
      "52.520008\n"
     ]
    }
   ],
   "source": [
    "coordinates = city['Coordinates']\n",
    "latitude = coordinates[0]\n",
    "print(latitude)"
   ]
  },
  {
   "cell_type": "code",
   "execution_count": 58,
   "id": "e3c37926",
   "metadata": {
    "vscode": {
     "languageId": "shellscript"
    }
   },
   "outputs": [
    {
     "name": "stdout",
     "output_type": "stream",
     "text": [
      "{'Name': 'Berlin', 'Population': 14000000, 'Coordinates': (52.520008, 13.404954)}\n"
     ]
    }
   ],
   "source": [
    "city['Population'] = 14000000\n",
    "print(city)"
   ]
  },
  {
   "cell_type": "markdown",
   "id": "b9829da5",
   "metadata": {},
   "source": [
    "## Chapter 10  \n",
    "Sting Operations"
   ]
  },
  {
   "cell_type": "markdown",
   "id": "413bc430",
   "metadata": {},
   "source": [
    "### Creating and Manipulating Strings"
   ]
  },
  {
   "cell_type": "code",
   "execution_count": 59,
   "id": "67dadbd4",
   "metadata": {
    "vscode": {
     "languageId": "shellscript"
    }
   },
   "outputs": [
    {
     "name": "stdout",
     "output_type": "stream",
     "text": [
      "Location: Mount Everest\n",
      "Country: Nepal\n",
      "Description: Mount Everest is the highest peak\n",
      "in the world, located in the Himalayas.\n"
     ]
    }
   ],
   "source": [
    "# Creating Strings\n",
    "\n",
    "location_name = 'Mount Everest'\n",
    "country = \"Nepal\"\n",
    "description = '''Mount Everest is the highest peak\n",
    "in the world, located in the Himalayas.'''\n",
    "\n",
    "print(f'Location: {location_name}')\n",
    "print(f'Country: {country}')\n",
    "print(f'Description: {description}')"
   ]
  },
  {
   "cell_type": "code",
   "execution_count": 60,
   "id": "77760883",
   "metadata": {
    "vscode": {
     "languageId": "shellscript"
    }
   },
   "outputs": [
    {
     "name": "stdout",
     "output_type": "stream",
     "text": [
      "Full location: Mount Everest, Nepal\n",
      "file path: geographic_data/mountain_peaks.csv\n"
     ]
    }
   ],
   "source": [
    "# String Concatenation\n",
    "\n",
    "location_full= location_name + \", \" + country\n",
    "print(f'Full location: {location_full}')\n",
    "\n",
    "data_folder = 'geographic_data'\n",
    "filename = 'mountain_peaks.csv'\n",
    "file_path = data_folder + \"/\" + filename\n",
    "print(f'file path: {file_path}')"
   ]
  },
  {
   "cell_type": "code",
   "execution_count": 61,
   "id": "9c8ae661",
   "metadata": {
    "vscode": {
     "languageId": "shellscript"
    }
   },
   "outputs": [
    {
     "name": "stdout",
     "output_type": "stream",
     "text": [
      "------------------------------\n",
      "Geographic Data Report\n",
      "------------------------------\n",
      "Location:     Mount Everest\n",
      "Elevation:     8,848 meters\n"
     ]
    }
   ],
   "source": [
    "# String Repetition \n",
    "\n",
    "separator= '-' * 30\n",
    "print(separator)\n",
    "print('Geographic Data Report')\n",
    "print(separator)\n",
    "\n",
    "tab_space= ' ' * 4\n",
    "print(f'Location: {tab_space}{location_name}')\n",
    "print(f'Elevation: {tab_space}8,848 meters')"
   ]
  },
  {
   "cell_type": "code",
   "execution_count": 62,
   "id": "ab040089",
   "metadata": {
    "vscode": {
     "languageId": "shellscript"
    }
   },
   "outputs": [
    {
     "name": "stdout",
     "output_type": "stream",
     "text": [
      "The location name 'Mount Everest' has 13 characters.\n",
      "Is 'SanFrancisco' alphabetic? True\n",
      "Is '94102' numeric? True\n"
     ]
    }
   ],
   "source": [
    "location_length= len(location_name)\n",
    "print(f\"The location name '{location_name}' has {location_length} characters.\")\n",
    "\n",
    "city_name= 'SanFrancisco'\n",
    "print(f\"Is '{city_name}' alphabetic? {city_name.isalpha()}\")\n",
    "\n",
    "zip_code= '94102'\n",
    "print(f\"Is '{zip_code}' numeric? {zip_code.isdigit()}\")"
   ]
  },
  {
   "cell_type": "code",
   "execution_count": 63,
   "id": "39eff237",
   "metadata": {
    "vscode": {
     "languageId": "shellscript"
    }
   },
   "outputs": [
    {
     "name": "stdout",
     "output_type": "stream",
     "text": [
      "Mount Everest27.9881,86.925\n",
      "Major cities in Nepal include: Kathmandu, Pokhara, Lalitpur\n"
     ]
    }
   ],
   "source": [
    "# Bulding dynamic content\n",
    "\n",
    "latitude= 27.9881\n",
    "longitude= 86.9250\n",
    "elevation= 8848\n",
    "\n",
    "location_info= (\n",
    "    location_name\n",
    "    + str(latitude)\n",
    "    +\",\"\n",
    "    +str(longitude)\n",
    ")\n",
    "print(location_info)\n",
    "\n",
    "cities= [\"Kathmandu\", \"Pokhara\", \"Lalitpur\"]\n",
    "summary= \"Major cities in \" + country + \" include: \" + \", \" .join(cities)\n",
    "print(summary)"
   ]
  },
  {
   "cell_type": "markdown",
   "id": "25123680",
   "metadata": {},
   "source": [
    "### String Methods for Geospatial Data"
   ]
  },
  {
   "cell_type": "code",
   "execution_count": 64,
   "id": "7da65d99",
   "metadata": {
    "vscode": {
     "languageId": "shellscript"
    }
   },
   "outputs": [
    {
     "name": "stdout",
     "output_type": "stream",
     "text": [
      "Original: Mount Everest\n",
      "Uppercase: MOUNT EVEREST\n",
      "Lowercase: mount everest\n",
      "Title: Mount Everest\n",
      "Capitalize: Mount everest\n"
     ]
    }
   ],
   "source": [
    "# Case conversion\n",
    "\n",
    "mountain_name= \"Mount Everest\"\n",
    "\n",
    "print(f'Original: {mountain_name}')\n",
    "print(f'Uppercase: {mountain_name.upper()}')\n",
    "print(f'Lowercase: {mountain_name.lower()}')\n",
    "print(f'Title: {mountain_name.title()}')\n",
    "print(f'Capitalize: {mountain_name.capitalize()}')"
   ]
  },
  {
   "cell_type": "code",
   "execution_count": 65,
   "id": "6a1ab7a2",
   "metadata": {
    "vscode": {
     "languageId": "shellscript"
    }
   },
   "outputs": [
    {
     "name": "stdout",
     "output_type": "stream",
     "text": [
      "Original:       San Fransisco     \n",
      "strip(): San Fransisco\n",
      "lstrip(): Los Angeles\n",
      "rstrip(): Chicago\n"
     ]
    }
   ],
   "source": [
    "# Removing Whitespace\n",
    "\n",
    "messy_location= '      San Fransisco     '\n",
    "messy_left= '    Los Angeles'\n",
    "messy_right= 'Chicago     '\n",
    "\n",
    "print(f'Original: {messy_location}')\n",
    "print(f'strip(): {messy_location.strip()}')\n",
    "print(f'lstrip(): {messy_left.lstrip()}')\n",
    "print(f'rstrip(): {messy_right.rstrip()}')"
   ]
  },
  {
   "cell_type": "code",
   "execution_count": 66,
   "id": "d41b3107",
   "metadata": {
    "vscode": {
     "languageId": "shellscript"
    }
   },
   "outputs": [
    {
     "name": "stdout",
     "output_type": "stream",
     "text": [
      "Original: Mount Everest, Kilamanjaro\n",
      "Updated: Mount Everest, Nepal\n"
     ]
    }
   ],
   "source": [
    "# Replacing \n",
    "\n",
    "location= 'Mount Everest, Kilamanjaro'\n",
    "updated_location= location.replace('Kilamanjaro', 'Nepal')\n",
    "print(f'Original: {location}')\n",
    "print(f'Updated: {updated_location}')"
   ]
  },
  {
   "cell_type": "code",
   "execution_count": 67,
   "id": "7c03f53d",
   "metadata": {
    "vscode": {
     "languageId": "shellscript"
    }
   },
   "outputs": [
    {
     "name": "stdout",
     "output_type": "stream",
     "text": [
      "Original: Mount Everest, Nepal, Asia\n",
      "Split into parts: ['Mount Everest', 'Nepal', 'Asia']\n",
      "Mountain: Mount Everest\n",
      "Country: Nepal\n",
      "Continent: Asia\n"
     ]
    }
   ],
   "source": [
    "# Basic splitting\n",
    "\n",
    "location_full= 'Mount Everest, Nepal, Asia'\n",
    "location_parts= location_full.split(\", \")\n",
    "print(f'Original: {location_full}')\n",
    "print(f'Split into parts: {location_parts}')\n",
    "\n",
    "# Extract individual components\n",
    "\n",
    "mountain, country, continent = location_parts\n",
    "print(f'Mountain: {mountain}')\n",
    "print(f'Country: {country}')\n",
    "print(f'Continent: {continent}')"
   ]
  },
  {
   "cell_type": "code",
   "execution_count": 68,
   "id": "02e1da3b",
   "metadata": {
    "vscode": {
     "languageId": "shellscript"
    }
   },
   "outputs": [
    {
     "name": "stdout",
     "output_type": "stream",
     "text": [
      "Parsed coordinates: Lat= 40.7128, Lon= -74.006\n"
     ]
    }
   ],
   "source": [
    "# Splitting coordinate strings\n",
    "coordinate_string= '40.7128, -74.0060'\n",
    "lat_str, lon_str = coordinate_string.split(',')\n",
    "latitude= float(lat_str)\n",
    "longitude= float(lon_str)\n",
    "print(f'Parsed coordinates: Lat= {latitude}, Lon= {longitude}')"
   ]
  },
  {
   "cell_type": "code",
   "execution_count": 69,
   "id": "56f93384",
   "metadata": {
    "vscode": {
     "languageId": "shellscript"
    }
   },
   "outputs": [
    {
     "name": "stdout",
     "output_type": "stream",
     "text": [
      "Joined city names: San Fransisco, New York, Tokyo\n",
      "Full path: data/geographic/elevation/dem.tif\n",
      "Coordinate string: 40.7128, -74.0060\n"
     ]
    }
   ],
   "source": [
    "# Split Joining = reverse of splitting\n",
    "\n",
    "# Basic Joining\n",
    "\n",
    "city_names= ['San Fransisco', 'New York', 'Tokyo']\n",
    "city_name= ', '.join(city_names)    #comma space\n",
    "print(f'Joined city names: {city_name}')\n",
    "\n",
    "# Creating file paths\n",
    "\n",
    "path_parts= ['data', 'geographic', 'elevation', 'dem.tif']\n",
    "full_path= \"/\".join(path_parts) # file path so no space\n",
    "print(f'Full path: {full_path}')\n",
    "\n",
    "# Creating coordinate strings\n",
    "\n",
    "coordinates= ['40.7128','-74.0060']\n",
    "coordinate_string= \", \".join(coordinates) # comma space\n",
    "print(f'Coordinate string: {coordinate_string}')"
   ]
  },
  {
   "cell_type": "markdown",
   "id": "3c296e0c",
   "metadata": {},
   "source": [
    "### String Formatting"
   ]
  },
  {
   "cell_type": "code",
   "execution_count": 70,
   "id": "25f2261f",
   "metadata": {
    "vscode": {
     "languageId": "shellscript"
    }
   },
   "outputs": [
    {
     "name": "stdout",
     "output_type": "stream",
     "text": [
      "Coordinates: (40.71, -74.01)\n",
      "Coodrinates:(40.713, -74.006)\n",
      "NYC Population: 8,336,817 people, Areas: 783.8 kmsq\n"
     ]
    }
   ],
   "source": [
    "# Formatting Numbers in Strings\n",
    "\n",
    "precise_lat= 40.712776\n",
    "precise_lon= -74.005974\n",
    "\n",
    "# Rounding to different decimal places\n",
    "\n",
    "coords_2_places= f'Coordinates: ({precise_lat:.2f}, {precise_lon:.2f})'\n",
    "coords_3_places= f'Coodrinates:({precise_lat:.3f}, {precise_lon:.3f})'\n",
    "\n",
    "print(coords_2_places)\n",
    "print(coords_3_places)\n",
    "\n",
    "# Adding thousands separators for large numbers\n",
    "\n",
    "population= 8336817\n",
    "area_sqkm= 783.8\n",
    "\n",
    "formatted_stats= f\"NYC Population: {population:,} people, Areas: {area_sqkm:.1f} kmsq\"  # If string on 2 lines then use () around f string\n",
    "print(formatted_stats)\n",
    " "
   ]
  },
  {
   "cell_type": "markdown",
   "id": "556d42dc",
   "metadata": {},
   "source": [
    "### Practical Examples"
   ]
  },
  {
   "cell_type": "code",
   "execution_count": 71,
   "id": "3c9d912d",
   "metadata": {
    "vscode": {
     "languageId": "shellscript"
    }
   },
   "outputs": [
    {
     "name": "stdout",
     "output_type": "stream",
     "text": [
      "Generated filename:survey_20251014_45.3311N_121.7113W.csv\n",
      "WTK Point: POINT (-121.7113 45.3311)\n"
     ]
    }
   ],
   "source": [
    "# Creating file name with timestamps and coordinates\n",
    "\n",
    "current_time= datetime.datetime.now()\n",
    "survey_lat= 45.3311\n",
    "survey_lon= -121.7113\n",
    "\n",
    "filename= f'survey_{current_time.strftime('%Y%m%d')}_{survey_lat:.4f}N_{abs(survey_lon):.4f}W.csv'\n",
    "print(f'Generated filename:{filename}')\n",
    "\n",
    "# Creating Well-Known Text (WTK) representations\n",
    "\n",
    "wtk_point= f'POINT ({survey_lon} {survey_lat})'\n",
    "print(f'WTK Point: {wtk_point}')"
   ]
  },
  {
   "cell_type": "code",
   "execution_count": 72,
   "id": "52d941f1",
   "metadata": {
    "vscode": {
     "languageId": "shellscript"
    }
   },
   "outputs": [
    {
     "name": "stdout",
     "output_type": "stream",
     "text": [
      "Generated SQL Query:\n",
      "SELECT name, latitude, longitude\n",
      "FROM cities\n",
      "WHERE population > 1,000,000\n",
      "AND region = 'North America' \n"
     ]
    }
   ],
   "source": [
    "# Building a SQL query with formatting\n",
    "\n",
    "table_name= 'cities'\n",
    "mini_population= 1000000\n",
    "region= 'North America'\n",
    "\n",
    "sql_query= f\"\"\"SELECT name, latitude, longitude\n",
    "FROM {table_name}\n",
    "WHERE population > {mini_population:,}\n",
    "AND region = '{region}' \"\"\"\n",
    "\n",
    "print('Generated SQL Query:')\n",
    "print(sql_query)"
   ]
  },
  {
   "cell_type": "markdown",
   "id": "a3af75ed",
   "metadata": {},
   "source": [
    "### Exercises"
   ]
  },
  {
   "cell_type": "markdown",
   "id": "d677486e",
   "metadata": {},
   "source": [
    "#### Exercise 1: Manipulating Geographic Location Strings"
   ]
  },
  {
   "cell_type": "code",
   "execution_count": 73,
   "id": "c0135928",
   "metadata": {
    "vscode": {
     "languageId": "shellscript"
    }
   },
   "outputs": [
    {
     "name": "stdout",
     "output_type": "stream",
     "text": [
      "amazon river\n",
      "AMAZON RIVER\n",
      "Amazon River, Brazil\n",
      " -Amazon River, Brazil -Amazon River, Brazil -Amazon River, Brazil\n"
     ]
    }
   ],
   "source": [
    "river= 'Amazon River'\n",
    "print(river.lower())\n",
    "print(river.upper())\n",
    "\n",
    "country= 'Brazil'\n",
    "full_name= river + ', ' + country\n",
    "print(full_name)\n",
    "\n",
    "separator= (' -'+ full_name)*3 \n",
    "print(separator)\n",
    "\n"
   ]
  },
  {
   "cell_type": "markdown",
   "id": "87440a17",
   "metadata": {},
   "source": [
    "#### Exercise 2: Extracting and Formatting Coordinates"
   ]
  },
  {
   "cell_type": "code",
   "execution_count": 74,
   "id": "3ace6dbd",
   "metadata": {
    "vscode": {
     "languageId": "shellscript"
    }
   },
   "outputs": [
    {
     "name": "stdout",
     "output_type": "stream",
     "text": [
      "['40.7128N', '70.0060W']\n",
      "Latitude: 40.7128N\n",
      "Longitude: 70.0060W\n"
     ]
    }
   ],
   "source": [
    "location= '40.7128N, 70.0060W'\n",
    "\n",
    "location_split= location.split(', ')\n",
    "print(location_split)\n",
    "\n",
    "latitude, longitude= location_split\n",
    "print(f'Latitude: {latitude}')\n",
    "print(f'Longitude: {longitude}')"
   ]
  },
  {
   "cell_type": "markdown",
   "id": "b74bda4b",
   "metadata": {},
   "source": [
    "#### Exercise 3: Building Dynamic SQL Queries"
   ]
  },
  {
   "cell_type": "code",
   "execution_count": 75,
   "id": "4055e9b2",
   "metadata": {
    "vscode": {
     "languageId": "shellscript"
    }
   },
   "outputs": [
    {
     "name": "stdout",
     "output_type": "stream",
     "text": [
      "SELECT name, latitude, longitude\n",
      "FROM states\n",
      "WHERE pop_sqrt < 8,000,000,000\n",
      "AND region= 'United States' \n"
     ]
    }
   ],
   "source": [
    "table= 'states'\n",
    "population= 8000000000\n",
    "region='United States'\n",
    "\n",
    "query= f\"\"\"SELECT name, latitude, longitude\n",
    "FROM {table}\n",
    "WHERE pop_sqrt < {population:,}\n",
    "AND region= '{region}' \"\"\"\n",
    "\n",
    "print(query)"
   ]
  },
  {
   "cell_type": "markdown",
   "id": "9906feca",
   "metadata": {},
   "source": [
    "#### Exercise 4: String Normalization and Cleaning"
   ]
  },
  {
   "cell_type": "code",
   "execution_count": 76,
   "id": "656d9b6f",
   "metadata": {
    "vscode": {
     "languageId": "shellscript"
    }
   },
   "outputs": [
    {
     "name": "stdout",
     "output_type": "stream",
     "text": [
      "Richmond\n",
      "Virginia\n",
      "Danville \n"
     ]
    }
   ],
   "source": [
    "capitol= '    RicHmonD'\n",
    "state= 'virGinIa   '\n",
    "city= ' DANVille ' \n",
    "\n",
    "print(capitol.strip().title())\n",
    "print(state.rstrip().title())\n",
    "print(city.lstrip().title())"
   ]
  },
  {
   "cell_type": "markdown",
   "id": "9f9b292c",
   "metadata": {},
   "source": [
    "#### Exercise 5: Parsing and Extracting Address Information"
   ]
  },
  {
   "cell_type": "code",
   "execution_count": 77,
   "id": "5bcb5cb7",
   "metadata": {
    "vscode": {
     "languageId": "shellscript"
    }
   },
   "outputs": [
    {
     "name": "stdout",
     "output_type": "stream",
     "text": [
      "{'street': '31 Spooner St', 'city': 'Quahog', 'state': 'Rhode Island'}\n"
     ]
    }
   ],
   "source": [
    "location= \"31 Spooner St, Quahog, Rhode Island\"\n",
    "\n",
    "street, city, state = location.split(\", \")\n",
    "\n",
    "full_location = {\n",
    "\t'street': street,\n",
    "\t'city': city,\n",
    "\t'state': state\t\t\t\n",
    "}\n",
    "\n",
    "print(full_location)"
   ]
  },
  {
   "cell_type": "markdown",
   "id": "b1e0140e",
   "metadata": {},
   "source": [
    "## Chapter 11  \n",
    "Loops and Conditional Statements"
   ]
  },
  {
   "cell_type": "markdown",
   "id": "577d58db",
   "metadata": {},
   "source": [
    "### For Loops"
   ]
  },
  {
   "cell_type": "code",
   "execution_count": 78,
   "id": "a51bd4f5",
   "metadata": {
    "vscode": {
     "languageId": "shellscript"
    }
   },
   "outputs": [
    {
     "name": "stdout",
     "output_type": "stream",
     "text": [
      "Latitude: 35.6895, Longitude: 139.6917\n",
      "Latitude: 34.0522, Longitude: -118.2437\n",
      "Latitude: 51.5074, Longitude: -0.1278\n"
     ]
    }
   ],
   "source": [
    "# Tuple unpacking\n",
    "\n",
    "coordinates= [\n",
    "    (35.6895, 139.6917),\n",
    "    (34.0522, -118.2437),\n",
    "    (51.5074, -0.1278),\n",
    "]\n",
    "\n",
    "for lat, lon in coordinates:\n",
    "    print(f'Latitude: {lat}, Longitude: {lon}')"
   ]
  },
  {
   "cell_type": "code",
   "execution_count": 79,
   "id": "73375957",
   "metadata": {
    "vscode": {
     "languageId": "shellscript"
    }
   },
   "outputs": [
    {
     "name": "stdout",
     "output_type": "stream",
     "text": [
      "Distance from (0, 0) to (35.6895, 139.6917): 144.18\n",
      "Distance from (0, 0) to (34.0522, -118.2437): 123.05\n",
      "Distance from (0, 0) to (51.5074, -0.1278): 51.51\n"
     ]
    }
   ],
   "source": [
    "def calculate_distance(lat1, lon1, lat2, lon2):\n",
    "    #placeholder for distance calculation logic\n",
    "    return ((lat2 - lat1)**2 + (lon2 - lon1)**2)**0.5\n",
    "reference_point = (0,0)     # Reference point (latitude, longitude)\n",
    "\n",
    "for lat, lon in coordinates:\n",
    "    distance= calculate_distance(reference_point[0], reference_point[1], lat, lon)\n",
    "    print(f'Distance from {reference_point} to ({lat}, {lon}): {distance:.2f}')\n",
    "\n",
    "# Loops can help to perform the same calculation for multiple coordinate pairs without writing repetitive code. \n",
    "# Function named calculate_distance encapsulates the distance calculation logic."
   ]
  },
  {
   "cell_type": "code",
   "execution_count": 80,
   "id": "c4aab2c5",
   "metadata": {
    "vscode": {
     "languageId": "shellscript"
    }
   },
   "outputs": [
    {
     "name": "stdout",
     "output_type": "stream",
     "text": [
      "Major US Cities:\n",
      "1. New York\n",
      "2. Los Angeles\n",
      "3. Chicago\n",
      "4. Houston\n",
      "5. Phoenix\n"
     ]
    }
   ],
   "source": [
    "# Iterating through Geographic Collections\n",
    "\n",
    "cities= ['New York', 'Los Angeles', 'Chicago', 'Houston', 'Phoenix']\n",
    "print('Major US Cities:')\n",
    "\n",
    "for i, city in enumerate(cities):\n",
    "    print(f'{i+1}. {city}')\n",
    "\n",
    "# For loop to iterate through a list of city names\n",
    "# Enumerate function is used to get the index of each item in the list.\n",
    "# Print the index and city name in a single line > numbers start with 0 and increments of 1 in the list\n",
    "# Usefuul when tracking the position of each item in the list"
   ]
  },
  {
   "cell_type": "markdown",
   "id": "9283277e",
   "metadata": {},
   "source": [
    "### While Loops"
   ]
  },
  {
   "cell_type": "markdown",
   "id": "6ca35bba",
   "metadata": {},
   "source": [
    "While Loops provide a different type of repetition.  \n",
    "They continue executing a block of code as long as a specified conditiono remains true.  \n",
    "Unline FOR loops, WHILE loops are useful when you don't know in advance how many iterations you'll need.  \n",
    "  \n",
    "Useful for processing data until certain conditions are met, such as GPS points, elevation until found, or continuing calculations."
   ]
  },
  {
   "cell_type": "code",
   "execution_count": 81,
   "id": "acb13998",
   "metadata": {
    "vscode": {
     "languageId": "shellscript"
    }
   },
   "outputs": [
    {
     "name": "stdout",
     "output_type": "stream",
     "text": [
      "Processing coordinate: (35.6895, 139.6917)\n",
      "Processing coordinate: (34.0522, -118.2437)\n",
      "Processing coordinate: (51.5074, -0.1278)\n"
     ]
    }
   ],
   "source": [
    "# Basic Structure\n",
    "\n",
    "counter= 0\n",
    "while counter < len(coordinates):\n",
    "    lat, lon= coordinates[counter]\n",
    "    print(f'Processing coordinate: ({lat}, {lon})')\n",
    "    counter+=1\n",
    "\n",
    "# **Always make sure your condition will eventually become FALSE or it'll create an infinite loop."
   ]
  },
  {
   "cell_type": "code",
   "execution_count": 82,
   "id": "478bf9cd",
   "metadata": {
    "vscode": {
     "languageId": "shellscript"
    }
   },
   "outputs": [
    {
     "name": "stdout",
     "output_type": "stream",
     "text": [
      "Searching for coordinates near latitude 40.0\n",
      "Attempt 1: Found coodinate (40.4276, -73.7821)\n",
      "Attempt 2: Found coodinate (39.8658, -74.3824)\n",
      "Attempt 3: Found coodinate (40.1107, -73.5721)\n",
      "Attempt 4: Found coodinate (40.3493, -73.9693)\n",
      "Attempt 5: Found coodinate (40.1296, -73.7235)\n",
      "Attempt 6: Found coodinate (39.6209, -73.6921)\n",
      "Attempt 7: Found coodinate (40.4641, -74.3716)\n",
      "Attempt 8: Found coodinate (40.2383, -73.7410)\n",
      "Attempt 9: Found coodinate (39.5990, -73.9464)\n",
      "Attempt 10: Found coodinate (40.1056, -74.1444)\n",
      "Could not find suitable coordinate within 10 attempts.\n"
     ]
    }
   ],
   "source": [
    "# import random ^ executed above\n",
    "\n",
    "# Simulate searching for a coordinate within a certain range\n",
    "\n",
    "target_latitude= 40.0\n",
    "tolerance= 0.1\n",
    "attempts= 0\n",
    "max_attempts= 10\n",
    "\n",
    "print(f'Searching for coordinates near latitude {target_latitude}')\n",
    "\n",
    "while attempts < max_attempts:\n",
    "    # Simulate getting a new coordinate\n",
    "    random_lat= random.uniform(39.5, 40.5)\n",
    "    random_lon= random.uniform(-74.5, -73.5)\n",
    "    attempts+=1\n",
    "    \n",
    "    print(f'Attempt {attempts}: Found coodinate ({random_lat:.4f}, {random_lon:.4f})')\n",
    "    # Check if we're close enough to the target\n",
    "    if abs(random_lat - target_latitude)<= tolerance:\n",
    "        print(f'Found coordinate within tolerance after {attempts} attempts!')\n",
    "        break\n",
    "else:\n",
    "    print(f'Could not find suitable coordinate within {max_attempts} attempts.')\n",
    "\n",
    "\n",
    "# Common pattern when needing to find a specific location in a dataset\n"
   ]
  },
  {
   "cell_type": "markdown",
   "id": "7781b1f7",
   "metadata": {},
   "source": [
    "### Control Statements  \n",
    "Allow your programs to make decisions and execute different blocks of code based on specific conditions.  \n",
    "Essential for creating intelligent, responsive programs that can handle different situations appropriately.  \n",
    "  \n",
    "In geospatial programming, control statements help you categorize data, filter information, handle different coordinate systems,  \n",
    "validate input data, and respond to various geographic conditions."
   ]
  },
  {
   "cell_type": "code",
   "execution_count": 83,
   "id": "c4b589d0",
   "metadata": {
    "vscode": {
     "languageId": "shellscript"
    }
   },
   "outputs": [
    {
     "name": "stdout",
     "output_type": "stream",
     "text": [
      "35.6895 is in the Northern Hemisphere.\n",
      "34.0522 is in the Northern Hemisphere.\n",
      "51.5074 is in the Northern Hemisphere.\n"
     ]
    }
   ],
   "source": [
    "# Multiple Conditions and Complex Logic:\n",
    "\n",
    "# If statements are the most basic conditional logic allowing you to execute code onle when a specific condition is met.\n",
    "\n",
    "for lat, lon in coordinates:\n",
    "    if lat > 0:\n",
    "        print(f'{lat} is in the Northern Hemisphere.')\n",
    "    elif lat < 0:\n",
    "        print(f'{lat} is in the Southern Hemisphere.')\n",
    "    else:\n",
    "        print(f'{lat} is near the equator.')\n",
    "\n",
    "# All 3 types of conditional statements"
   ]
  },
  {
   "cell_type": "code",
   "execution_count": 84,
   "id": "7e617004",
   "metadata": {
    "vscode": {
     "languageId": "shellscript"
    }
   },
   "outputs": [
    {
     "name": "stdout",
     "output_type": "stream",
     "text": [
      "Coordinate (35.6895, 139.6917) is in the Northeast quadrant.\n",
      "Coordinate (34.0522, -118.2437) is in the Northwest quadrant.\n",
      "Coordinate (51.5074, -0.1278) is in the Northwest quadrant.\n"
     ]
    }
   ],
   "source": [
    "# Logical Operations for Complex Conditions:\n",
    "\n",
    "# Using logical operators (and, or, not) to create more complex conditions\n",
    "\n",
    "# Classify coordinates by quadrant\n",
    "\n",
    "for lat, lon in coordinates:\n",
    "    if lat >0 and lon >0:\n",
    "        quadrant= 'Northeast'\n",
    "    elif lat > 0 and lon <0: \n",
    "        quadrant= 'Northwest'\n",
    "    elif lat <0 and lon >0: \n",
    "        quadrant= 'Southeast'\n",
    "    else:\n",
    "        quadrant= 'Southwest'\n",
    "    print(f'Coordinate ({lat}, {lon}) is in the {quadrant} quadrant.')\n",
    "\n",
    "# and or are used to combine multiple conditions in a single expression\n",
    "# and returns True if both conditions are True, otherwise False\n",
    "# or returns True if at least 1 condition is True, otherwise False\n",
    "# not returns the opposite of the condition"
   ]
  },
  {
   "cell_type": "markdown",
   "id": "a804a893",
   "metadata": {},
   "source": [
    "### Combining Loops and Control Statements  \n",
    "The real use of loops and control statments are apparent when combining them to create sophisticated data processing workflows.  \n",
    "These combos allow you to iterate through datasets while making intelligent decisions about each piece of data encountered.  \n",
    "Common patterns include filtering data based on conditions, counting items that meet specific criteria, transforming data selectively,  \n",
    "and building new datasets from existing ones."
   ]
  },
  {
   "cell_type": "code",
   "execution_count": 85,
   "id": "5d08d259",
   "metadata": {
    "vscode": {
     "languageId": "shellscript"
    }
   },
   "outputs": [
    {
     "name": "stdout",
     "output_type": "stream",
     "text": [
      "Filtered coordinates (only with positive longitude): [(35.6895, 139.6917)]\n"
     ]
    }
   ],
   "source": [
    "filtered_coordinates= []\n",
    "for lat, lon in coordinates:\n",
    "    if lon >0: \n",
    "        filtered_coordinates.append((lat, lon))\n",
    "print(f'Filtered coordinates (only with positive longitude): {filtered_coordinates}')"
   ]
  },
  {
   "cell_type": "code",
   "execution_count": 86,
   "id": "a7fc4212",
   "metadata": {
    "vscode": {
     "languageId": "shellscript"
    }
   },
   "outputs": [
    {
     "name": "stdout",
     "output_type": "stream",
     "text": [
      "Number of coordinates in the Southern Hemisphere: 0\n"
     ]
    }
   ],
   "source": [
    "# Counting and Analyzing Data\n",
    "# Loops combined with control statements are great for analyzing patterns:\n",
    "\n",
    "southern_count= 0\n",
    "for lat, lon in coordinates:\n",
    "    if lat <0:\n",
    "        southern_count +=1\n",
    "print(f'Number of coordinates in the Southern Hemisphere: {southern_count}')"
   ]
  },
  {
   "cell_type": "code",
   "execution_count": 87,
   "id": "f24f905b",
   "metadata": {
    "vscode": {
     "languageId": "shellscript"
    }
   },
   "outputs": [
    {
     "name": "stdout",
     "output_type": "stream",
     "text": [
      "Coordinate Analysis:\n",
      "----------------------------------------\n",
      "Valid: (40.7128,-74.0060)\n",
      "Invalid: (-33.8688,151.2093) - coordinates out of range\n",
      "Valid: (51.5074, -0.1278)\n",
      "Valid: (-1.2921, 36.8219)\n",
      "Invalid: (35.6762,139.6503) - coordinates out of range\n",
      "\n",
      "Summary:\n",
      "Valid coordinates: 3\n",
      "Northen Hemisphere: 2\n",
      "Southern Hemisphere: 1\n",
      "Eastern Hemisphere: 1\n",
      "Western Hemisphere: 2\n"
     ]
    }
   ],
   "source": [
    "# Building Summary Statistics\n",
    "# Count the number of valid coordinates, then count the number of coordinates in each hemisphere and longitude quadrant\n",
    "\n",
    "# Analyze a set of coordinates\n",
    "analysis_coordinates= [\n",
    "    (40.7128, -74.0060),    # New York\n",
    "    (-33.8688, 151.2093),   # Sydney\n",
    "    (51.5074, -0.1278),     # London\n",
    "    (-1.2921, 36.8219),     # Nairobi\n",
    "    (35.6762, 139.6503),    # Tokyo\n",
    "]\n",
    "# Initialize counter\n",
    "northern_count=0\n",
    "southern_count=0\n",
    "eastern_count=0\n",
    "western_count=0\n",
    "valid_coordinates= []\n",
    "\n",
    "print('Coordinate Analysis:')\n",
    "print('-' * 40)\n",
    "\n",
    "for lat, lon in analysis_coordinates:\n",
    "    # Validate coordinates (basic check)\n",
    "    if -90 <= lat <= 90 and -180 <= lon <= 100:\n",
    "        valid_coordinates.append((lat, lon))\n",
    "\n",
    "        # Count hemisphere\n",
    "        if lat >= 0:\n",
    "            northern_count +=1\n",
    "        else:\n",
    "            southern_count +=1\n",
    "        if lon >=0:\n",
    "            eastern_count +=1\n",
    "        else:\n",
    "            western_count +=1\n",
    "        print(f'Valid: ({lat:7.4f},{lon:8.4f})')\n",
    "    else:\n",
    "        print(f'Invalid: ({lat},{lon}) - coordinates out of range')\n",
    "\n",
    "print(f'\\nSummary:')\n",
    "print(f'Valid coordinates: {len(valid_coordinates)}')\n",
    "print(f'Northen Hemisphere: {northern_count}')\n",
    "print(f'Southern Hemisphere: {southern_count}')\n",
    "print(f'Eastern Hemisphere: {eastern_count}')\n",
    "print(f'Western Hemisphere: {western_count}')"
   ]
  },
  {
   "cell_type": "markdown",
   "id": "8efc6bc4",
   "metadata": {},
   "source": [
    "### Loops and Control Decision Guide  \n",
    "  \n",
    "Use Loops When:  \n",
    "You know the sequence of items you want to process  \n",
    "You want to iterate through lists, tuples, or other collections\n",
    "You want ot process each item in a dataset exactly once  \n",
    "You're working with coordinate pairs, feature lists, or data tables  \n",
    "  \n",
    "Use While Loops When:  \n",
    "You need to continue processing untial a condition is met  \n",
    "You don't know in advance how manu iterations you'll need  \n",
    "You're searching for something or waiting for a condition to change  \n",
    "You need to process data until you reach a threshold or target  \n",
    "  \n",
    "Use Control Statements When:  \n",
    "You need to make decisions based on data values  \n",
    "You want to categorize or classify geographic data  \n",
    "You need to filter data based on specific criteria  \n",
    "You want to handle different types of input data appropriately"
   ]
  },
  {
   "cell_type": "markdown",
   "id": "f19055a7",
   "metadata": {},
   "source": [
    "### Exercises"
   ]
  },
  {
   "cell_type": "markdown",
   "id": "717ce609",
   "metadata": {},
   "source": [
    "#### Exercise 1  \n",
    "Using For Loops to Process Coordinate Lists"
   ]
  },
  {
   "cell_type": "code",
   "execution_count": 88,
   "id": "bc7863dd",
   "metadata": {
    "vscode": {
     "languageId": "shellscript"
    }
   },
   "outputs": [
    {
     "name": "stdout",
     "output_type": "stream",
     "text": [
      "37.034946 is in the Northern Hemisphere.\n",
      "-22.90642 is in the Southern Hemisphere.\n",
      "-6.2 is in the Southern Hemisphere.\n",
      "30.033333 is in the Northern Hemisphere.\n"
     ]
    }
   ],
   "source": [
    "coords = [\n",
    "    (37.034946, -37.360123),     # Hampton\n",
    "    (-22.90642, -43.18223),    # Rio de Janeiro\n",
    "    (-6.2000000, 106.816666),    # Jakarta\n",
    "    (30.033333, 31.23334),      # Cairo\n",
    "]\n",
    "\n",
    "for lat, lon in coords:\n",
    "    if lat > 0:\n",
    "        print(f'{lat} is in the Northern Hemisphere.')\n",
    "    elif lat < 0:\n",
    "        print(f'{lat} is in the Southern Hemisphere.')\n",
    "    else:\n",
    "        print(f'{lat} is near the Equator.')"
   ]
  },
  {
   "cell_type": "markdown",
   "id": "30c58b0d",
   "metadata": {},
   "source": [
    "#### Exercise 2  \n",
    "While Loops for Iterative Processing"
   ]
  },
  {
   "cell_type": "code",
   "execution_count": 89,
   "id": "7ba91d98",
   "metadata": {
    "vscode": {
     "languageId": "shellscript"
    }
   },
   "outputs": [
    {
     "name": "stdout",
     "output_type": "stream",
     "text": [
      "37.034946 -37.360123\n",
      "-22.90642 -43.18223\n",
      "-6.2 106.816666\n",
      "30.033333 31.23334\n"
     ]
    }
   ],
   "source": [
    "count= 0\n",
    "while count < len(coords): \n",
    "    lat, lon = coords[count]\n",
    "    print(lat, lon)\n",
    "    count+=1"
   ]
  },
  {
   "cell_type": "markdown",
   "id": "a7d59f82",
   "metadata": {},
   "source": [
    "#### Exercise 3  \n",
    "Conditional Logic in Loops"
   ]
  },
  {
   "cell_type": "code",
   "execution_count": 90,
   "id": "e7f6da88",
   "metadata": {
    "vscode": {
     "languageId": "shellscript"
    }
   },
   "outputs": [
    {
     "name": "stdout",
     "output_type": "stream",
     "text": [
      "(37.034946-37.360123) in Western Hemisphere\n",
      "(-22.90642-43.18223) in Western Hemisphere\n",
      "(-6.2,106.816666) in Eastern Hemisphere\n",
      "(30.033333,31.23334) in Eastern Hemisphere\n"
     ]
    }
   ],
   "source": [
    "for lat, lon in coords:\n",
    "    if lon >0:\n",
    "        print(f'({lat},{lon}) in Eastern Hemisphere')\n",
    "    elif lon <0:\n",
    "        print(f'({lat}{lon}) in Western Hemisphere')\n",
    "    else:\n",
    "        print(f'({lat},{lon}) Unknown')"
   ]
  },
  {
   "cell_type": "markdown",
   "id": "9453e755",
   "metadata": {},
   "source": [
    "#### Exercise 4  \n",
    "Filtering Data with Combined Loops and Conditionals"
   ]
  },
  {
   "cell_type": "code",
   "execution_count": 91,
   "id": "69176125",
   "metadata": {
    "vscode": {
     "languageId": "shellscript"
    }
   },
   "outputs": [
    {
     "name": "stdout",
     "output_type": "stream",
     "text": [
      "Valid Coordinates:\n",
      "----------------------------------------\n",
      "(-22.90642, -43.18223) | Southern Hemisphere\n",
      "(-6.2, 106.816666) | Southern Hemisphere\n",
      "----------------------------------------\n",
      "Summary: 2 coordinates\n"
     ]
    }
   ],
   "source": [
    "counter= 0\n",
    "southern_hem=0 \n",
    "valid_coords= []\n",
    "print('Valid Coordinates:')\n",
    "print('-'*40)\n",
    "for lat, lon in coords:\n",
    "    if lat< 0:\n",
    "        southern_hem+=1\n",
    "        print(f\"({lat}, {lon}) | Southern Hemisphere\")\n",
    "print('-'*40)\n",
    "print(f'Summary: {southern_hem} coordinates')    "
   ]
  },
  {
   "cell_type": "markdown",
   "id": "98bb2b23",
   "metadata": {},
   "source": [
    "#### Exercise 5  \n",
    "Generating and Analyzing Random Coordinates"
   ]
  },
  {
   "cell_type": "code",
   "execution_count": 103,
   "id": "63bac361",
   "metadata": {
    "vscode": {
     "languageId": "shellscript"
    }
   },
   "outputs": [
    {
     "name": "stdout",
     "output_type": "stream",
     "text": [
      "Searching for coordinates near latitude 0\n",
      "Attempt 1: (-42.2881, 106.1606)\n",
      "Attempt 2: (-36.3189, -155.9929)\n",
      "Attempt 3: (-58.4101, 25.1311)\n",
      "Attempt 4: (70.5820, 81.3585)\n",
      "Attempt 5: (-38.0759, 3.7770)\n",
      "Attempt 6: (75.2824, 60.5373)\n",
      "Attempt 7: (-75.4311, 172.4870)\n",
      "Attempt 8: (-51.7868, -148.0324)\n",
      "Attempt 9: (-29.3484, -66.7857)\n",
      "Attempt 10: (-82.2768, 47.2319)\n",
      "Could not find coordinates after 10 attempts.\n"
     ]
    }
   ],
   "source": [
    "target_lat= 0\n",
    "tolerance= 0.1\n",
    "attempts= 0\n",
    "max_attempts= 10\n",
    "print(f'Searching for coordinates near latitude {target_lat}')\n",
    "\n",
    "while attempts < max_attempts:\n",
    "\n",
    "    random_lat = random.uniform(-90,90)\n",
    "    random_lon = random.uniform(-180,180)\n",
    "    attempts+=1\n",
    "\n",
    "    print(f'Attempt {attempts}: ({random_lat:.4f}, {random_lon:.4f})')\n",
    "\n",
    "    if abs(random_lat - target_lat)<= tolerance:\n",
    "        print(f'Coodrinates found within tolerance after {attempts} attempts.')\n",
    "        break\n",
    "else:\n",
    "    print(f'Could not find coordinates after {max_attempts} attempts.')\n",
    "        "
   ]
  }
 ],
 "metadata": {
  "kernelspec": {
   "display_name": "geo (Python)",
   "language": "python",
   "name": "geo"
  },
  "language_info": {
   "codemirror_mode": {
    "name": "ipython",
    "version": 3
   },
   "file_extension": ".py",
   "mimetype": "text/x-python",
   "name": "python",
   "nbconvert_exporter": "python",
   "pygments_lexer": "ipython3",
   "version": "3.12.9"
  }
 },
 "nbformat": 4,
 "nbformat_minor": 5
}
