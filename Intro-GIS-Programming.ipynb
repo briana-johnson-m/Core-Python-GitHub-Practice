{
 "cells": [
  {
   "cell_type": "markdown",
   "id": "080357ab",
   "metadata": {},
   "source": [
    "# Briana Johnson\n",
    "GIS Programming  \n",
    "Term: ODU Fall 2025   \n",
    "Course: GEOG 600 -> GEOG 697  \n",
    "Instructor: Dr. Tom Allen  \n",
    "Resource: Introduction to GIS Programming: A Practical Python Guide to Open Source Geospatial Tools by Qiusheng Wu  \n",
    "Purpose: This notebook serves to execute geospatial practice and challenge exercises.  "
   ]
  },
  {
   "cell_type": "markdown",
   "id": "ff00520a",
   "metadata": {},
   "source": [
    "## Python Programming Fundamentals"
   ]
  },
  {
   "cell_type": "code",
   "execution_count": 2,
   "id": "93b305b3",
   "metadata": {
    "vscode": {
     "languageId": "shellscript"
    }
   },
   "outputs": [
    {
     "name": "stdout",
     "output_type": "stream",
     "text": [
      "4.0\n"
     ]
    }
   ],
   "source": [
    "# Modules added as used in chapter \n",
    "\n",
    "import math\n",
    "print(math.sqrt(16))"
   ]
  },
  {
   "cell_type": "markdown",
   "id": "cd5f3dcd",
   "metadata": {},
   "source": [
    "### Variables and Data Types Chapter 8"
   ]
  },
  {
   "cell_type": "markdown",
   "id": "9e33dcbb",
   "metadata": {},
   "source": [
    "#### Variables "
   ]
  },
  {
   "cell_type": "code",
   "execution_count": 3,
   "id": "29eccc4f",
   "metadata": {
    "vscode": {
     "languageId": "shellscript"
    }
   },
   "outputs": [
    {
     "data": {
      "text/plain": [
       "120"
      ]
     },
     "execution_count": 3,
     "metadata": {},
     "output_type": "execute_result"
    }
   ],
   "source": [
    "# Starting by creating a variable to represent the number of spatial points in a dataset\n",
    "\n",
    "num_points = 120\n",
    "num_points"
   ]
  },
  {
   "cell_type": "markdown",
   "id": "5c4f901e",
   "metadata": {},
   "source": [
    "#### Geospatial variable examples"
   ]
  },
  {
   "cell_type": "code",
   "execution_count": 4,
   "id": "824cfc2f",
   "metadata": {
    "vscode": {
     "languageId": "shellscript"
    }
   },
   "outputs": [],
   "source": [
    "# latitude = 42.3601\n",
    "# longitude = -71.0589\n",
    "# evelation = 147.2\n",
    "# city_name = 'Boston'\n",
    "# population = 685094\n",
    "# coordinate_system = 'WGS 84'"
   ]
  },
  {
   "cell_type": "markdown",
   "id": "a4f994a4",
   "metadata": {},
   "source": [
    "#### Common geospatial data types (abbreviated to not assign until used in future exercices.)\n"
   ]
  },
  {
   "cell_type": "code",
   "execution_count": 5,
   "id": "c8041d92",
   "metadata": {
    "vscode": {
     "languageId": "shellscript"
    }
   },
   "outputs": [],
   "source": [
    "num_features = 500 # Integers      Represents # of features in a geospatial dataset\n",
    "latitude = 353.6895 # Float      Represents the latitude of a point on Earth's surface\n",
    "longitude = 139.6917 # Float      Represents the longitude of a point on Earth's surface\n",
    "coordinate_system = 'WGS 84' # String       Represents a commonly used coordinate system\n",
    "is_georegerenced = True # Boolean      Indicates whether a dataset is georeferenced\n",
    "coordinates = [\n",
    "    35.6895,\n",
    "    139.6917,\n",
    "    ]  # List of floats         Represents a pair of latitude and longitude coordinates\n",
    "feature_attributes = {\n",
    "    'name' : 'Mount Fuji',\n",
    "    'height_meters' : 3776,\n",
    "    'type' : 'Stratovolcano',\n",
    "    'location' : [35.606, 138.7274],\n",
    "} # Dictionary    Represents attributes of a geospatial feature"
   ]
  },
  {
   "cell_type": "markdown",
   "id": "a3b1f5fe",
   "metadata": {},
   "source": [
    "#### Escape Characters"
   ]
  },
  {
   "cell_type": "code",
   "execution_count": 6,
   "id": "4fb36b5a",
   "metadata": {
    "vscode": {
     "languageId": "shellscript"
    }
   },
   "outputs": [
    {
     "name": "stdout",
     "output_type": "stream",
     "text": [
      "Hello World!\n",
      "Welcome to GIS Programming.\n",
      "Hello World!\n",
      "\tWelcome to GIS Programming.\n"
     ]
    }
   ],
   "source": [
    "# inserting illegal characters in a string\n",
    "\n",
    "# Inserting a new line\n",
    "print(\"Hello World!\\nWelcome to GIS Programming.\")\n",
    "\n",
    "# Inserting a tab\n",
    "print(\"Hello World!\\n\\tWelcome to GIS Programming.\")"
   ]
  },
  {
   "cell_type": "markdown",
   "id": "a9a6f2e1",
   "metadata": {},
   "source": [
    "#### Working With Variables and Data Types"
   ]
  },
  {
   "cell_type": "code",
   "execution_count": 7,
   "id": "53690fd7",
   "metadata": {
    "vscode": {
     "languageId": "shellscript"
    }
   },
   "outputs": [
    {
     "name": "stdout",
     "output_type": "stream",
     "text": [
      "Updated number of features: 520\n"
     ]
    }
   ],
   "source": [
    "#  Updating a constant to the number of features\n",
    "\n",
    "num_features += 20\n",
    "print(\"Updated number of features:\", num_features)"
   ]
  },
  {
   "cell_type": "code",
   "execution_count": 8,
   "id": "54d57648",
   "metadata": {
    "vscode": {
     "languageId": "shellscript"
    }
   },
   "outputs": [
    {
     "name": "stdout",
     "output_type": "stream",
     "text": [
      "Latitude in radians: 0.6228992833905163\n"
     ]
    }
   ],
   "source": [
    "# import math module above\n",
    "# Conveting latitude fro degrees to radians\n",
    "\n",
    "latitude = 35.6895\n",
    "latitude_radians = math.radians(latitude)\n",
    "print(\"Latitude in radians:\", latitude_radians)"
   ]
  },
  {
   "cell_type": "code",
   "execution_count": 9,
   "id": "9d8afd6e",
   "metadata": {
    "vscode": {
     "languageId": "shellscript"
    }
   },
   "outputs": [
    {
     "name": "stdout",
     "output_type": "stream",
     "text": [
      "Udated coordinates from list: [35.6895, 139.6917, 34.0522, -118.2437]\n"
     ]
    }
   ],
   "source": [
    "# Adding a new coordinates to the list of coordinates using the append() method:\n",
    "\n",
    "coordinates.append(34.0522) # Adding latitude for Los Angeles\n",
    "coordinates.append(-118.2437) # Adding longitude for Los Angeles\n",
    "print(\"Udated coordinates from list:\", coordinates)"
   ]
  },
  {
   "cell_type": "code",
   "execution_count": 10,
   "id": "a4e3c0db",
   "metadata": {
    "vscode": {
     "languageId": "shellscript"
    }
   },
   "outputs": [
    {
     "name": "stdout",
     "output_type": "stream",
     "text": [
      "Mount Fuji is 3776 meters tall.\n"
     ]
    }
   ],
   "source": [
    "# Accessing dictionary elements using the [] operator:\n",
    "\n",
    "mount_fuji_name = feature_attributes['name']\n",
    "mount_fuji_height = feature_attributes['height_meters']\n",
    "print(f'{mount_fuji_name} is {mount_fuji_height} meters tall.')"
   ]
  },
  {
   "cell_type": "markdown",
   "id": "b1abc483",
   "metadata": {},
   "source": [
    "#### Basic String Operations"
   ]
  },
  {
   "cell_type": "code",
   "execution_count": 11,
   "id": "7c469f97",
   "metadata": {
    "vscode": {
     "languageId": "shellscript"
    }
   },
   "outputs": [
    {
     "name": "stdout",
     "output_type": "stream",
     "text": [
      "Lowercase: san francisco\n",
      "Uppercase: SAN FRANCISCO\n",
      "Title case San Francisco\n"
     ]
    }
   ],
   "source": [
    "# Changing Case of Strings\n",
    "\n",
    "city_name = 'SaN FrAncIsco'\n",
    "city_lowercase = city_name.lower()\n",
    "print('Lowercase:', city_lowercase)\n",
    "\n",
    "city_uppercase = city_name.upper()\n",
    "print('Uppercase:', city_uppercase)\n",
    "\n",
    "city_title = city_name.title()\n",
    "print('Title case', city_title)"
   ]
  },
  {
   "cell_type": "code",
   "execution_count": 12,
   "id": "11a78b66",
   "metadata": {
    "vscode": {
     "languageId": "shellscript"
    }
   },
   "outputs": [
    {
     "name": "stdout",
     "output_type": "stream",
     "text": [
      "Original: San Franciso\n",
      "Modified: Los Franciso\n"
     ]
    }
   ],
   "source": [
    "# Replacing Text\n",
    "\n",
    "original_city = 'San Franciso'\n",
    "new_city = original_city.replace('San', 'Los')\n",
    "print('Original:', original_city)\n",
    "print('Modified:', new_city)"
   ]
  },
  {
   "cell_type": "code",
   "execution_count": 13,
   "id": "3d59c316",
   "metadata": {
    "vscode": {
     "languageId": "shellscript"
    }
   },
   "outputs": [
    {
     "name": "stdout",
     "output_type": "stream",
     "text": [
      "Cleaned Mount Everest\n"
     ]
    }
   ],
   "source": [
    "# Other useful string methods\n",
    "location_data = \"  Mount Everest  \"\n",
    "\n",
    "# Remove whiespace\n",
    "\n",
    "clean_location = location_data.strip()\n",
    "print('Cleaned', clean_location)"
   ]
  },
  {
   "cell_type": "markdown",
   "id": "32e2b771",
   "metadata": {},
   "source": [
    "#### Exercises: Variable Assignment and Basic Operations"
   ]
  },
  {
   "cell_type": "markdown",
   "id": "61df6c41",
   "metadata": {},
   "source": [
    "##### Exercise 1: Create variables to store the following geospatial data:\n",
    "\n",
    "The latitude and longitude of New York City: 40.7128, -74.0060.  \n",
    "The population of New York City: 8,336,817.  \n",
    "The area of New York City in square kilometers: 783.8.  \n",
    "\n",
    "Perform the following tasks:  \n",
    "1. Calculate and print the population density of New York City (population per square kilometers).   \n",
    "2. Print the coordinates in the format \"Latitude: [latitude], Longitude: [longitude]\"."
   ]
  },
  {
   "cell_type": "code",
   "execution_count": 14,
   "id": "afd13fea",
   "metadata": {
    "vscode": {
     "languageId": "shellscript"
    }
   },
   "outputs": [],
   "source": [
    "city = 'New York City'\n",
    "latitude = 40.8128\n",
    "longitude = -74.0060\n",
    "population = 8336817\n",
    "area_sqmi = 783.8"
   ]
  },
  {
   "cell_type": "code",
   "execution_count": 15,
   "id": "e4e1b868",
   "metadata": {
    "vscode": {
     "languageId": "shellscript"
    }
   },
   "outputs": [
    {
     "name": "stdout",
     "output_type": "stream",
     "text": [
      "Population per Square Mile: 10636.408522582293\n"
     ]
    }
   ],
   "source": [
    "population_density = (population/area_sqmi)\n",
    "\n",
    "print('Population per Square Mile:', population_density)\n"
   ]
  },
  {
   "cell_type": "code",
   "execution_count": 16,
   "id": "0506d03e",
   "metadata": {
    "vscode": {
     "languageId": "shellscript"
    }
   },
   "outputs": [
    {
     "name": "stdout",
     "output_type": "stream",
     "text": [
      "Latitude: 40.8128\n",
      "Longitude: -74.006\n"
     ]
    }
   ],
   "source": [
    "print('Latitude:', latitude)\n",
    "print('Longitude:', longitude)"
   ]
  },
  {
   "cell_type": "markdown",
   "id": "a8212ec0",
   "metadata": {},
   "source": [
    "##### Exercise 2: Working with Strings  \n",
    "\n",
    "Create a string variable to store thename of a city such as 'New York City'. Perform the following operations:  \n",
    "1. Convert the string to lowercase and print result.  \n",
    "2. Convert the string to uppercase and print result.\n",
    "3. Replace 'New York' with 'Los Angeles' in the city name and print the new string."
   ]
  },
  {
   "cell_type": "code",
   "execution_count": 17,
   "id": "483244cf",
   "metadata": {
    "vscode": {
     "languageId": "shellscript"
    }
   },
   "outputs": [
    {
     "name": "stdout",
     "output_type": "stream",
     "text": [
      "Original: new york city\n",
      "Modified: NEW YORK CITY\n"
     ]
    }
   ],
   "source": [
    "city_lowercase = city.lower()\n",
    "city_uppercase = city.upper()\n",
    "\n",
    "print('Original:', city_lowercase)\n",
    "print('Modified:', city_uppercase)"
   ]
  },
  {
   "cell_type": "code",
   "execution_count": 18,
   "id": "6b35f70f",
   "metadata": {
    "vscode": {
     "languageId": "shellscript"
    }
   },
   "outputs": [
    {
     "name": "stdout",
     "output_type": "stream",
     "text": [
      "Changed from New York City to Los Angeles.\n"
     ]
    }
   ],
   "source": [
    "new_city = city.replace('New York City', 'Los Angeles')\n",
    "print(f'Changed from {city} to {new_city}.')"
   ]
  },
  {
   "cell_type": "markdown",
   "id": "068faf71",
   "metadata": {},
   "source": [
    "### Python Data Structures Chapter 9"
   ]
  },
  {
   "cell_type": "markdown",
   "id": "2c016d37",
   "metadata": {},
   "source": [
    "#### Tuples"
   ]
  },
  {
   "cell_type": "code",
   "execution_count": 19,
   "id": "d79aab9f",
   "metadata": {
    "vscode": {
     "languageId": "shellscript"
    }
   },
   "outputs": [
    {
     "name": "stdout",
     "output_type": "stream",
     "text": [
      "(35.6895, 139.6917)\n"
     ]
    }
   ],
   "source": [
    "# Tuples are created with () with elements separated by a comma.\n",
    "\n",
    "tokyo_point = (\n",
    "    35.6895,\n",
    "    139.6917,\n",
    ")   #Tuple  representing Tokyo's cooridates: (latitude, longitude)\n",
    "\n",
    "print(tokyo_point)"
   ]
  },
  {
   "cell_type": "code",
   "execution_count": 20,
   "id": "0ea3ec8f",
   "metadata": {
    "vscode": {
     "languageId": "shellscript"
    }
   },
   "outputs": [
    {
     "name": "stdout",
     "output_type": "stream",
     "text": [
      "Latitude: 35.6895\n",
      "Longitude: 139.6917\n"
     ]
    }
   ],
   "source": [
    "# Acessing individual elements in a tuple using indexing, where the first element is at index 0: \n",
    "\n",
    "latitude = tokyo_point[0]\n",
    "longitude = tokyo_point[1]\n",
    "\n",
    "print(f'Latitude: {latitude}')\n",
    "print(f'Longitude: {longitude}')"
   ]
  },
  {
   "cell_type": "code",
   "execution_count": 21,
   "id": "4d04123d",
   "metadata": {
    "vscode": {
     "languageId": "shellscript"
    }
   },
   "outputs": [
    {
     "name": "stdout",
     "output_type": "stream",
     "text": [
      "Tokyo is located at 35.6895 N, 139.6917 S.\n"
     ]
    }
   ],
   "source": [
    "# Unpacking tuples into 2 variables\n",
    "\n",
    "lat, lon = tokyo_point\n",
    "print(f'Tokyo is located at {lat} N, {lon} S.')"
   ]
  },
  {
   "cell_type": "code",
   "execution_count": 22,
   "id": "58e9cef2",
   "metadata": {
    "vscode": {
     "languageId": "shellscript"
    }
   },
   "outputs": [
    {
     "name": "stdout",
     "output_type": "stream",
     "text": [
      "New York: (40.7128, -74.006)\n",
      "London: (51.5074, -0.1278)\n",
      "Sydney: (-33.8688, 151.2093)\n"
     ]
    }
   ],
   "source": [
    "# Multiple Cooridates Points as tuples\n",
    "\n",
    "new_york = (40.7128, -74.0060)\n",
    "london = (51.5074, -0.1278)\n",
    "sydney = (-33.8688, 151.2093)\n",
    "\n",
    "print(f'New York: {new_york}')\n",
    "print(f'London: {london}')\n",
    "print(f'Sydney: {sydney}')"
   ]
  },
  {
   "cell_type": "markdown",
   "id": "116cc0c0",
   "metadata": {},
   "source": [
    "#### Lists"
   ]
  },
  {
   "cell_type": "code",
   "execution_count": 23,
   "id": "874aaac8",
   "metadata": {
    "vscode": {
     "languageId": "shellscript"
    }
   },
   "outputs": [
    {
     "name": "stdout",
     "output_type": "stream",
     "text": [
      "Travel route: [(35.6895, 139.6917), (34.0522, -118.2437), (51.5074, -0.1278)]\n"
     ]
    }
   ],
   "source": [
    "# Creating Lists\n",
    "# A list of elevation measurements (in meters)\n",
    "\n",
    "route = [\n",
    "    (35.6895, 139.6917),    # Tokyo\n",
    "    (34.0522, -118.2437),   # Los Angeles\n",
    "    (51.5074, -0.1278),     # London\n",
    "    ]\n",
    "print(\"Travel route:\", route)"
   ]
  },
  {
   "cell_type": "code",
   "execution_count": 24,
   "id": "702f14f5",
   "metadata": {
    "vscode": {
     "languageId": "shellscript"
    }
   },
   "outputs": [
    {
     "name": "stdout",
     "output_type": "stream",
     "text": [
      "Elevation profile: [120.5, 135.2, 150.8, 168.3, 185.7, 203.1]\n"
     ]
    }
   ],
   "source": [
    "# A list of elevation measurements (in meters)\n",
    "\n",
    "elevations = [120.5, 135.2,150.8, 168.3, 185.7, 203.1]\n",
    "print('Elevation profile:', elevations)"
   ]
  },
  {
   "cell_type": "code",
   "execution_count": 25,
   "id": "84748f78",
   "metadata": {
    "vscode": {
     "languageId": "shellscript"
    }
   },
   "outputs": [
    {
     "name": "stdout",
     "output_type": "stream",
     "text": [
      "Cities to visit: ['Tokyo', 'Los Angeles', 'London', 'Paris']\n"
     ]
    }
   ],
   "source": [
    "# A list of city names\n",
    "\n",
    "cities = ['Tokyo', 'Los Angeles', 'London', 'Paris']\n",
    "print(\"Cities to visit:\", cities)"
   ]
  },
  {
   "cell_type": "code",
   "execution_count": 26,
   "id": "a91413ac",
   "metadata": {
    "vscode": {
     "languageId": "shellscript"
    }
   },
   "outputs": [
    {
     "name": "stdout",
     "output_type": "stream",
     "text": [
      "Updated route: [(35.6895, 139.6917), (34.0522, -118.2437), (51.5074, -0.1278), (48.8566, 2.3522)]\n"
     ]
    }
   ],
   "source": [
    "# Add Paris to our travel route\n",
    "\n",
    "route.append((48.8566, 2.3522)) # Adding Paris coordinates\n",
    "print('Updated route:', route)"
   ]
  },
  {
   "cell_type": "code",
   "execution_count": 27,
   "id": "62cb3765",
   "metadata": {
    "vscode": {
     "languageId": "shellscript"
    }
   },
   "outputs": [
    {
     "name": "stdout",
     "output_type": "stream",
     "text": [
      "Updated route: [120.5, 135.2, 150.8, 168.3, 185.7, 203.1, 221.4]\n"
     ]
    }
   ],
   "source": [
    "# Add a new elevation measurement\n",
    "\n",
    "elevations.append(221.4)\n",
    "print('Updated route:', elevations)"
   ]
  },
  {
   "cell_type": "code",
   "execution_count": 28,
   "id": "e8bd010f",
   "metadata": {
    "vscode": {
     "languageId": "shellscript"
    }
   },
   "outputs": [
    {
     "name": "stdout",
     "output_type": "stream",
     "text": [
      "First stop: (35.6895, 139.6917)\n",
      "Last stop: (48.8566, 2.3522)\n"
     ]
    }
   ],
   "source": [
    "# Access the first city in our route\n",
    "\n",
    "first_stop = route[0]\n",
    "print(f'First stop: {first_stop}')\n",
    "\n",
    "# Accessingthe last city using negative indexing\n",
    "last_stop= route[-1]\n",
    "print(f'Last stop: {last_stop}')"
   ]
  },
  {
   "cell_type": "code",
   "execution_count": 29,
   "id": "09edc871",
   "metadata": {
    "vscode": {
     "languageId": "shellscript"
    }
   },
   "outputs": [
    {
     "name": "stdout",
     "output_type": "stream",
     "text": [
      "First two stops: [(35.6895, 139.6917), (34.0522, -118.2437)]\n",
      "Middle elevation readings: [150.8, 168.3, 185.7]\n"
     ]
    }
   ],
   "source": [
    "# Get the first two stops of our route\n",
    "\n",
    "first_two_stops = route[:2]\n",
    "print('First two stops:', first_two_stops)\n",
    "\n",
    "# Get the middle portion of elevation data\n",
    "middle_elevations = elevations[2:5]\n",
    "print('Middle elevation readings:', middle_elevations)"
   ]
  },
  {
   "cell_type": "code",
   "execution_count": 30,
   "id": "cbdd8ecd",
   "metadata": {
    "vscode": {
     "languageId": "shellscript"
    }
   },
   "outputs": [
    {
     "name": "stdout",
     "output_type": "stream",
     "text": [
      "Number of waypoints: 4\n",
      "Highest elevation: 221.4 meters\n",
      "Average elevation: 169.3 meters\n"
     ]
    }
   ],
   "source": [
    "# Find the number of waypoints in our route\n",
    "num_waypoints = len(route)\n",
    "print(f'Number of waypoints: {num_waypoints}')\n",
    "\n",
    "# Find the highest elevation\n",
    "max_elevation = max(elevations)\n",
    "print(f'Highest elevation: {max_elevation} meters')\n",
    "\n",
    "# Calculate average elevation\n",
    "avg_elevation = sum(elevations) / len(elevations)\n",
    "print(f'Average elevation: {avg_elevation:.1f} meters')"
   ]
  },
  {
   "cell_type": "markdown",
   "id": "ecc6f71c",
   "metadata": {},
   "source": [
    "#### Sets"
   ]
  },
  {
   "cell_type": "code",
   "execution_count": 31,
   "id": "24703af2",
   "metadata": {
    "vscode": {
     "languageId": "shellscript"
    }
   },
   "outputs": [
    {
     "name": "stdout",
     "output_type": "stream",
     "text": [
      "Regions visited: {'North America', 'Europe', 'Asia'}\n"
     ]
    }
   ],
   "source": [
    "# Create a set of geographic regions\n",
    "\n",
    "regions_visited = {'North America', 'Europe' ,'Asia'}\n",
    "print('Regions visited:', regions_visited)"
   ]
  },
  {
   "cell_type": "code",
   "execution_count": 32,
   "id": "9015aa72",
   "metadata": {
    "vscode": {
     "languageId": "shellscript"
    }
   },
   "outputs": [
    {
     "name": "stdout",
     "output_type": "stream",
     "text": [
      "Original list: ['US', 'CA', 'MX', 'US']\n",
      "Unique country codes: {'US', 'CA', 'MX'}\n"
     ]
    }
   ],
   "source": [
    "# Create a set from a list (automatically removes duplicates)\n",
    "\n",
    "country_codes = ['US', 'CA', 'MX', 'US']    # Notice the duplicates\n",
    "unique_codes = set(country_codes)           # Will change original [] to {}\n",
    "print('Original list:', country_codes)\n",
    "print('Unique country codes:', unique_codes)"
   ]
  },
  {
   "cell_type": "code",
   "execution_count": 33,
   "id": "7441db5a",
   "metadata": {
    "vscode": {
     "languageId": "shellscript"
    }
   },
   "outputs": [
    {
     "name": "stdout",
     "output_type": "stream",
     "text": [
      "Coordinate reference system: {'ESPG:32633', 'ESPG:3857', 'EPSG:4326'}\n"
     ]
    }
   ],
   "source": [
    "# Create a set of coordinate system codes\n",
    "\n",
    "crs_codes = {'EPSG:4326', 'ESPG:3857', 'ESPG:32633'}\n",
    "print('Coordinate reference system:', crs_codes)"
   ]
  },
  {
   "cell_type": "code",
   "execution_count": 34,
   "id": "8a78e3ca",
   "metadata": {
    "vscode": {
     "languageId": "shellscript"
    }
   },
   "outputs": [
    {
     "name": "stdout",
     "output_type": "stream",
     "text": [
      "Original set: {'North America', 'Europe', 'Asia'}\n",
      "After adding Africa: {'North America', 'Europe', 'Asia', 'Africa'}\n",
      "After trying to add Europe again: {'North America', 'Europe', 'Asia', 'Africa'}\n"
     ]
    }
   ],
   "source": [
    "# Add a new region\n",
    "print('Original set:', regions_visited)\n",
    "regions_visited.add('Africa')\n",
    "print('After adding Africa:', regions_visited)\n",
    "\n",
    "# Adding a duplicate region\n",
    "regions_visited.add('Europe')\n",
    "print('After trying to add Europe again:', regions_visited)"
   ]
  },
  {
   "cell_type": "code",
   "execution_count": 35,
   "id": "64a273ed",
   "metadata": {
    "vscode": {
     "languageId": "shellscript"
    }
   },
   "outputs": [
    {
     "name": "stdout",
     "output_type": "stream",
     "text": [
      "Species in Area A: {'pine', 'maple', 'oak', 'birch'}\n",
      "Species in Area B: {'fir', 'pine', 'cedar', 'birch'}\n",
      "Species found in both areas; {'pine', 'birch'}\n",
      "Species only in Area A: {'maple', 'oak'}\n",
      "All species found: {'fir', 'cedar', 'pine', 'oak', 'birch', 'maple'}\n"
     ]
    }
   ],
   "source": [
    "# Two different survey areas with their observed species\n",
    "\n",
    "area_a_species = {'oak', 'pine', 'maple', 'birch'}\n",
    "area_b_species = {'pine', 'birch', 'cedar', 'fir'}\n",
    "\n",
    "print('Species in Area A:', area_a_species)\n",
    "print('Species in Area B:', area_b_species)\n",
    "\n",
    "# Find species common to both areas\n",
    "common_species = area_a_species.intersection(area_b_species)\n",
    "print('Species found in both areas;', common_species)\n",
    "\n",
    "# Find species unique to Area A\n",
    "unique_to_a = area_a_species - area_b_species\n",
    "print('Species only in Area A:', unique_to_a)\n",
    "\n",
    "# Find all species across both areas\n",
    "all_species = area_a_species.union(area_b_species)\n",
    "print('All species found:', all_species)"
   ]
  },
  {
   "cell_type": "code",
   "execution_count": 36,
   "id": "ae06c3a9",
   "metadata": {
    "vscode": {
     "languageId": "shellscript"
    }
   },
   "outputs": [
    {
     "name": "stdout",
     "output_type": "stream",
     "text": [
      "We have visited Asia.\n",
      "Antarcica not yet visited.\n"
     ]
    }
   ],
   "source": [
    "# Check if we've visited a particular region\n",
    "\n",
    "if 'Asia' in regions_visited:\n",
    "    print('We have visited Asia.')\n",
    "if 'Antarctica' in regions_visited:\n",
    "    print('We have visited Antarctica.')\n",
    "else:\n",
    "    print('Antarcica not yet visited.')"
   ]
  },
  {
   "cell_type": "markdown",
   "id": "a34a47ee",
   "metadata": {},
   "source": [
    "#### Dictionaries"
   ]
  },
  {
   "cell_type": "code",
   "execution_count": 37,
   "id": "c1e75d1a",
   "metadata": {
    "vscode": {
     "languageId": "shellscript"
    }
   },
   "outputs": [
    {
     "name": "stdout",
     "output_type": "stream",
     "text": [
      "Tokyo information: {'name': 'Tokyo', 'population': 13929286, 'coordinates': (35.6895, 139.6917), 'country': 'Japan', 'established': 1603}\n"
     ]
    }
   ],
   "source": [
    "# Dictionary storing attributes of a city\n",
    "\n",
    "tokyo_info = {\n",
    "    'name': 'Tokyo',\n",
    "    'population': 13929286,\n",
    "    'coordinates': (35.6895, 139.6917),\n",
    "    'country': 'Japan',\n",
    "    'established': 1603, \n",
    "}\n",
    "print('Tokyo information:', tokyo_info)"
   ]
  },
  {
   "cell_type": "code",
   "execution_count": 38,
   "id": "de4518a4",
   "metadata": {
    "vscode": {
     "languageId": "shellscript"
    }
   },
   "outputs": [
    {
     "name": "stdout",
     "output_type": "stream",
     "text": [
      "Survey point data: {'point_id': 'SP001', 'latitude': 40.7589, 'longitude': -73.9851, 'elevation': 87.3, 'land_cover': 'urban', 'data_surveyed': '2023-06-15'}\n"
     ]
    }
   ],
   "source": [
    "# Dictionary for a geographic survey point\n",
    "\n",
    "survey_points = {\n",
    "    'point_id': 'SP001',\n",
    "    'latitude': 40.7589,\n",
    "    'longitude': -73.9851,\n",
    "    'elevation': 87.3,\n",
    "    'land_cover': 'urban',\n",
    "    'data_surveyed': '2023-06-15',\n",
    "}\n",
    "print('Survey point data:', survey_points)"
   ]
  },
  {
   "cell_type": "code",
   "execution_count": 39,
   "id": "9587de63",
   "metadata": {
    "vscode": {
     "languageId": "shellscript"
    }
   },
   "outputs": [
    {
     "name": "stdout",
     "output_type": "stream",
     "text": [
      "City: Tokyo\n",
      "Population: 13929286\n",
      "Coordinates: (35.6895, 139.6917)\n"
     ]
    }
   ],
   "source": [
    "# Access specific information about Tokyo\n",
    "\n",
    "city_name = tokyo_info['name']\n",
    "city_population = tokyo_info['population']\n",
    "city_coords = tokyo_info['coordinates']\n",
    "\n",
    "print(f'City: {city_name}')\n",
    "print(f'Population: {city_population}')\n",
    "print(f'Coordinates: {city_coords}')"
   ]
  },
  {
   "cell_type": "code",
   "execution_count": 40,
   "id": "f014aaad",
   "metadata": {
    "vscode": {
     "languageId": "shellscript"
    }
   },
   "outputs": [
    {
     "name": "stdout",
     "output_type": "stream",
     "text": [
      "Area: Not specified\n",
      "Timezone: Unknown\n"
     ]
    }
   ],
   "source": [
    "# Safe access to dictionary values\n",
    "\n",
    "area = tokyo_info.get('area_km2', 'Not specified')\n",
    "timezone = tokyo_info.get('timezone', 'Unknown')\n",
    "\n",
    "print(f'Area: {area}')\n",
    "print(f'Timezone: {timezone}')"
   ]
  },
  {
   "cell_type": "code",
   "execution_count": 41,
   "id": "e1f7d8a0",
   "metadata": {
    "vscode": {
     "languageId": "shellscript"
    }
   },
   "outputs": [
    {
     "name": "stdout",
     "output_type": "stream",
     "text": [
      "Updated Tokyo info: {'name': 'Tokyo', 'population': 14000000, 'coordinates': (35.6895, 139.6917), 'country': 'Japan', 'established': 1603, 'area_km2': 2191, 'timezone': 'JST'}\n"
     ]
    }
   ],
   "source": [
    "# Add new information to our Tokyo dictionary\n",
    "\n",
    "tokyo_info['area_km2'] = 2191\n",
    "tokyo_info['timezone'] = \"JST\"\n",
    "tokyo_info['population'] = 14000000     # Update population\n",
    "\n",
    "print('Updated Tokyo info:', tokyo_info)"
   ]
  },
  {
   "cell_type": "code",
   "execution_count": 42,
   "id": "dc8636da",
   "metadata": {
    "vscode": {
     "languageId": "shellscript"
    }
   },
   "outputs": [
    {
     "name": "stdout",
     "output_type": "stream",
     "text": [
      "France's capital: Paris\n",
      "Population: 2161000\n"
     ]
    }
   ],
   "source": [
    "# Collection of world capitals\n",
    "world_capitals = {\n",
    "    'Japan': {\n",
    "        'capital': 'Tokyo',\n",
    "        'coordinates': (35.6895, 139.6917),\n",
    "        'population': 13929286,\n",
    "    },\n",
    "    'France': {\n",
    "        'capital': 'Paris',\n",
    "        'coordinates': (48.8566, 2.3522),\n",
    "        'population': 2161000,\n",
    "    },\n",
    "    'UK': {\n",
    "        'capital': 'London',\n",
    "        'coordinates': (51.5074, -0.1278),\n",
    "        'population': 8982000,\n",
    "    },\n",
    "}\n",
    "\n",
    "# Access information about France's capital\n",
    "france_info = world_capitals['France']\n",
    "print(f\"France's capital: {france_info['capital']}\")\n",
    "print(f\"Population: {france_info['population']}\")"
   ]
  },
  {
   "cell_type": "code",
   "execution_count": 43,
   "id": "0ee595fc",
   "metadata": {
    "vscode": {
     "languageId": "shellscript"
    }
   },
   "outputs": [
    {
     "name": "stdout",
     "output_type": "stream",
     "text": [
      "Keys in tokyo_info: ['name', 'population', 'coordinates', 'country', 'established', 'area_km2', 'timezone']\n",
      "Values in tokyo_info: ['Tokyo', 14000000, (35.6895, 139.6917), 'Japan', 1603, 2191, 'JST']\n",
      "Coordinate information is available\n",
      "Countries in our database ['Japan', 'France', 'UK']\n"
     ]
    }
   ],
   "source": [
    "# Explore the structure of our Tokyo dictionary\n",
    "\n",
    "print('Keys in tokyo_info:', list(tokyo_info.keys()))\n",
    "print('Values in tokyo_info:', list(tokyo_info.values()))\n",
    "\n",
    "# Check if a key exists\n",
    "\n",
    "if 'coordinates' in tokyo_info:\n",
    "    print('Coordinate information is available')\n",
    "\n",
    "# Get all coordinates in our capitals dictionary\n",
    "\n",
    "countries = list(world_capitals.keys())\n",
    "print('Countries in our database', countries)"
   ]
  },
  {
   "cell_type": "code",
   "execution_count": 44,
   "id": "49a2c300",
   "metadata": {
    "vscode": {
     "languageId": "shellscript"
    }
   },
   "outputs": [
    {
     "name": "stdout",
     "output_type": "stream",
     "text": [
      "Waypoint:Trail Start\n",
      "Location:45.3311, -121.7113\n",
      "Elevation:1200\n",
      "Available facilities: parking, restrooms, water\n"
     ]
    }
   ],
   "source": [
    "# GPS waypoint with comprehensive metadata\n",
    "\n",
    "waypoint = {\n",
    "    'id': 'WP001',\n",
    "    'name': 'Trail Start',\n",
    "    'latitude': 45.3311,\n",
    "    'longitude': -121.7113,\n",
    "    'elevation': 1200,\n",
    "    'description': 'Beginning of Pacific Crest Trail section',\n",
    "    'waypoint_type': 'trailhead',\n",
    "    'facilities': ['parking', 'restrooms', 'water'],\n",
    "    'difficulty': 'easy',\n",
    "}\n",
    "\n",
    "print(f'Waypoint:{waypoint['name']}')\n",
    "print(f'Location:{waypoint['latitude']}, {waypoint['longitude']}')\n",
    "print(f'Elevation:{waypoint['elevation']}')\n",
    "print(f'Available facilities: {', '.join(waypoint['facilities'])}')"
   ]
  },
  {
   "cell_type": "markdown",
   "id": "09da365d",
   "metadata": {},
   "source": [
    "#### Exercises"
   ]
  },
  {
   "cell_type": "markdown",
   "id": "a4d16348",
   "metadata": {},
   "source": [
    "##### Exercise 1: Using Lists"
   ]
  },
  {
   "cell_type": "markdown",
   "id": "5a72a264",
   "metadata": {},
   "source": [
    "##### Exercise 2: Using Tuples"
   ]
  },
  {
   "cell_type": "markdown",
   "id": "c7f2ff2c",
   "metadata": {},
   "source": [
    "##### Exercise 3: Working with Sets"
   ]
  },
  {
   "cell_type": "markdown",
   "id": "4d80c5b2",
   "metadata": {},
   "source": [
    "##### Exercise 4: Working with Dictionaries"
   ]
  },
  {
   "cell_type": "markdown",
   "id": "3955f513",
   "metadata": {
    "editable": true,
    "slideshow": {
     "slide_type": ""
    },
    "tags": []
   },
   "source": [
    "##### Exercise 5: Nested Data Structures"
   ]
  }
 ],
 "metadata": {
  "kernelspec": {
   "display_name": "geo (Python)",
   "language": "python",
   "name": "geo"
  },
  "language_info": {
   "codemirror_mode": {
    "name": "ipython",
    "version": 3
   },
   "file_extension": ".py",
   "mimetype": "text/x-python",
   "name": "python",
   "nbconvert_exporter": "python",
   "pygments_lexer": "ipython3",
   "version": "3.12.9"
  }
 },
 "nbformat": 4,
 "nbformat_minor": 5
}
