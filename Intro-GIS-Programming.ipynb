{
 "cells": [
  {
   "cell_type": "markdown",
   "id": "080357ab",
   "metadata": {},
   "source": [
    "# GIS Programming\n",
    "ODU Fall 2025   \n",
    "GEOG 600 -> GEOG 697  \n",
    "Instructor: Dr. Tom Allen  \n",
    "Resource: Introduction to GIS Programming: A Practical Python Guide to Open Source Geospatial Tools by Qiusheng Wu\n",
    "## Created by Briana Johnson\n",
    "This notebook serves to execute geospatial practice and challenge exercises as I work through the book.  "
   ]
  },
  {
   "cell_type": "code",
   "execution_count": null,
   "id": "93b305b3",
   "metadata": {},
   "outputs": [],
   "source": []
  }
 ],
 "metadata": {
  "kernelspec": {
   "display_name": "geo",
   "language": "python",
   "name": "python3"
  },
  "language_info": {
   "name": "python",
   "version": "3.12.9"
  }
 },
 "nbformat": 4,
 "nbformat_minor": 5
}
