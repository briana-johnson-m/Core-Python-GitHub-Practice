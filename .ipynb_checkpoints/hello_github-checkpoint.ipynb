{
 "cells": [
  {
   "cell_type": "code",
   "execution_count": 1,
   "id": "0606bb64-a983-4c95-8dd9-9b0924e06519",
   "metadata": {},
   "outputs": [
    {
     "name": "stdout",
     "output_type": "stream",
     "text": [
      "Hello GitHub! This is my first commit.\n"
     ]
    }
   ],
   "source": [
    "print(\"Hello GitHub! This is my first commit.\")"
   ]
  },
  {
   "cell_type": "markdown",
   "id": "49c66d61-2396-4480-a701-77a6cd51e34d",
   "metadata": {},
   "source": [
    "# Core Python & GitHub Practice"
   ]
  },
  {
   "cell_type": "markdown",
   "id": "8d14d2a1-c4b7-482e-8889-f285850baf31",
   "metadata": {},
   "source": [
    "### Variables and Printing"
   ]
  },
  {
   "cell_type": "code",
   "execution_count": 10,
   "id": "769e8c20-f041-40f7-8192-c1bca4b35e15",
   "metadata": {},
   "outputs": [
    {
     "name": "stdout",
     "output_type": "stream",
     "text": [
      "Creating a string.\n"
     ]
    }
   ],
   "source": [
    "#Creating a string\n",
    "\n",
    "String = \"Creating a string.\"\n",
    "print(String)"
   ]
  },
  {
   "cell_type": "code",
   "execution_count": 14,
   "id": "d12f56a4-67bb-4830-87e6-38605abe8da5",
   "metadata": {},
   "outputs": [
    {
     "name": "stdout",
     "output_type": "stream",
     "text": [
      "10\n"
     ]
    }
   ],
   "source": [
    "#Creating an integer\n",
    "\n",
    "Integer = 10\n",
    "print(Integer)"
   ]
  },
  {
   "cell_type": "code",
   "execution_count": 16,
   "id": "e02eadd9-2ed7-47bd-99ec-05cd2b66341c",
   "metadata": {},
   "outputs": [
    {
     "name": "stdout",
     "output_type": "stream",
     "text": [
      "3.14\n"
     ]
    }
   ],
   "source": [
    "#Creating a float\n",
    "\n",
    "Float = 3.14\n",
    "print(Float)"
   ]
  },
  {
   "cell_type": "code",
   "execution_count": 18,
   "id": "67b570af-a23e-4be2-b427-1809062a0fa2",
   "metadata": {},
   "outputs": [
    {
     "name": "stdout",
     "output_type": "stream",
     "text": [
      "3\n"
     ]
    }
   ],
   "source": [
    "#Converting float to integer\n",
    "Convert_Float = int(10/3)\n",
    "print(Convert_Float)\n"
   ]
  },
  {
   "cell_type": "code",
   "execution_count": 44,
   "id": "9b6127c1-b017-4cdc-8911-97ef6e15d97a",
   "metadata": {},
   "outputs": [
    {
     "name": "stdout",
     "output_type": "stream",
     "text": [
      "5.0\n"
     ]
    }
   ],
   "source": [
    "#Converting integer to float\n",
    "Convert_Integer = float(10/2)\n",
    "print(Convert_Integer)"
   ]
  },
  {
   "cell_type": "code",
   "execution_count": 22,
   "id": "001826ae-24ed-40a2-a219-d7a5b6839683",
   "metadata": {},
   "outputs": [
    {
     "name": "stdout",
     "output_type": "stream",
     "text": [
      "3\n"
     ]
    }
   ],
   "source": [
    "#Round floats\n",
    "\n",
    "Round = round(3.3333333333333)\n",
    "print(Round)"
   ]
  },
  {
   "cell_type": "code",
   "execution_count": 42,
   "id": "c40e67fd-0b5d-45cc-a82e-edb380188b2a",
   "metadata": {},
   "outputs": [
    {
     "name": "stdout",
     "output_type": "stream",
     "text": [
      "I was able to convert to an float: 5.0, and convert to a integer: 3.\n"
     ]
    }
   ],
   "source": [
    "#Explaing with f-string\n",
    "print(f'I was able to convert to an float: {Convert_Integer}, and convert to a integer: {Convert_Float}.')"
   ]
  },
  {
   "cell_type": "code",
   "execution_count": 50,
   "id": "62a0a897-39fd-43ee-a60f-b32ef9b2e860",
   "metadata": {},
   "outputs": [
    {
     "name": "stdout",
     "output_type": "stream",
     "text": [
      "BRIANA JOHNSON\n",
      "briana johnson\n"
     ]
    }
   ],
   "source": [
    "#Displaying string as all caps and lowercase\n",
    "\n",
    "name = \"Briana Johnson\"\n",
    "capitalized_name = name.upper()\n",
    "lowercased_name = name.lower()\n",
    "print(capitalized_name)\n",
    "print(lowercased_name)"
   ]
  },
  {
   "cell_type": "markdown",
   "id": "95abc972-525a-49f2-8574-5631c4b08594",
   "metadata": {},
   "source": [
    "GitHub Commit"
   ]
  }
 ],
 "metadata": {
  "kernelspec": {
   "display_name": "Python [conda env:base] *",
   "language": "python",
   "name": "conda-base-py"
  },
  "language_info": {
   "codemirror_mode": {
    "name": "ipython",
    "version": 3
   },
   "file_extension": ".py",
   "mimetype": "text/x-python",
   "name": "python",
   "nbconvert_exporter": "python",
   "pygments_lexer": "ipython3",
   "version": "3.12.7"
  }
 },
 "nbformat": 4,
 "nbformat_minor": 5
}
