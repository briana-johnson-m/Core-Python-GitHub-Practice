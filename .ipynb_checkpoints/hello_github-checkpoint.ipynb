{
 "cells": [
  {
   "cell_type": "code",
   "execution_count": 1,
   "id": "0606bb64-a983-4c95-8dd9-9b0924e06519",
   "metadata": {},
   "outputs": [
    {
     "name": "stdout",
     "output_type": "stream",
     "text": [
      "Hello GitHub! This is my first commit.\n"
     ]
    }
   ],
   "source": [
    "print(\"Hello GitHub! This is my first commit.\")\n",
    "#git add .\n",
    "#git commit -m \"Commit Title\"\n",
    "#git push origin main\n"
   ]
  },
  {
   "cell_type": "markdown",
   "id": "49c66d61-2396-4480-a701-77a6cd51e34d",
   "metadata": {},
   "source": [
    "# Core Python & GitHub Practice"
   ]
  },
  {
   "cell_type": "markdown",
   "id": "c7965112-c8d4-478e-8ba9-5b52a34c16a2",
   "metadata": {
    "jp-MarkdownHeadingCollapsed": true
   },
   "source": [
    "## Week 1: Python Refresher"
   ]
  },
  {
   "cell_type": "markdown",
   "id": "8d14d2a1-c4b7-482e-8889-f285850baf31",
   "metadata": {
    "jp-MarkdownHeadingCollapsed": true
   },
   "source": [
    "### Variables and Printing"
   ]
  },
  {
   "cell_type": "code",
   "execution_count": 4,
   "id": "769e8c20-f041-40f7-8192-c1bca4b35e15",
   "metadata": {},
   "outputs": [
    {
     "name": "stdout",
     "output_type": "stream",
     "text": [
      "Creating a string.\n"
     ]
    }
   ],
   "source": [
    "#Creating a string\n",
    "\n",
    "String = \"Creating a string.\"\n",
    "print(String)"
   ]
  },
  {
   "cell_type": "code",
   "execution_count": 5,
   "id": "d12f56a4-67bb-4830-87e6-38605abe8da5",
   "metadata": {},
   "outputs": [
    {
     "name": "stdout",
     "output_type": "stream",
     "text": [
      "10\n"
     ]
    }
   ],
   "source": [
    "#Creating an integer\n",
    "\n",
    "Integer = 10\n",
    "print(Integer)"
   ]
  },
  {
   "cell_type": "code",
   "execution_count": 6,
   "id": "e02eadd9-2ed7-47bd-99ec-05cd2b66341c",
   "metadata": {},
   "outputs": [
    {
     "name": "stdout",
     "output_type": "stream",
     "text": [
      "3.14\n"
     ]
    }
   ],
   "source": [
    "#Creating a float\n",
    "\n",
    "Float = 3.14\n",
    "print(Float)"
   ]
  },
  {
   "cell_type": "code",
   "execution_count": 7,
   "id": "67b570af-a23e-4be2-b427-1809062a0fa2",
   "metadata": {},
   "outputs": [
    {
     "name": "stdout",
     "output_type": "stream",
     "text": [
      "3\n"
     ]
    }
   ],
   "source": [
    "#Converting float to integer\n",
    "Convert_Float = int(10/3)\n",
    "print(Convert_Float)\n"
   ]
  },
  {
   "cell_type": "code",
   "execution_count": 8,
   "id": "9b6127c1-b017-4cdc-8911-97ef6e15d97a",
   "metadata": {},
   "outputs": [
    {
     "name": "stdout",
     "output_type": "stream",
     "text": [
      "5.0\n"
     ]
    }
   ],
   "source": [
    "#Converting integer to float\n",
    "Convert_Integer = float(10/2)\n",
    "print(Convert_Integer)"
   ]
  },
  {
   "cell_type": "code",
   "execution_count": 9,
   "id": "001826ae-24ed-40a2-a219-d7a5b6839683",
   "metadata": {},
   "outputs": [
    {
     "name": "stdout",
     "output_type": "stream",
     "text": [
      "3\n"
     ]
    }
   ],
   "source": [
    "#Round floats\n",
    "\n",
    "Round = round(3.3333333333333)\n",
    "print(Round)"
   ]
  },
  {
   "cell_type": "code",
   "execution_count": 10,
   "id": "c40e67fd-0b5d-45cc-a82e-edb380188b2a",
   "metadata": {},
   "outputs": [
    {
     "name": "stdout",
     "output_type": "stream",
     "text": [
      "I was able to convert to an float: 5.0, and convert to a integer: 3.\n"
     ]
    }
   ],
   "source": [
    "#Explaing with f-string\n",
    "print(f'I was able to convert to an float: {Convert_Integer}, and convert to a integer: {Convert_Float}.')"
   ]
  },
  {
   "cell_type": "code",
   "execution_count": 11,
   "id": "62a0a897-39fd-43ee-a60f-b32ef9b2e860",
   "metadata": {},
   "outputs": [
    {
     "name": "stdout",
     "output_type": "stream",
     "text": [
      "BRIANA JOHNSON\n",
      "briana johnson\n"
     ]
    }
   ],
   "source": [
    "#Displaying string as all caps and lowercase\n",
    "\n",
    "name = \"Briana Johnson\"\n",
    "capitalized_name = name.upper()\n",
    "lowercased_name = name.lower()\n",
    "print(capitalized_name)\n",
    "print(lowercased_name)"
   ]
  },
  {
   "cell_type": "markdown",
   "id": "95abc972-525a-49f2-8574-5631c4b08594",
   "metadata": {},
   "source": [
    "GitHub Commit"
   ]
  },
  {
   "cell_type": "markdown",
   "id": "407afe35-be21-4276-b843-601b296df51a",
   "metadata": {
    "jp-MarkdownHeadingCollapsed": true
   },
   "source": [
    "### List & Loops"
   ]
  },
  {
   "cell_type": "code",
   "execution_count": 14,
   "id": "7d2dd7df-f26a-4fb8-9893-0dddd67eafa8",
   "metadata": {
    "scrolled": true
   },
   "outputs": [
    {
     "name": "stdout",
     "output_type": "stream",
     "text": [
      "['pothos', 'pony tail palm', 'peace lily']\n"
     ]
    },
    {
     "data": {
      "text/plain": [
       "10"
      ]
     },
     "execution_count": 14,
     "metadata": {},
     "output_type": "execute_result"
    }
   ],
   "source": [
    "#Creating a List, determining length\n",
    "plants = ['pothos', 'pony tail palm', 'peace lily', 'fiddle leaf fig', 'eastern red bud', 'vincas', 'jade plant', 'barrel cactus', 'zee zee', 'rose']\n",
    "print(plants[:3])\n",
    "len(plants)"
   ]
  },
  {
   "cell_type": "code",
   "execution_count": 15,
   "id": "11d610e1-e13b-4d94-b0a3-296ef5096a5d",
   "metadata": {},
   "outputs": [
    {
     "name": "stdout",
     "output_type": "stream",
     "text": [
      "false\n",
      "true\n"
     ]
    }
   ],
   "source": [
    "#If/Else\n",
    "\n",
    "if len(plants) > 11:\n",
    "    print('true')\n",
    "else:\n",
    "    print('false')\n",
    "if len(plants) < 11:\n",
    "    print('true')\n",
    "else:\n",
    "    print('false')"
   ]
  },
  {
   "cell_type": "code",
   "execution_count": 16,
   "id": "9ac6922e-1e63-424c-9415-63f6b6d4e3c5",
   "metadata": {},
   "outputs": [
    {
     "name": "stdout",
     "output_type": "stream",
     "text": [
      "pothos\n",
      "pony tail palm\n",
      "peace lily\n",
      "fiddle leaf fig\n",
      "eastern red bud\n",
      "vincas\n",
      "jade plant\n",
      "barrel cactus\n",
      "zee zee\n",
      "rose\n"
     ]
    }
   ],
   "source": [
    "#Loop: prints each item on a new line\n",
    "for plant in plants:\n",
    "    print(plant)"
   ]
  },
  {
   "cell_type": "code",
   "execution_count": 17,
   "id": "0cc87b71-5b2a-4f03-a4a6-f44ac9747b45",
   "metadata": {},
   "outputs": [
    {
     "name": "stdout",
     "output_type": "stream",
     "text": [
      "pothos\n",
      "pony tail palm\n",
      "peace lily\n",
      "fiddle leaf fig\n",
      "eastern red bud\n",
      "vincas\n",
      "jade plant\n",
      "barrel cactus\n",
      "zee zee\n"
     ]
    }
   ],
   "source": [
    "#Loop: prints only plants with names longer than 5 characters\n",
    "\n",
    "for plant in plants:\n",
    "    if len(plant) > 5:\n",
    "        print(plant)"
   ]
  },
  {
   "cell_type": "markdown",
   "id": "f5b7d668-2d46-4f21-9b81-bee529dd43c0",
   "metadata": {},
   "source": [
    "GitHub Commit"
   ]
  },
  {
   "cell_type": "markdown",
   "id": "37d0eda8-8211-4c89-8599-95d9d6c6a211",
   "metadata": {
    "jp-MarkdownHeadingCollapsed": true
   },
   "source": [
    "### Functions "
   ]
  },
  {
   "cell_type": "code",
   "execution_count": 20,
   "id": "12c52a3f-07ad-41d1-a417-8de5aee2428f",
   "metadata": {},
   "outputs": [
    {
     "name": "stdout",
     "output_type": "stream",
     "text": [
      "10 peace lily\n",
      "10 jade plant\n",
      "13 barrel cactus\n",
      "14 pony tail palm\n",
      "15 fiddle leaf fig\n",
      "15 eastern red bud\n"
     ]
    }
   ],
   "source": [
    "# Function to count and sort long names and returns how many plants are longer than 7 letters\n",
    "for plant in sorted(plants, key=len):\n",
    "    if len(plant) > 7:\n",
    "        print(len((plant)), (plant))\n",
    "        "
   ]
  },
  {
   "cell_type": "code",
   "execution_count": 22,
   "id": "f37fc713-9153-40dd-9a3e-f7c931206abf",
   "metadata": {},
   "outputs": [
    {
     "name": "stdout",
     "output_type": "stream",
     "text": [
      "Average length 10.0 cm\n"
     ]
    }
   ],
   "source": [
    "# Function that returns the average number of characters per plant name\n",
    "def average_length(plants):\n",
    "    total_chars = 0\n",
    "    for plant in plants:\n",
    "        total_chars += len(plant)\n",
    "    return total_chars / len(plants)\n",
    "print(f'Average length {average_length(plants)} cm')"
   ]
  },
  {
   "cell_type": "markdown",
   "id": "381e54da-20e5-4663-acbc-5fc964c3313a",
   "metadata": {},
   "source": [
    "Git Commit"
   ]
  },
  {
   "cell_type": "markdown",
   "id": "a28cdaaa-5b9f-47b5-a4d5-9398f9f82c78",
   "metadata": {
    "jp-MarkdownHeadingCollapsed": true
   },
   "source": [
    "### Dictionaries"
   ]
  },
  {
   "cell_type": "code",
   "execution_count": 24,
   "id": "8a9391d5-2ca1-4122-94eb-c3f5aca47475",
   "metadata": {},
   "outputs": [
    {
     "name": "stdout",
     "output_type": "stream",
     "text": [
      "{'pothos': 90, 'pony tail palm': 135, 'peace lily': 60, 'fiddle leaf fig': 210, 'eastern red bud': 750, 'vincas': 30, 'jade plant': 90, 'barrel cactus': 60, 'zee zee': 85, 'rose': 105}\n"
     ]
    }
   ],
   "source": [
    "#Plant dictionary of plant heights in cm\n",
    "\n",
    "plant_dictionary = {\n",
    "    'pothos' : 90,\n",
    "    'pony tail palm' : 135,\n",
    "    'peace lily' : 60,\n",
    "    'fiddle leaf fig' : 210,\n",
    "    'eastern red bud' : 750,\n",
    "    'vincas' : 30,\n",
    "    'jade plant' : 90,\n",
    "    'barrel cactus' : 60,\n",
    "    'zee zee' : 85,\n",
    "    'rose' : 105\n",
    "}\n",
    "print(plant_dictionary)"
   ]
  },
  {
   "cell_type": "code",
   "execution_count": 26,
   "id": "b986726c-f173-4ef1-9cdf-869351904643",
   "metadata": {},
   "outputs": [
    {
     "data": {
      "text/plain": [
       "dict_keys(['pothos', 'pony tail palm', 'peace lily', 'fiddle leaf fig', 'eastern red bud', 'vincas', 'jade plant', 'barrel cactus', 'zee zee', 'rose'])"
      ]
     },
     "execution_count": 26,
     "metadata": {},
     "output_type": "execute_result"
    }
   ],
   "source": [
    "#All keys\n",
    "\n",
    "plant_dictionary.keys()"
   ]
  },
  {
   "cell_type": "code",
   "execution_count": 28,
   "id": "057231ca-6635-4dfa-b0f4-3e79be76dab8",
   "metadata": {},
   "outputs": [
    {
     "data": {
      "text/plain": [
       "dict_values([90, 135, 60, 210, 750, 30, 90, 60, 85, 105])"
      ]
     },
     "execution_count": 28,
     "metadata": {},
     "output_type": "execute_result"
    }
   ],
   "source": [
    "#All values\n",
    "\n",
    "plant_dictionary.values()"
   ]
  },
  {
   "cell_type": "code",
   "execution_count": 30,
   "id": "7484a357-e5d3-4cf0-9ac5-d407b7fad3d7",
   "metadata": {},
   "outputs": [
    {
     "name": "stdout",
     "output_type": "stream",
     "text": [
      "pothos 90\n",
      "pony tail palm 135\n",
      "fiddle leaf fig 210\n",
      "eastern red bud 750\n",
      "jade plant 90\n",
      "rose 105\n"
     ]
    }
   ],
   "source": [
    "# Plants over 85 cm\n",
    "\n",
    "for plant, height in plant_dictionary.items():\n",
    "    if height >85:\n",
    "        print(plant, height)"
   ]
  },
  {
   "cell_type": "markdown",
   "id": "33e764e0-9685-43e5-bed3-62281036e95f",
   "metadata": {},
   "source": [
    "Git Commit"
   ]
  },
  {
   "cell_type": "markdown",
   "id": "66cff86b-baad-4a35-b3ac-dde9a26090a0",
   "metadata": {
    "jp-MarkdownHeadingCollapsed": true
   },
   "source": [
    "### Mini Project"
   ]
  },
  {
   "cell_type": "code",
   "execution_count": 34,
   "id": "defd1520-2f19-48f9-b3d9-27eb47a23a76",
   "metadata": {},
   "outputs": [],
   "source": [
    "#Combining lists, loops, and functions:\n",
    "# Tasks listing 10 fictional daily temperatures\n",
    "# Functions that:\n",
    "#     Print highest temperature\n",
    "#     Print average temperature\n",
    "#     Loop printing \"Hot day\" if temp > 85 else \"Cool day\""
   ]
  },
  {
   "cell_type": "code",
   "execution_count": 40,
   "id": "abad40d9-e34d-4f37-9cf9-eb9ae8eea8a5",
   "metadata": {},
   "outputs": [
    {
     "name": "stdout",
     "output_type": "stream",
     "text": [
      "{'Sunday': 84, 'Monday': 92, 'Tuesday': 86, 'Wednesday': 90, 'Thursday': 96, 'Friday': 101, 'Saturday': 95}\n"
     ]
    }
   ],
   "source": [
    "# Dictionary of 10 daily temperatures Farenheit  \n",
    "\n",
    "daily_temps = {\n",
    "    'Sunday' : 84,\n",
    "    'Monday' : 92,\n",
    "    'Tuesday' : 86,\n",
    "    'Wednesday' : 90,\n",
    "    'Thursday' : 96,\n",
    "    'Friday' : 101,\n",
    "    'Saturday' : 95\n",
    "}\n",
    "print(daily_temps)"
   ]
  },
  {
   "cell_type": "code",
   "execution_count": 42,
   "id": "1b72a67d-d2c5-4cc7-aa25-8ed2ffd13cbc",
   "metadata": {},
   "outputs": [
    {
     "name": "stdout",
     "output_type": "stream",
     "text": [
      "Wednesday 101 F\n"
     ]
    }
   ],
   "source": [
    "#Highest Temperature & Day\n",
    "\n",
    "hotest_temp = max(daily_temps.values())\n",
    "hotest_day = max(daily_temps.keys())\n",
    "print(f'{hotest_day} {hotest_temp} F')"
   ]
  },
  {
   "cell_type": "code",
   "execution_count": 44,
   "id": "7e076cc6-773e-4403-9b6c-30abc3cc9dfe",
   "metadata": {},
   "outputs": [
    {
     "name": "stdout",
     "output_type": "stream",
     "text": [
      "Daily average: 92.0 F\n"
     ]
    }
   ],
   "source": [
    "#Averaage Temperature\n",
    "\n",
    "hotest_temp = daily_temps.values()\n",
    "\n",
    "def average_temp(hotest_temp):\n",
    "    total_temp = 0\n",
    "    for temp in hotest_temp:\n",
    "        total_temp += temp\n",
    "    return total_temp / len(hotest_temp)\n",
    "print(f'Daily average: {average_temp(hotest_temp)} F')"
   ]
  },
  {
   "cell_type": "code",
   "execution_count": 46,
   "id": "f9cfd11e-c548-43e2-aef0-d28573434086",
   "metadata": {},
   "outputs": [
    {
     "name": "stdout",
     "output_type": "stream",
     "text": [
      "Sunday 84 F : Cool day\n",
      "Monday 92 F : Hot day\n",
      "Tuesday 86 F : Cool day\n",
      "Wednesday 90 F : Cool day\n",
      "Thursday 96 F : Hot day\n",
      "Friday 101 F : Hot day\n",
      "Saturday 95 F : Hot day\n"
     ]
    }
   ],
   "source": [
    "#     Loop printing \"Hot day\" if temp > 90 else \"Cool day\"\n",
    "\n",
    "for day, temp in daily_temps.items():\n",
    "    if temp > 90:\n",
    "        print(f'{day} {temp} F : Hot day')\n",
    "    else:\n",
    "        print(f'{day} {temp} F : Cool day')"
   ]
  },
  {
   "cell_type": "markdown",
   "id": "31819ae6-3416-4263-974c-3fe5fb50c224",
   "metadata": {},
   "source": [
    "Git Commit"
   ]
  },
  {
   "cell_type": "markdown",
   "id": "d6af030d-4ea0-4a4d-a909-086ea1edb0bc",
   "metadata": {},
   "source": [
    "## Week 2: Pandas Essentials"
   ]
  },
  {
   "cell_type": "markdown",
   "id": "2a0f4168-8185-430d-b96c-4198353750fb",
   "metadata": {},
   "source": [
    "### Read/Inspect/Save"
   ]
  },
  {
   "cell_type": "code",
   "execution_count": 3,
   "id": "71de7ecb-db24-43b5-b889-cb6505a09012",
   "metadata": {},
   "outputs": [],
   "source": [
    "import pandas as pd"
   ]
  },
  {
   "cell_type": "code",
   "execution_count": 5,
   "id": "2b04845c-2d76-45b3-ab9f-38cf8d3ae9df",
   "metadata": {},
   "outputs": [
    {
     "data": {
      "text/html": [
       "<div>\n",
       "<style scoped>\n",
       "    .dataframe tbody tr th:only-of-type {\n",
       "        vertical-align: middle;\n",
       "    }\n",
       "\n",
       "    .dataframe tbody tr th {\n",
       "        vertical-align: top;\n",
       "    }\n",
       "\n",
       "    .dataframe thead th {\n",
       "        text-align: right;\n",
       "    }\n",
       "</style>\n",
       "<table border=\"1\" class=\"dataframe\">\n",
       "  <thead>\n",
       "    <tr style=\"text-align: right;\">\n",
       "      <th></th>\n",
       "      <th>plant</th>\n",
       "      <th>height_cm</th>\n",
       "      <th>city</th>\n",
       "      <th>watered</th>\n",
       "      <th>date</th>\n",
       "      <th>light_need</th>\n",
       "      <th>room</th>\n",
       "    </tr>\n",
       "  </thead>\n",
       "  <tbody>\n",
       "    <tr>\n",
       "      <th>0</th>\n",
       "      <td>pothos</td>\n",
       "      <td>95.0</td>\n",
       "      <td>Austin</td>\n",
       "      <td>True</td>\n",
       "      <td>2025-07-01</td>\n",
       "      <td>Low</td>\n",
       "      <td>Living</td>\n",
       "    </tr>\n",
       "    <tr>\n",
       "      <th>1</th>\n",
       "      <td>peace lily</td>\n",
       "      <td>58.0</td>\n",
       "      <td>Austin</td>\n",
       "      <td>False</td>\n",
       "      <td>2025-07-03</td>\n",
       "      <td>Low</td>\n",
       "      <td>Bedroom</td>\n",
       "    </tr>\n",
       "    <tr>\n",
       "      <th>2</th>\n",
       "      <td>jade plant</td>\n",
       "      <td>82.0</td>\n",
       "      <td>Dallas</td>\n",
       "      <td>True</td>\n",
       "      <td>2025-07-05</td>\n",
       "      <td>Medium</td>\n",
       "      <td>Office</td>\n",
       "    </tr>\n",
       "    <tr>\n",
       "      <th>3</th>\n",
       "      <td>barrel cactus</td>\n",
       "      <td>62.0</td>\n",
       "      <td>Dallas</td>\n",
       "      <td>False</td>\n",
       "      <td>2025-07-06</td>\n",
       "      <td>High</td>\n",
       "      <td>Kitchen</td>\n",
       "    </tr>\n",
       "    <tr>\n",
       "      <th>4</th>\n",
       "      <td>ZZ plant</td>\n",
       "      <td>89.0</td>\n",
       "      <td>San Antonio</td>\n",
       "      <td>True</td>\n",
       "      <td>2025-07-08</td>\n",
       "      <td>Low</td>\n",
       "      <td>Hall</td>\n",
       "    </tr>\n",
       "  </tbody>\n",
       "</table>\n",
       "</div>"
      ],
      "text/plain": [
       "           plant  height_cm         city  watered        date light_need  \\\n",
       "0         pothos       95.0       Austin     True  2025-07-01        Low   \n",
       "1     peace lily       58.0       Austin    False  2025-07-03        Low   \n",
       "2     jade plant       82.0       Dallas     True  2025-07-05     Medium   \n",
       "3  barrel cactus       62.0       Dallas    False  2025-07-06       High   \n",
       "4       ZZ plant       89.0  San Antonio     True  2025-07-08        Low   \n",
       "\n",
       "      room  \n",
       "0   Living  \n",
       "1  Bedroom  \n",
       "2   Office  \n",
       "3  Kitchen  \n",
       "4     Hall  "
      ]
     },
     "execution_count": 5,
     "metadata": {},
     "output_type": "execute_result"
    }
   ],
   "source": [
    "df = pd.read_csv(\"plants.csv\")\n",
    "df.head()"
   ]
  },
  {
   "cell_type": "code",
   "execution_count": 11,
   "id": "addc0a65-c4cc-4db4-9dec-f0472e297e20",
   "metadata": {},
   "outputs": [
    {
     "data": {
      "text/html": [
       "<div>\n",
       "<style scoped>\n",
       "    .dataframe tbody tr th:only-of-type {\n",
       "        vertical-align: middle;\n",
       "    }\n",
       "\n",
       "    .dataframe tbody tr th {\n",
       "        vertical-align: top;\n",
       "    }\n",
       "\n",
       "    .dataframe thead th {\n",
       "        text-align: right;\n",
       "    }\n",
       "</style>\n",
       "<table border=\"1\" class=\"dataframe\">\n",
       "  <thead>\n",
       "    <tr style=\"text-align: right;\">\n",
       "      <th></th>\n",
       "      <th>plant</th>\n",
       "      <th>height_cm</th>\n",
       "      <th>city</th>\n",
       "      <th>watered</th>\n",
       "      <th>date</th>\n",
       "      <th>light_need</th>\n",
       "      <th>room</th>\n",
       "    </tr>\n",
       "  </thead>\n",
       "  <tbody>\n",
       "    <tr>\n",
       "      <th>20</th>\n",
       "      <td>haworthia</td>\n",
       "      <td>25.0</td>\n",
       "      <td>Dallas</td>\n",
       "      <td>False</td>\n",
       "      <td>2025-07-28</td>\n",
       "      <td>High</td>\n",
       "      <td>Office</td>\n",
       "    </tr>\n",
       "    <tr>\n",
       "      <th>21</th>\n",
       "      <td>pothos</td>\n",
       "      <td>NaN</td>\n",
       "      <td>Austin</td>\n",
       "      <td>True</td>\n",
       "      <td>2025-07-29</td>\n",
       "      <td>Low</td>\n",
       "      <td>Hall</td>\n",
       "    </tr>\n",
       "    <tr>\n",
       "      <th>22</th>\n",
       "      <td>ZZ plant</td>\n",
       "      <td>88.0</td>\n",
       "      <td>Austin</td>\n",
       "      <td>False</td>\n",
       "      <td>2025-07-30</td>\n",
       "      <td>NaN</td>\n",
       "      <td>Bedroom</td>\n",
       "    </tr>\n",
       "    <tr>\n",
       "      <th>23</th>\n",
       "      <td>rubber plant</td>\n",
       "      <td>118.0</td>\n",
       "      <td>Dallas</td>\n",
       "      <td>True</td>\n",
       "      <td>2025-07-31</td>\n",
       "      <td>Medium</td>\n",
       "      <td>Office</td>\n",
       "    </tr>\n",
       "    <tr>\n",
       "      <th>24</th>\n",
       "      <td>peace lily</td>\n",
       "      <td>59.0</td>\n",
       "      <td>Houston</td>\n",
       "      <td>False</td>\n",
       "      <td>2025-08-01</td>\n",
       "      <td>Low</td>\n",
       "      <td>Living</td>\n",
       "    </tr>\n",
       "  </tbody>\n",
       "</table>\n",
       "</div>"
      ],
      "text/plain": [
       "           plant  height_cm     city  watered        date light_need     room\n",
       "20     haworthia       25.0   Dallas    False  2025-07-28       High   Office\n",
       "21        pothos        NaN   Austin     True  2025-07-29        Low     Hall\n",
       "22      ZZ plant       88.0   Austin    False  2025-07-30        NaN  Bedroom\n",
       "23  rubber plant      118.0   Dallas     True  2025-07-31     Medium   Office\n",
       "24    peace lily       59.0  Houston    False  2025-08-01        Low   Living"
      ]
     },
     "execution_count": 11,
     "metadata": {},
     "output_type": "execute_result"
    }
   ],
   "source": [
    "df.tail()"
   ]
  },
  {
   "cell_type": "code",
   "execution_count": 15,
   "id": "375985fc-1f2e-4dae-8660-1889ab302d3e",
   "metadata": {},
   "outputs": [
    {
     "name": "stdout",
     "output_type": "stream",
     "text": [
      "<class 'pandas.core.frame.DataFrame'>\n",
      "RangeIndex: 25 entries, 0 to 24\n",
      "Data columns (total 7 columns):\n",
      " #   Column      Non-Null Count  Dtype  \n",
      "---  ------      --------------  -----  \n",
      " 0   plant       25 non-null     object \n",
      " 1   height_cm   24 non-null     float64\n",
      " 2   city        25 non-null     object \n",
      " 3   watered     25 non-null     bool   \n",
      " 4   date        25 non-null     object \n",
      " 5   light_need  24 non-null     object \n",
      " 6   room        25 non-null     object \n",
      "dtypes: bool(1), float64(1), object(5)\n",
      "memory usage: 1.3+ KB\n"
     ]
    }
   ],
   "source": [
    "df.info()"
   ]
  },
  {
   "cell_type": "code",
   "execution_count": 21,
   "id": "c160cadf-5891-4bb5-8d3d-8496a77376b9",
   "metadata": {},
   "outputs": [
    {
     "data": {
      "text/html": [
       "<div>\n",
       "<style scoped>\n",
       "    .dataframe tbody tr th:only-of-type {\n",
       "        vertical-align: middle;\n",
       "    }\n",
       "\n",
       "    .dataframe tbody tr th {\n",
       "        vertical-align: top;\n",
       "    }\n",
       "\n",
       "    .dataframe thead th {\n",
       "        text-align: right;\n",
       "    }\n",
       "</style>\n",
       "<table border=\"1\" class=\"dataframe\">\n",
       "  <thead>\n",
       "    <tr style=\"text-align: right;\">\n",
       "      <th></th>\n",
       "      <th>height_cm</th>\n",
       "    </tr>\n",
       "  </thead>\n",
       "  <tbody>\n",
       "    <tr>\n",
       "      <th>count</th>\n",
       "      <td>24.000000</td>\n",
       "    </tr>\n",
       "    <tr>\n",
       "      <th>mean</th>\n",
       "      <td>90.750000</td>\n",
       "    </tr>\n",
       "    <tr>\n",
       "      <th>std</th>\n",
       "      <td>41.795829</td>\n",
       "    </tr>\n",
       "    <tr>\n",
       "      <th>min</th>\n",
       "      <td>25.000000</td>\n",
       "    </tr>\n",
       "    <tr>\n",
       "      <th>25%</th>\n",
       "      <td>59.750000</td>\n",
       "    </tr>\n",
       "    <tr>\n",
       "      <th>50%</th>\n",
       "      <td>85.000000</td>\n",
       "    </tr>\n",
       "    <tr>\n",
       "      <th>75%</th>\n",
       "      <td>118.500000</td>\n",
       "    </tr>\n",
       "    <tr>\n",
       "      <th>max</th>\n",
       "      <td>205.000000</td>\n",
       "    </tr>\n",
       "  </tbody>\n",
       "</table>\n",
       "</div>"
      ],
      "text/plain": [
       "        height_cm\n",
       "count   24.000000\n",
       "mean    90.750000\n",
       "std     41.795829\n",
       "min     25.000000\n",
       "25%     59.750000\n",
       "50%     85.000000\n",
       "75%    118.500000\n",
       "max    205.000000"
      ]
     },
     "execution_count": 21,
     "metadata": {},
     "output_type": "execute_result"
    }
   ],
   "source": [
    "df.describe()"
   ]
  },
  {
   "cell_type": "code",
   "execution_count": 66,
   "id": "c428bd8e-590a-4454-a17a-b920e5c05b24",
   "metadata": {},
   "outputs": [],
   "source": [
    "# Method chaining: sorting by height & subsetting values\n",
    "df2 = df.sort_values('height_cm', ascending = False).iloc[10:20] "
   ]
  },
  {
   "cell_type": "code",
   "execution_count": 68,
   "id": "f612c13e-7926-4b25-b507-b2e34c605348",
   "metadata": {},
   "outputs": [],
   "source": [
    "# Save filtered subset to csv\n",
    "df2.to_csv('plants_subset.csv')"
   ]
  },
  {
   "cell_type": "code",
   "execution_count": 72,
   "id": "512976d8-7ee1-4af2-bb6e-5885d2d57d22",
   "metadata": {},
   "outputs": [
    {
     "data": {
      "text/html": [
       "<div>\n",
       "<style scoped>\n",
       "    .dataframe tbody tr th:only-of-type {\n",
       "        vertical-align: middle;\n",
       "    }\n",
       "\n",
       "    .dataframe tbody tr th {\n",
       "        vertical-align: top;\n",
       "    }\n",
       "\n",
       "    .dataframe thead th {\n",
       "        text-align: right;\n",
       "    }\n",
       "</style>\n",
       "<table border=\"1\" class=\"dataframe\">\n",
       "  <thead>\n",
       "    <tr style=\"text-align: right;\">\n",
       "      <th></th>\n",
       "      <th>plant</th>\n",
       "      <th>height_cm</th>\n",
       "      <th>city</th>\n",
       "      <th>watered</th>\n",
       "      <th>date</th>\n",
       "      <th>light_need</th>\n",
       "      <th>room</th>\n",
       "    </tr>\n",
       "  </thead>\n",
       "  <tbody>\n",
       "    <tr>\n",
       "      <th>4</th>\n",
       "      <td>ZZ plant</td>\n",
       "      <td>89.0</td>\n",
       "      <td>San Antonio</td>\n",
       "      <td>True</td>\n",
       "      <td>2025-07-08</td>\n",
       "      <td>Low</td>\n",
       "      <td>Hall</td>\n",
       "    </tr>\n",
       "    <tr>\n",
       "      <th>22</th>\n",
       "      <td>ZZ plant</td>\n",
       "      <td>88.0</td>\n",
       "      <td>Austin</td>\n",
       "      <td>False</td>\n",
       "      <td>2025-07-30</td>\n",
       "      <td>NaN</td>\n",
       "      <td>Bedroom</td>\n",
       "    </tr>\n",
       "    <tr>\n",
       "      <th>2</th>\n",
       "      <td>jade plant</td>\n",
       "      <td>82.0</td>\n",
       "      <td>Dallas</td>\n",
       "      <td>True</td>\n",
       "      <td>2025-07-05</td>\n",
       "      <td>Medium</td>\n",
       "      <td>Office</td>\n",
       "    </tr>\n",
       "    <tr>\n",
       "      <th>5</th>\n",
       "      <td>snake plant</td>\n",
       "      <td>77.0</td>\n",
       "      <td>San Antonio</td>\n",
       "      <td>False</td>\n",
       "      <td>2025-07-10</td>\n",
       "      <td>Low</td>\n",
       "      <td>Bedroom</td>\n",
       "    </tr>\n",
       "    <tr>\n",
       "      <th>18</th>\n",
       "      <td>aglaonema</td>\n",
       "      <td>70.0</td>\n",
       "      <td>Houston</td>\n",
       "      <td>True</td>\n",
       "      <td>2025-07-26</td>\n",
       "      <td>Low</td>\n",
       "      <td>Office</td>\n",
       "    </tr>\n",
       "  </tbody>\n",
       "</table>\n",
       "</div>"
      ],
      "text/plain": [
       "          plant  height_cm         city  watered        date light_need  \\\n",
       "4      ZZ plant       89.0  San Antonio     True  2025-07-08        Low   \n",
       "22     ZZ plant       88.0       Austin    False  2025-07-30        NaN   \n",
       "2    jade plant       82.0       Dallas     True  2025-07-05     Medium   \n",
       "5   snake plant       77.0  San Antonio    False  2025-07-10        Low   \n",
       "18    aglaonema       70.0      Houston     True  2025-07-26        Low   \n",
       "\n",
       "       room  \n",
       "4      Hall  \n",
       "22  Bedroom  \n",
       "2    Office  \n",
       "5   Bedroom  \n",
       "18   Office  "
      ]
     },
     "execution_count": 72,
     "metadata": {},
     "output_type": "execute_result"
    }
   ],
   "source": [
    "df2.head()"
   ]
  },
  {
   "cell_type": "markdown",
   "id": "0217f62a-ac55-4ee0-821a-65c46bc31851",
   "metadata": {},
   "source": [
    "Git Commit"
   ]
  },
  {
   "cell_type": "markdown",
   "id": "24731d36-dd7c-4318-bd4f-7f1f4f3701b9",
   "metadata": {},
   "source": [
    "### Selecting & Filtering"
   ]
  },
  {
   "cell_type": "code",
   "execution_count": null,
   "id": "92f64e2c-5562-4254-952d-5db3c94d600e",
   "metadata": {},
   "outputs": [],
   "source": []
  }
 ],
 "metadata": {
  "kernelspec": {
   "display_name": "Python [conda env:base] *",
   "language": "python",
   "name": "conda-base-py"
  },
  "language_info": {
   "codemirror_mode": {
    "name": "ipython",
    "version": 3
   },
   "file_extension": ".py",
   "mimetype": "text/x-python",
   "name": "python",
   "nbconvert_exporter": "python",
   "pygments_lexer": "ipython3",
   "version": "3.12.7"
  }
 },
 "nbformat": 4,
 "nbformat_minor": 5
}
