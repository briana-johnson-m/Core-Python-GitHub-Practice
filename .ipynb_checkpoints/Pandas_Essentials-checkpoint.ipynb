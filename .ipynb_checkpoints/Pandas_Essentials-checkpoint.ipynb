{
 "cells": [
  {
   "cell_type": "markdown",
   "id": "f6601649-8373-4039-aaa0-c84a794ea28e",
   "metadata": {},
   "source": [
    "# Pandas Essentials"
   ]
  },
  {
   "cell_type": "markdown",
   "id": "3b54df04-6461-4fd5-824d-0c091cf23740",
   "metadata": {},
   "source": [
    "### Read/Inspect/Save"
   ]
  },
  {
   "cell_type": "code",
   "execution_count": null,
   "id": "c191f7f3-6a5c-448b-828f-43b118c89bdb",
   "metadata": {},
   "outputs": [],
   "source": [
    "import pandas as pd"
   ]
  },
  {
   "cell_type": "code",
   "execution_count": null,
   "id": "35aa066b-c783-4b79-a0c7-bcc5660d97d8",
   "metadata": {},
   "outputs": [],
   "source": [
    "df = pd.read_csv(\"plants.csv\")\n",
    "df.head()"
   ]
  },
  {
   "cell_type": "code",
   "execution_count": null,
   "id": "31465899-a97e-4541-9836-4227fd5245b2",
   "metadata": {},
   "outputs": [],
   "source": [
    "df.tail()"
   ]
  },
  {
   "cell_type": "code",
   "execution_count": null,
   "id": "6ba72c20-649c-419c-9097-a714c35a09d1",
   "metadata": {},
   "outputs": [],
   "source": [
    "df.info()"
   ]
  },
  {
   "cell_type": "code",
   "execution_count": null,
   "id": "28304ace-d6fc-49ad-afc0-0ff3cf87c76f",
   "metadata": {},
   "outputs": [],
   "source": [
    "df.describe()"
   ]
  },
  {
   "cell_type": "code",
   "execution_count": null,
   "id": "c2c7cda4-08f0-4bbd-a32b-15c4b61ab927",
   "metadata": {},
   "outputs": [],
   "source": [
    "# Method chaining: sorting by height & subsetting values\n",
    "df2 = df.sort_values('height_cm', ascending = False).iloc[10:20] "
   ]
  },
  {
   "cell_type": "code",
   "execution_count": null,
   "id": "a4c276ee-504a-4351-ba8f-9aabfe8ff8b4",
   "metadata": {},
   "outputs": [],
   "source": [
    "# Save filtered subset to csv\n",
    "df2.to_csv('plants_subset.csv')"
   ]
  },
  {
   "cell_type": "code",
   "execution_count": null,
   "id": "22818127-fc95-4275-a510-1f196ea3eb57",
   "metadata": {},
   "outputs": [],
   "source": [
    "df2.head()"
   ]
  },
  {
   "cell_type": "markdown",
   "id": "6af06f05-909b-45cf-a612-84ad45593b26",
   "metadata": {},
   "source": [
    "Git Commit"
   ]
  },
  {
   "cell_type": "markdown",
   "id": "be2fcb05-b057-4f00-8e75-74dcd31493b2",
   "metadata": {},
   "source": [
    "### Selecting & Filtering"
   ]
  }
 ],
 "metadata": {
  "kernelspec": {
   "display_name": "Python [conda env:base] *",
   "language": "python",
   "name": "conda-base-py"
  },
  "language_info": {
   "codemirror_mode": {
    "name": "ipython",
    "version": 3
   },
   "file_extension": ".py",
   "mimetype": "text/x-python",
   "name": "python",
   "nbconvert_exporter": "python",
   "pygments_lexer": "ipython3",
   "version": "3.12.7"
  }
 },
 "nbformat": 4,
 "nbformat_minor": 5
}
