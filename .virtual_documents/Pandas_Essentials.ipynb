





import pandas as pd


df = pd.read_csv("plants.csv")
df.head()


df.tail()


df.info()


df.describe()


# Method chaining: sorting by height & subsetting values
df2 = df.iloc[[0,5,10,15,20], [0,1]].sort_values('height_cm', ascending = False) 
df2.head()


# Save filtered subset to csv
df2.to_csv('plants_subset.csv')








#Selecting specific rows and filtering for heights over 85 cm 
df.query('height_cm > 85').iloc[:,[0,1,5]].sort_values(by='height_cm', ascending=False)


# Rows where plant is in a set

df.iloc[:, [0]].isin(['pothos', 'rubber plant','ZZ plant'])


#Combining conditions with pothos & (and) Austin

df[(df['plant']=='pothos')&(df['city']=='Austin')].iloc[:,[0,2]]


#Combining conditions with pothos | (or) Austin

df[(df['plant']=='pothos')|(df['city']=='Austin')].iloc[:,[0,2]]




