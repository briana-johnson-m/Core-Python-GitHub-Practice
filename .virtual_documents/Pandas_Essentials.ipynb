





import pandas as pd


df = pd.read_csv("plants.csv")
df.head()


df.tail()


df.info()


df.describe()


# Method chaining: sorting by height & subsetting values
df2 = df.iloc[[0,5,10,15,20], [0,1]].sort_values('height_cm', ascending = False) 
df2.head()


# Save filtered subset to csv
df2.to_csv('plants_subset.csv')








#Selecting specific rows and filtering for heights over 85 cm 
df.query('height_cm > 85').iloc[:,[0,1,5]].sort_values(by='height_cm', ascending=False)


# Rows where plant is in a set

df.iloc[:, [0]].isin(['pothos', 'rubber plant','ZZ plant'])


#Combining conditions with pothos & (and) Austin

df[(df['plant']=='pothos')&(df['city']=='Austin')].iloc[:,[0,2]]


#Combining conditions with pothos | (or) Austin

df[(df['plant']=='pothos')|(df['city']=='Austin')].iloc[:,[0,2]]





# Sort by height desc, then by plant asc

df.sort_values('height_cm', ascending=False)


# Sort by plant asc

df.sort_values('plant')


# Convert date column to datetime; extract year, month

df['date'] = pd.to_datetime(df['date'], errors='coerce') #convert 'date' from object to datetime
df['date'].dt.strftime("%Y/%m") #.dt once converted & .strftime to extract components 


#Fill NaN with either (mean/constant) 
df['light_need'].fillna('Medium'),df['height_cm'].fillna(0)





# Average height_cm by plant

df.iloc[:,[0,1]].groupby(['plant']).mean()       


# Multi-agg: min, max, mean of height_cm by city, col 1,2

min_city = df.iloc[:,[1,2]].groupby('city').min()
max_city = df.iloc[:,[1,2]].groupby('city').max()
mean_city = df.iloc[:,[1,2]].groupby('city').mean()

print(f'Min {min_city}, Max {max_city}, Mean {mean_city}')

#clunky option but doesn't put values into one table


# Multi-agg: min, max, mean of height_cm by city ----Simplistic

df.groupby('city')['height_cm'].agg(['min','max','mean']).round(1)   #agg(Function) = place all calculations into agg to find all values


# Multi-agg: min, max, mean of height_cm by city ----CLEANED and Detailed

summary = df.groupby('city')['height_cm'].agg(['min','max','mean']).round(1)  

summary = summary.rename(columns={'min': 'height_cm_min',    #rename for clarity
                                 'max':'height_cm_max',
                                 'mean':'height_cm_mean'})
print(summary)
