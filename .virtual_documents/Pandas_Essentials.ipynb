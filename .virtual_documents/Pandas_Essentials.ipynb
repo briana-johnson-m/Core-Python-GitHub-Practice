





import pandas as pd


df = pd.read_csv("plants.csv")
df.head()


df.tail()


df.info()


df.describe()


# Method chaining: sorting by height & subsetting values
df2 = df.sort_values('height_cm', ascending = False).iloc[10:20] 


# Save filtered subset to csv
df2.to_csv('plants_subset.csv')


df2.head()








#Filtering for heights over 85 cm 
df.query('height_cm > 85').iloc[:,[0,1]].fillna(0).sort_values(by='height_cm', ascending=False)


#Rows where plant is in a set


