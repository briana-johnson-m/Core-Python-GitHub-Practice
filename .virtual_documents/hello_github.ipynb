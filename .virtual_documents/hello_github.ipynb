print("Hello GitHub! This is my first commit.")








#Creating a string

String = "Creating a string."
print(String)


#Creating an integer

Integer = 10
print(Integer)


#Creating a float

Float = 3.14
print(Float)


#Converting float to integer
Convert_Float = int(10/3)
print(Convert_Float)



#Converting integer to float
Convert_Integer = float(10/2)
print(Convert_Integer)


#Round floats

Round = round(3.3333333333333)
print(Round)


#Explaing with f-string
print(f'I was able to convert to an float: {Convert_Integer}, and convert to a integer: {Convert_Float}.')


#Displaying string as all caps and lowercase

name = "Briana Johnson"
capitalized_name = name.upper()
lowercased_name = name.lower()
print(capitalized_name)
print(lowercased_name)








#Creating a List, determining length
plants = ['pothos', 'pony tail palm', 'peace lily', 'fiddle leaf fig', 'eastern red bud', 'vincas', 'jade plant', 'barrel cactus', 'zee zee', 'rose']
print(plants[:3])
len(plants)


#If/Else

if len(plants) > 11:
    print('true')
else:
    print('false')
if len(plants) < 11:
    print('true')
else:
    print('false')


#Loop: prints each item on a new line
for plant in plants:
    print(plant)


#Loop: prints only plants with names longer than 5 characters

for plant in plants:
    if len(plant) > 5:
        print(plant)



