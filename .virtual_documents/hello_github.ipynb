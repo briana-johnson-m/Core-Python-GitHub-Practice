print("Hello GitHub! This is my first commit.")
#git add .
#git commit -m "Commit Title"
#git push origin main









#Creating a string

String = "Creating a string."
print(String)


#Creating an integer

Integer = 10
print(Integer)


#Creating a float

Float = 3.14
print(Float)


#Converting float to integer
Convert_Float = int(10/3)
print(Convert_Float)



#Converting integer to float
Convert_Integer = float(10/2)
print(Convert_Integer)


#Round floats

Round = round(3.3333333333333)
print(Round)


#Explaing with f-string
print(f'I was able to convert to an float: {Convert_Integer}, and convert to a integer: {Convert_Float}.')


#Displaying string as all caps and lowercase

name = "Briana Johnson"
capitalized_name = name.upper()
lowercased_name = name.lower()
print(capitalized_name)
print(lowercased_name)








#Creating a List, determining length
plants = ['pothos', 'pony tail palm', 'peace lily', 'fiddle leaf fig', 'eastern red bud', 'vincas', 'jade plant', 'barrel cactus', 'zee zee', 'rose']
print(plants[:3])
len(plants)


#If/Else

if len(plants) > 11:
    print('true')
else:
    print('false')
if len(plants) < 11:
    print('true')
else:
    print('false')


#Loop: prints each item on a new line
for plant in plants:
    print(plant)


#Loop: prints only plants with names longer than 5 characters

for plant in plants:
    if len(plant) > 5:
        print(plant)








# Function to count and sort long names and returns how many plants are longer than 7 letters
for plant in sorted(plants, key=len):
    if len(plant) > 7:
        print(len((plant)), (plant))
        


# Function that returns the average number of characters per plant name
def average_length(plants):
    total_chars = 0
    for plant in plants:
        total_chars += len(plant)
    return total_chars / len(plants)
print(average_length(plants))








#Plant dictionary of plant heights in cm

plant_dictionary = {
    'pothos' : 90,
    'pony tail palm' : 135,
    'peace lily' : 60,
    'fiddle leaf fig' : 210,
    'eastern red bud' : 750,
    'vincas' : 30,
    'jade plant' : 90,
    'barrel cactus' : 60,
    'zee zee' : 85,
    'rose' : 105
}
print(plant_dictionary)


#All keys

plant_dictionary.keys()


#All values

plant_dictionary.values()


# Plants over 85 cm

for plant, height in plant_dictionary.items():
    if height >85:
        print(plant, height)








#Combining lists, loops, and functions:
# Tasks listing 10 fictional daily temperatures
# Functions that:
#     Print highest temperature
#     Print average temperature
#     Loop printing "Hot day" if temp > 85 else "Cool day"


# Dictionary of 10 daily temperatures Farenheit  

daily_temps = {
    'Sunday' : 84,
    'Monday' : 92,
    'Tuesday' : 86,
    'Wednesday' : 90,
    'Thursday' : 96,
    'Friday' : 101,
    'Saturday' : 95
}
print(daily_temps)


#Highest Temperature & Day

hotest_temp = max(daily_temps.values())
hotest_day = max(daily_temps.keys())
print(hotest_temp, hotest_day)


#Averaage Temperature

hotest_temp = daily_temps.values()

def average_temp(hotest_temp):
    total_temp = 0
    for temp in hotest_temp:
        total_temp += temp
    return total_temp / len(hotest_temp)
print(f'Daily average: {average_temp(hotest_temp)} F')


#     Loop printing "Hot day" if temp > 90 else "Cool day"

day_feel = None
temp_feel = float('-inf')

for day, temp in daily_temps.items():
    if temp > 90:
        print(f'{day}: Hot day')
    else:
        print(f'{day}: Cool day')



